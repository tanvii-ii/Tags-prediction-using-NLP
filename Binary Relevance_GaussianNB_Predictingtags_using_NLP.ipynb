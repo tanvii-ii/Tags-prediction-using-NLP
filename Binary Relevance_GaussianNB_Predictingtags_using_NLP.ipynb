{
 "cells": [
  {
   "cell_type": "code",
   "execution_count": null,
   "metadata": {
    "colab": {
     "base_uri": "https://localhost:8080/"
    },
    "id": "CfkeOsTARbjL",
    "outputId": "58b5a683-7498-4e06-e7ca-d427d3b79cf6"
   },
   "outputs": [],
   "source": [
    "# ! pip install kaggle"
   ]
  },
  {
   "cell_type": "code",
   "execution_count": null,
   "metadata": {
    "id": "pKCJVG-dR8-k"
   },
   "outputs": [],
   "source": [
    "! mkdir ~/.kaggle"
   ]
  },
  {
   "cell_type": "code",
   "execution_count": null,
   "metadata": {
    "id": "ksEMi1SASBEC"
   },
   "outputs": [],
   "source": [
    "! cp kaggle.json ~/.kaggle/\n",
    "#! cp /kaggle.json ~/.kaggle/"
   ]
  },
  {
   "cell_type": "code",
   "execution_count": null,
   "metadata": {
    "id": "pmMMlj6pSFJK"
   },
   "outputs": [],
   "source": [
    "! chmod 600 ~/.kaggle/kaggle.json"
   ]
  },
  {
   "cell_type": "code",
   "execution_count": null,
   "metadata": {
    "colab": {
     "base_uri": "https://localhost:8080/"
    },
    "id": "iATD_ZW-SQaI",
    "outputId": "776d7472-3be0-4a3d-ed3f-e5ab35878ede"
   },
   "outputs": [],
   "source": [
    "! kaggle competitions download facebook-recruiting-iii-keyword-extraction -f Train.zip"
   ]
  },
  {
   "cell_type": "code",
   "execution_count": 3,
   "metadata": {
    "colab": {
     "base_uri": "https://localhost:8080/"
    },
    "id": "VSnCJ-uRSfGC",
    "outputId": "674b53ae-b878-4ce4-e220-faa9e36ea705"
   },
   "outputs": [
    {
     "name": "stderr",
     "output_type": "stream",
     "text": [
      "[nltk_data] Downloading package punkt to\n",
      "[nltk_data]     /N/u/tanakulk/Carbonate/nltk_data...\n",
      "[nltk_data]   Package punkt is already up-to-date!\n",
      "[nltk_data] Downloading package stopwords to\n",
      "[nltk_data]     /N/u/tanakulk/Carbonate/nltk_data...\n",
      "[nltk_data]   Package stopwords is already up-to-date!\n",
      "[nltk_data] Downloading package wordnet to\n",
      "[nltk_data]     /N/u/tanakulk/Carbonate/nltk_data...\n",
      "[nltk_data]   Package wordnet is already up-to-date!\n",
      "[nltk_data] Downloading package averaged_perceptron_tagger to\n",
      "[nltk_data]     /N/u/tanakulk/Carbonate/nltk_data...\n",
      "[nltk_data]   Package averaged_perceptron_tagger is already up-to-\n",
      "[nltk_data]       date!\n"
     ]
    },
    {
     "data": {
      "text/plain": [
       "True"
      ]
     },
     "execution_count": 3,
     "metadata": {},
     "output_type": "execute_result"
    }
   ],
   "source": [
    "import pandas as pd\n",
    "from bs4 import BeautifulSoup\n",
    "import re\n",
    "import nltk\n",
    "from nltk.tokenize import word_tokenize\n",
    "from nltk.corpus import stopwords\n",
    "from nltk.corpus import wordnet as wn\n",
    "from nltk.stem import WordNetLemmatizer\n",
    "from nltk import pos_tag\n",
    "from collections import defaultdict\n",
    "from sklearn.linear_model import LogisticRegression\n",
    "from sklearn.multioutput import ClassifierChain\n",
    "from sklearn.metrics import hamming_loss\n",
    "from sklearn.metrics import accuracy_score\n",
    "from sklearn.metrics import f1_score,precision_score,recall_score\n",
    "from sklearn.metrics import jaccard_score\n",
    "from sklearn.metrics import classification_report\n",
    "import numpy as np\n",
    "import time\n",
    "\n",
    "nltk.download('punkt')\n",
    "nltk.download('stopwords')\n",
    "nltk.download('wordnet')\n",
    "nltk.download('averaged_perceptron_tagger')\n",
    "\n",
    "#pip install scikit-multilearn --upgrade"
   ]
  },
  {
   "cell_type": "code",
   "execution_count": 4,
   "metadata": {
    "colab": {
     "base_uri": "https://localhost:8080/"
    },
    "id": "FmF3a24MUDNy",
    "outputId": "8d120996-e5f9-4b57-f8a9-24cd69be2c63"
   },
   "outputs": [],
   "source": [
    "# ! unzip Train.zip"
   ]
  },
  {
   "cell_type": "code",
   "execution_count": 5,
   "metadata": {
    "id": "8TRileqvT9cl"
   },
   "outputs": [],
   "source": [
    "# from google.colab import drive\n",
    "# drive.mount('/content/drive', force_remount=True)\n",
    "# train_data = pd.read_csv(\"/content/drive/MyDrive/Train/Train.csv\")"
   ]
  },
  {
   "cell_type": "code",
   "execution_count": 6,
   "metadata": {
    "colab": {
     "base_uri": "https://localhost:8080/"
    },
    "id": "0g9k_np3374B",
    "outputId": "6482414b-57ec-486d-be80-3dbfb0a6fd66"
   },
   "outputs": [
    {
     "data": {
      "text/plain": [
       "6034195"
      ]
     },
     "execution_count": 6,
     "metadata": {},
     "output_type": "execute_result"
    }
   ],
   "source": [
    "train_data = pd.read_csv(\"Train.csv\")\n",
    "len(train_data)"
   ]
  },
  {
   "cell_type": "markdown",
   "metadata": {},
   "source": [
    "Dropping duplicate values present in the dataset"
   ]
  },
  {
   "cell_type": "code",
   "execution_count": 7,
   "metadata": {
    "colab": {
     "base_uri": "https://localhost:8080/"
    },
    "id": "2mw8QmzbUlet",
    "outputId": "844f9c1e-36c0-4584-d012-2dff31e61200"
   },
   "outputs": [
    {
     "data": {
      "text/plain": [
       "4186184"
      ]
     },
     "execution_count": 7,
     "metadata": {},
     "output_type": "execute_result"
    }
   ],
   "source": [
    "data = train_data.drop_duplicates(subset = [\"Title\",\"Tags\"])\n",
    "len(data)"
   ]
  },
  {
   "cell_type": "markdown",
   "metadata": {
    "id": "tTwE0GKzgPNm"
   },
   "source": [
    "Dropping rows with no tags"
   ]
  },
  {
   "cell_type": "code",
   "execution_count": 8,
   "metadata": {
    "colab": {
     "base_uri": "https://localhost:8080/"
    },
    "id": "7CFHYti3frep",
    "outputId": "26066ea4-2107-41d4-ad63-53dc8fc2f9a3"
   },
   "outputs": [
    {
     "data": {
      "text/plain": [
       "7"
      ]
     },
     "execution_count": 8,
     "metadata": {},
     "output_type": "execute_result"
    }
   ],
   "source": [
    "data['Tags'].isna().sum()"
   ]
  },
  {
   "cell_type": "code",
   "execution_count": 9,
   "metadata": {
    "id": "alzr7i5DgrpW"
   },
   "outputs": [],
   "source": [
    "data = data.dropna(subset=['Tags'])"
   ]
  },
  {
   "cell_type": "markdown",
   "metadata": {
    "id": "skb3Ie5Bmi6Y"
   },
   "source": [
    "Using 200k records for computation purposes"
   ]
  },
  {
   "cell_type": "code",
   "execution_count": 10,
   "metadata": {
    "id": "vwWLKoJVViUt"
   },
   "outputs": [],
   "source": [
    "data_split = data.loc[:100000]"
   ]
  },
  {
   "cell_type": "code",
   "execution_count": 11,
   "metadata": {
    "id": "Vxym5G3laDQ8"
   },
   "outputs": [],
   "source": [
    "data_split = data_split.reset_index(drop = True)"
   ]
  },
  {
   "cell_type": "markdown",
   "metadata": {
    "id": "lI3iie-mmqic"
   },
   "source": [
    "function to perform Lemmatization using WordNetLemmatizer"
   ]
  },
  {
   "cell_type": "code",
   "execution_count": 12,
   "metadata": {
    "id": "ed38DKiKN7Nh"
   },
   "outputs": [],
   "source": [
    "def lemmatize(name):\n",
    "    tag_map = defaultdict(lambda : wn.NOUN)\n",
    "    tag_map['J'] = wn.ADJ\n",
    "    tag_map['V'] = wn.VERB\n",
    "    tag_map['R'] = wn.ADV\n",
    "\n",
    "    lemmatizer = WordNetLemmatizer()\n",
    "\n",
    "    lemmatized = []\n",
    "\n",
    "    for i in range(len(data_split)):\n",
    "      ls = \"\"\n",
    "      for word, tag in pos_tag(data_split[name][i]):\n",
    "        ls += \" \" + lemmatizer.lemmatize(word, tag_map[tag[0]])\n",
    "      lemmatized.append(ls)\n",
    "    return lemmatized"
   ]
  },
  {
   "cell_type": "markdown",
   "metadata": {
    "id": "zHTMcOJUN7ei"
   },
   "source": [
    "Function to complete the following pre-processnig steps:\n",
    "1. Remove HTML tags using Beautiful Soup\n",
    "2. Remove special characters using regular expressions\n",
    "3. Convert text to its lower form\n",
    "4. Tokenize the text\n",
    "5. Removing stopwords except 'C' and 'R'\n",
    "6. Performing Lemmatization"
   ]
  },
  {
   "cell_type": "code",
   "execution_count": 13,
   "metadata": {
    "id": "9YKFa9XaaSca"
   },
   "outputs": [],
   "source": [
    "def preprocessing(columnname, name):\n",
    "    \n",
    "    cleantext = []\n",
    "    for i in range(len(data_split)):\n",
    "      cleantext.append(BeautifulSoup(data_split[columnname][i], \"html\").text)\n",
    "    \n",
    "    data_split[name] = cleantext\n",
    "    \n",
    "    data_split[name] = data_split[name].apply(lambda x : re.sub(r\"[^a-zA-Z0-9]+\", ' ', x))\n",
    "    \n",
    "    data_split[name] = data_split[name].apply(lambda s: s.lower() if type(s) == str else s)\n",
    "    \n",
    "    data_split[name] = data_split[name].apply(lambda x : word_tokenize(x))\n",
    "    \n",
    "    stopword = stopwords.words('english')\n",
    "    data_split[name] = data_split[name].apply(lambda x : [word for word in x if not word in stopword or word=='c' or word=='r'])\n",
    "    \n",
    "    name_new = name + \" \" + \"tokens\"\n",
    "    data_split[name_new] = lemmatize(name)\n"
   ]
  },
  {
   "cell_type": "code",
   "execution_count": 14,
   "metadata": {
    "colab": {
     "base_uri": "https://localhost:8080/",
     "height": 745
    },
    "id": "kmpej4_bOGl8",
    "outputId": "fb68f665-13ce-4adb-903d-2f987aa7840e"
   },
   "outputs": [
    {
     "name": "stderr",
     "output_type": "stream",
     "text": [
      "/N/u/tanakulk/Carbonate/.conda/envs/CV/lib/python3.8/site-packages/bs4/__init__.py:414: MarkupResemblesLocatorWarning: \"http://127.0.0.1:8500/\" looks like a URL. Beautiful Soup is not an HTTP client. You should probably use an HTTP client like requests to get the document behind the URL, and feed that document to Beautiful Soup.\n",
      "  warnings.warn(\n"
     ]
    },
    {
     "data": {
      "text/html": [
       "<div>\n",
       "<style scoped>\n",
       "    .dataframe tbody tr th:only-of-type {\n",
       "        vertical-align: middle;\n",
       "    }\n",
       "\n",
       "    .dataframe tbody tr th {\n",
       "        vertical-align: top;\n",
       "    }\n",
       "\n",
       "    .dataframe thead th {\n",
       "        text-align: right;\n",
       "    }\n",
       "</style>\n",
       "<table border=\"1\" class=\"dataframe\">\n",
       "  <thead>\n",
       "    <tr style=\"text-align: right;\">\n",
       "      <th></th>\n",
       "      <th>Id</th>\n",
       "      <th>Title</th>\n",
       "      <th>Body</th>\n",
       "      <th>Tags</th>\n",
       "      <th>clean body text</th>\n",
       "      <th>clean body text tokens</th>\n",
       "      <th>clean title text</th>\n",
       "      <th>clean title text tokens</th>\n",
       "    </tr>\n",
       "  </thead>\n",
       "  <tbody>\n",
       "    <tr>\n",
       "      <th>0</th>\n",
       "      <td>1</td>\n",
       "      <td>How to check if an uploaded file is an image w...</td>\n",
       "      <td>&lt;p&gt;I'd like to check if an uploaded file is an...</td>\n",
       "      <td>php image-processing file-upload upload mime-t...</td>\n",
       "      <td>[like, check, uploaded, file, image, file, e, ...</td>\n",
       "      <td>like check upload file image file e g png jpg...</td>\n",
       "      <td>[check, uploaded, file, image, without, mime, ...</td>\n",
       "      <td>check upload file image without mime type</td>\n",
       "    </tr>\n",
       "    <tr>\n",
       "      <th>1</th>\n",
       "      <td>2</td>\n",
       "      <td>How can I prevent firefox from closing when I ...</td>\n",
       "      <td>&lt;p&gt;In my favorite editor (vim), I regularly us...</td>\n",
       "      <td>firefox</td>\n",
       "      <td>[favorite, editor, vim, regularly, use, ctrl, ...</td>\n",
       "      <td>favorite editor vim regularly use ctrl w exec...</td>\n",
       "      <td>[prevent, firefox, closing, press, ctrl, w]</td>\n",
       "      <td>prevent firefox close press ctrl w</td>\n",
       "    </tr>\n",
       "    <tr>\n",
       "      <th>2</th>\n",
       "      <td>3</td>\n",
       "      <td>R Error Invalid type (list) for variable</td>\n",
       "      <td>&lt;p&gt;I am import matlab file and construct a dat...</td>\n",
       "      <td>r matlab machine-learning</td>\n",
       "      <td>[import, matlab, file, construct, data, frame,...</td>\n",
       "      <td>import matlab file construct data frame matla...</td>\n",
       "      <td>[r, error, invalid, type, list, variable]</td>\n",
       "      <td>r error invalid type list variable</td>\n",
       "    </tr>\n",
       "    <tr>\n",
       "      <th>3</th>\n",
       "      <td>4</td>\n",
       "      <td>How do I replace special characters in a URL?</td>\n",
       "      <td>&lt;p&gt;This is probably very simple, but I simply ...</td>\n",
       "      <td>c# url encoding</td>\n",
       "      <td>[probably, simple, simply, find, answer, basic...</td>\n",
       "      <td>probably simple simply find answer basicaly w...</td>\n",
       "      <td>[replace, special, characters, url]</td>\n",
       "      <td>replace special character url</td>\n",
       "    </tr>\n",
       "    <tr>\n",
       "      <th>4</th>\n",
       "      <td>5</td>\n",
       "      <td>How to modify whois contact details?</td>\n",
       "      <td>&lt;pre&gt;&lt;code&gt;function modify(.......)\\n{\\n  $mco...</td>\n",
       "      <td>php api file-get-contents</td>\n",
       "      <td>[function, modify, mcontact, file, get, conten...</td>\n",
       "      <td>function modify mcontact file get content htt...</td>\n",
       "      <td>[modify, whois, contact, details]</td>\n",
       "      <td>modify whois contact detail</td>\n",
       "    </tr>\n",
       "    <tr>\n",
       "      <th>...</th>\n",
       "      <td>...</td>\n",
       "      <td>...</td>\n",
       "      <td>...</td>\n",
       "      <td>...</td>\n",
       "      <td>...</td>\n",
       "      <td>...</td>\n",
       "      <td>...</td>\n",
       "      <td>...</td>\n",
       "    </tr>\n",
       "    <tr>\n",
       "      <th>99423</th>\n",
       "      <td>99997</td>\n",
       "      <td>Query data in Powerpoint</td>\n",
       "      <td>&lt;p&gt;I would like to build an MS PowerPoint 2010...</td>\n",
       "      <td>automation microsoft-powerpoint microsoft-powe...</td>\n",
       "      <td>[would, like, build, ms, powerpoint, 2010, pre...</td>\n",
       "      <td>would like build m powerpoint 2010 presentati...</td>\n",
       "      <td>[query, data, powerpoint]</td>\n",
       "      <td>query data powerpoint</td>\n",
       "    </tr>\n",
       "    <tr>\n",
       "      <th>99424</th>\n",
       "      <td>99998</td>\n",
       "      <td>Convolution of function</td>\n",
       "      <td>&lt;p&gt;I need find $x^2\\cdot e^{{-x^2}/2} * e^{{-x...</td>\n",
       "      <td>functional-analysis fourier-analysis</td>\n",
       "      <td>[need, find, x, 2, cdot, e, x, 2, 2, e, x, 2, ...</td>\n",
       "      <td>need find x 2 cdot e x 2 2 e x 2 2 used state...</td>\n",
       "      <td>[convolution, function]</td>\n",
       "      <td>convolution function</td>\n",
       "    </tr>\n",
       "    <tr>\n",
       "      <th>99425</th>\n",
       "      <td>99999</td>\n",
       "      <td>How to output a value stored in a variable in ...</td>\n",
       "      <td>&lt;p&gt;I am learning assembly programming using \"8...</td>\n",
       "      <td>assembly x86 dos</td>\n",
       "      <td>[learning, assembly, programming, using, 8086,...</td>\n",
       "      <td>learn assembly program use 8086 emu software ...</td>\n",
       "      <td>[output, value, stored, variable, assembly, 8086]</td>\n",
       "      <td>output value store variable assembly 8086</td>\n",
       "    </tr>\n",
       "    <tr>\n",
       "      <th>99426</th>\n",
       "      <td>100000</td>\n",
       "      <td>strange behaviour with a tableviewcontroller</td>\n",
       "      <td>&lt;p&gt;&lt;img src=\"http://sharingdream.com/phone.jpg...</td>\n",
       "      <td>c# iphone monotouch</td>\n",
       "      <td>[dear, strange, problem, application, building...</td>\n",
       "      <td>dear strange problem application build use mo...</td>\n",
       "      <td>[strange, behaviour, tableviewcontroller]</td>\n",
       "      <td>strange behaviour tableviewcontroller</td>\n",
       "    </tr>\n",
       "    <tr>\n",
       "      <th>99427</th>\n",
       "      <td>100001</td>\n",
       "      <td>Need some advice before starting coding my nex...</td>\n",
       "      <td>&lt;p&gt;I need some advice about how should I start...</td>\n",
       "      <td>objective-c navigation controller foundation</td>\n",
       "      <td>[need, advice, start, coding, something, conte...</td>\n",
       "      <td>need advice start cod something context finis...</td>\n",
       "      <td>[need, advice, starting, coding, next, iphone,...</td>\n",
       "      <td>need advice start cod next iphone app</td>\n",
       "    </tr>\n",
       "  </tbody>\n",
       "</table>\n",
       "<p>99428 rows × 8 columns</p>\n",
       "</div>"
      ],
      "text/plain": [
       "           Id                                              Title  \\\n",
       "0           1  How to check if an uploaded file is an image w...   \n",
       "1           2  How can I prevent firefox from closing when I ...   \n",
       "2           3           R Error Invalid type (list) for variable   \n",
       "3           4      How do I replace special characters in a URL?   \n",
       "4           5               How to modify whois contact details?   \n",
       "...       ...                                                ...   \n",
       "99423   99997                           Query data in Powerpoint   \n",
       "99424   99998                            Convolution of function   \n",
       "99425   99999  How to output a value stored in a variable in ...   \n",
       "99426  100000       strange behaviour with a tableviewcontroller   \n",
       "99427  100001  Need some advice before starting coding my nex...   \n",
       "\n",
       "                                                    Body  \\\n",
       "0      <p>I'd like to check if an uploaded file is an...   \n",
       "1      <p>In my favorite editor (vim), I regularly us...   \n",
       "2      <p>I am import matlab file and construct a dat...   \n",
       "3      <p>This is probably very simple, but I simply ...   \n",
       "4      <pre><code>function modify(.......)\\n{\\n  $mco...   \n",
       "...                                                  ...   \n",
       "99423  <p>I would like to build an MS PowerPoint 2010...   \n",
       "99424  <p>I need find $x^2\\cdot e^{{-x^2}/2} * e^{{-x...   \n",
       "99425  <p>I am learning assembly programming using \"8...   \n",
       "99426  <p><img src=\"http://sharingdream.com/phone.jpg...   \n",
       "99427  <p>I need some advice about how should I start...   \n",
       "\n",
       "                                                    Tags  \\\n",
       "0      php image-processing file-upload upload mime-t...   \n",
       "1                                                firefox   \n",
       "2                              r matlab machine-learning   \n",
       "3                                        c# url encoding   \n",
       "4                              php api file-get-contents   \n",
       "...                                                  ...   \n",
       "99423  automation microsoft-powerpoint microsoft-powe...   \n",
       "99424               functional-analysis fourier-analysis   \n",
       "99425                                   assembly x86 dos   \n",
       "99426                                c# iphone monotouch   \n",
       "99427       objective-c navigation controller foundation   \n",
       "\n",
       "                                         clean body text  \\\n",
       "0      [like, check, uploaded, file, image, file, e, ...   \n",
       "1      [favorite, editor, vim, regularly, use, ctrl, ...   \n",
       "2      [import, matlab, file, construct, data, frame,...   \n",
       "3      [probably, simple, simply, find, answer, basic...   \n",
       "4      [function, modify, mcontact, file, get, conten...   \n",
       "...                                                  ...   \n",
       "99423  [would, like, build, ms, powerpoint, 2010, pre...   \n",
       "99424  [need, find, x, 2, cdot, e, x, 2, 2, e, x, 2, ...   \n",
       "99425  [learning, assembly, programming, using, 8086,...   \n",
       "99426  [dear, strange, problem, application, building...   \n",
       "99427  [need, advice, start, coding, something, conte...   \n",
       "\n",
       "                                  clean body text tokens  \\\n",
       "0       like check upload file image file e g png jpg...   \n",
       "1       favorite editor vim regularly use ctrl w exec...   \n",
       "2       import matlab file construct data frame matla...   \n",
       "3       probably simple simply find answer basicaly w...   \n",
       "4       function modify mcontact file get content htt...   \n",
       "...                                                  ...   \n",
       "99423   would like build m powerpoint 2010 presentati...   \n",
       "99424   need find x 2 cdot e x 2 2 e x 2 2 used state...   \n",
       "99425   learn assembly program use 8086 emu software ...   \n",
       "99426   dear strange problem application build use mo...   \n",
       "99427   need advice start cod something context finis...   \n",
       "\n",
       "                                        clean title text  \\\n",
       "0      [check, uploaded, file, image, without, mime, ...   \n",
       "1            [prevent, firefox, closing, press, ctrl, w]   \n",
       "2              [r, error, invalid, type, list, variable]   \n",
       "3                    [replace, special, characters, url]   \n",
       "4                      [modify, whois, contact, details]   \n",
       "...                                                  ...   \n",
       "99423                          [query, data, powerpoint]   \n",
       "99424                            [convolution, function]   \n",
       "99425  [output, value, stored, variable, assembly, 8086]   \n",
       "99426          [strange, behaviour, tableviewcontroller]   \n",
       "99427  [need, advice, starting, coding, next, iphone,...   \n",
       "\n",
       "                          clean title text tokens  \n",
       "0       check upload file image without mime type  \n",
       "1              prevent firefox close press ctrl w  \n",
       "2              r error invalid type list variable  \n",
       "3                   replace special character url  \n",
       "4                     modify whois contact detail  \n",
       "...                                           ...  \n",
       "99423                       query data powerpoint  \n",
       "99424                        convolution function  \n",
       "99425   output value store variable assembly 8086  \n",
       "99426       strange behaviour tableviewcontroller  \n",
       "99427       need advice start cod next iphone app  \n",
       "\n",
       "[99428 rows x 8 columns]"
      ]
     },
     "execution_count": 14,
     "metadata": {},
     "output_type": "execute_result"
    }
   ],
   "source": [
    "preprocessing('Body','clean body text')\n",
    "preprocessing('Title','clean title text')\n",
    "data_split"
   ]
  },
  {
   "cell_type": "markdown",
   "metadata": {
    "id": "kSJ0qMP-TwJ2"
   },
   "source": [
    "Total number of tags and unique tags in 200k training data"
   ]
  },
  {
   "cell_type": "code",
   "execution_count": 15,
   "metadata": {
    "id": "9rE2Ho-UTwft"
   },
   "outputs": [],
   "source": [
    "def get_unique_tags(df):\n",
    "    tags = df['Tags'].str.cat(sep=' ')\n",
    "    tags = list(tags.split(\" \"))\n",
    "    print(\"Total tags present\",len(tags))\n",
    "    print(\"Total unique tags present:\",len(list(set(tags))))\n",
    "    return tags"
   ]
  },
  {
   "cell_type": "code",
   "execution_count": 16,
   "metadata": {
    "colab": {
     "base_uri": "https://localhost:8080/"
    },
    "id": "DV-Ua8c_Twvv",
    "outputId": "db449d2d-d425-452d-c361-d4782a64a313"
   },
   "outputs": [
    {
     "name": "stdout",
     "output_type": "stream",
     "text": [
      "Total tags present 286654\n",
      "Total unique tags present: 18448\n"
     ]
    }
   ],
   "source": [
    "tags = get_unique_tags(data_split)"
   ]
  },
  {
   "cell_type": "code",
   "execution_count": 17,
   "metadata": {
    "id": "_lgUpMsGT9wG"
   },
   "outputs": [],
   "source": [
    "tag_count = {}\n",
    "unique_tags = list(set(tags))\n",
    "\n",
    "for tag in unique_tags:\n",
    "  #print(tag)\n",
    "  tag_count[tag] = tags.count(tag)"
   ]
  },
  {
   "cell_type": "markdown",
   "metadata": {
    "id": "S9-jBBWFTw--"
   },
   "source": [
    "Creating a dataframe of unique tags and the number of times each tag is appears in the answer."
   ]
  },
  {
   "cell_type": "code",
   "execution_count": 18,
   "metadata": {
    "colab": {
     "base_uri": "https://localhost:8080/",
     "height": 423
    },
    "id": "5WaGJ3ldTa94",
    "outputId": "6ed97157-c6e4-42ac-cff4-6f7a1029c4c5"
   },
   "outputs": [
    {
     "data": {
      "text/html": [
       "<div>\n",
       "<style scoped>\n",
       "    .dataframe tbody tr th:only-of-type {\n",
       "        vertical-align: middle;\n",
       "    }\n",
       "\n",
       "    .dataframe tbody tr th {\n",
       "        vertical-align: top;\n",
       "    }\n",
       "\n",
       "    .dataframe thead th {\n",
       "        text-align: right;\n",
       "    }\n",
       "</style>\n",
       "<table border=\"1\" class=\"dataframe\">\n",
       "  <thead>\n",
       "    <tr style=\"text-align: right;\">\n",
       "      <th></th>\n",
       "      <th>tags</th>\n",
       "      <th>count</th>\n",
       "    </tr>\n",
       "  </thead>\n",
       "  <tbody>\n",
       "    <tr>\n",
       "      <th>0</th>\n",
       "      <td>c#</td>\n",
       "      <td>7745</td>\n",
       "    </tr>\n",
       "    <tr>\n",
       "      <th>1</th>\n",
       "      <td>java</td>\n",
       "      <td>6753</td>\n",
       "    </tr>\n",
       "    <tr>\n",
       "      <th>2</th>\n",
       "      <td>php</td>\n",
       "      <td>6543</td>\n",
       "    </tr>\n",
       "    <tr>\n",
       "      <th>3</th>\n",
       "      <td>javascript</td>\n",
       "      <td>6102</td>\n",
       "    </tr>\n",
       "    <tr>\n",
       "      <th>4</th>\n",
       "      <td>android</td>\n",
       "      <td>5287</td>\n",
       "    </tr>\n",
       "    <tr>\n",
       "      <th>...</th>\n",
       "      <td>...</td>\n",
       "      <td>...</td>\n",
       "    </tr>\n",
       "    <tr>\n",
       "      <th>18443</th>\n",
       "      <td>responsetext</td>\n",
       "      <td>1</td>\n",
       "    </tr>\n",
       "    <tr>\n",
       "      <th>18444</th>\n",
       "      <td>scripting-languages</td>\n",
       "      <td>1</td>\n",
       "    </tr>\n",
       "    <tr>\n",
       "      <th>18445</th>\n",
       "      <td>cocomo</td>\n",
       "      <td>1</td>\n",
       "    </tr>\n",
       "    <tr>\n",
       "      <th>18446</th>\n",
       "      <td>unreachable-code</td>\n",
       "      <td>1</td>\n",
       "    </tr>\n",
       "    <tr>\n",
       "      <th>18447</th>\n",
       "      <td>collaborative</td>\n",
       "      <td>1</td>\n",
       "    </tr>\n",
       "  </tbody>\n",
       "</table>\n",
       "<p>18448 rows × 2 columns</p>\n",
       "</div>"
      ],
      "text/plain": [
       "                      tags  count\n",
       "0                       c#   7745\n",
       "1                     java   6753\n",
       "2                      php   6543\n",
       "3               javascript   6102\n",
       "4                  android   5287\n",
       "...                    ...    ...\n",
       "18443         responsetext      1\n",
       "18444  scripting-languages      1\n",
       "18445               cocomo      1\n",
       "18446     unreachable-code      1\n",
       "18447        collaborative      1\n",
       "\n",
       "[18448 rows x 2 columns]"
      ]
     },
     "execution_count": 18,
     "metadata": {},
     "output_type": "execute_result"
    }
   ],
   "source": [
    "sorted_tags = pd.DataFrame(sorted(tag_count.items(), key=lambda item: item[1],reverse=True),columns=['tags','count'])\n",
    "sorted_tags"
   ]
  },
  {
   "cell_type": "markdown",
   "metadata": {
    "id": "JeNS6foCz8AQ"
   },
   "source": [
    "Dropping all tags except the top 500 tags from every record"
   ]
  },
  {
   "cell_type": "code",
   "execution_count": 19,
   "metadata": {
    "id": "A7AAPc8Sz0_I"
   },
   "outputs": [],
   "source": [
    "top500_tags = sorted_tags['tags'][:500]\n",
    "type(top500_tags)\n",
    "type(top500_tags)\n",
    "top500_tags_list = list(top500_tags)\n",
    "\n",
    "#top500_tags_list"
   ]
  },
  {
   "cell_type": "code",
   "execution_count": 20,
   "metadata": {
    "id": "6y0XKpUKfUrZ"
   },
   "outputs": [],
   "source": [
    "def find_most_frequent_tags(x):\n",
    "  #print(x)\n",
    "  list1 = x.split(\" \")\n",
    "  result = \"\"\n",
    "  for tag in list1:\n",
    "    #print(tag)\n",
    "    if tag in top500_tags_list:\n",
    "      #print(\"in\")\n",
    "      result+= \" \" + tag\n",
    "    return result\n"
   ]
  },
  {
   "cell_type": "code",
   "execution_count": 21,
   "metadata": {
    "colab": {
     "base_uri": "https://localhost:8080/"
    },
    "id": "VgVf3jThe-Yf",
    "outputId": "8807ce37-a5b0-4829-c0ef-db69f1573a4d"
   },
   "outputs": [
    {
     "name": "stdout",
     "output_type": "stream",
     "text": [
      "after taking top 500 frequency tags (99428,)\n",
      "(99428, 3)\n",
      "                          clean title text tokens  \\\n",
      "0       check upload file image without mime type   \n",
      "1              prevent firefox close press ctrl w   \n",
      "2              r error invalid type list variable   \n",
      "3                   replace special character url   \n",
      "4                     modify whois contact detail   \n",
      "...                                           ...   \n",
      "99423                       query data powerpoint   \n",
      "99424                        convolution function   \n",
      "99425   output value store variable assembly 8086   \n",
      "99426       strange behaviour tableviewcontroller   \n",
      "99427       need advice start cod next iphone app   \n",
      "\n",
      "                                  clean body text tokens                  Tags  \n",
      "0       like check upload file image file e g png jpg...                   php  \n",
      "1       favorite editor vim regularly use ctrl w exec...               firefox  \n",
      "2       import matlab file construct data frame matla...                     r  \n",
      "3       probably simple simply find answer basicaly w...                    c#  \n",
      "4       function modify mcontact file get content htt...                   php  \n",
      "...                                                  ...                   ...  \n",
      "99423   would like build m powerpoint 2010 presentati...            automation  \n",
      "99424   need find x 2 cdot e x 2 2 e x 2 2 used state...   functional-analysis  \n",
      "99425   learn assembly program use 8086 emu software ...              assembly  \n",
      "99426   dear strange problem application build use mo...                    c#  \n",
      "99427   need advice start cod something context finis...           objective-c  \n",
      "\n",
      "[99428 rows x 3 columns]\n",
      "After dropping tags with 0 length (87942, 3)\n",
      "data new is                           clean title text tokens  \\\n",
      "0       check upload file image without mime type   \n",
      "1              prevent firefox close press ctrl w   \n",
      "2              r error invalid type list variable   \n",
      "3                   replace special character url   \n",
      "4                     modify whois contact detail   \n",
      "...                                           ...   \n",
      "99423                       query data powerpoint   \n",
      "99424                        convolution function   \n",
      "99425   output value store variable assembly 8086   \n",
      "99426       strange behaviour tableviewcontroller   \n",
      "99427       need advice start cod next iphone app   \n",
      "\n",
      "                                  clean body text tokens                  Tags  \n",
      "0       like check upload file image file e g png jpg...                   php  \n",
      "1       favorite editor vim regularly use ctrl w exec...               firefox  \n",
      "2       import matlab file construct data frame matla...                     r  \n",
      "3       probably simple simply find answer basicaly w...                    c#  \n",
      "4       function modify mcontact file get content htt...                   php  \n",
      "...                                                  ...                   ...  \n",
      "99423   would like build m powerpoint 2010 presentati...            automation  \n",
      "99424   need find x 2 cdot e x 2 2 e x 2 2 used state...   functional-analysis  \n",
      "99425   learn assembly program use 8086 emu software ...              assembly  \n",
      "99426   dear strange problem application build use mo...                    c#  \n",
      "99427   need advice start cod something context finis...           objective-c  \n",
      "\n",
      "[87942 rows x 3 columns]\n"
     ]
    },
    {
     "data": {
      "text/plain": [
       "pandas.core.frame.DataFrame"
      ]
     },
     "execution_count": 21,
     "metadata": {},
     "output_type": "execute_result"
    }
   ],
   "source": [
    "data_tags = data_split['Tags'].apply(lambda x: find_most_frequent_tags(x))\n",
    "print(\"after taking top 500 frequency tags\",data_tags.shape)\n",
    "data_tags = data_tags.apply(lambda x: x if len(x)>0 else None)\n",
    "data_new = pd.concat([data_split[['clean title text tokens','clean body text tokens']],data_tags],axis=1)\n",
    "print(data_new.shape)\n",
    "print(data_new)\n",
    "data_new.reset_index(drop=True)\n",
    "data_new.dropna(subset= ['Tags'],inplace = True)\n",
    "print(\"After dropping tags with 0 length\",data_new.shape)\n",
    "data_new.reset_index(drop= True)\n",
    "print(\"data new is\", data_new)\n",
    "type(data_new.head())"
   ]
  },
  {
   "cell_type": "markdown",
   "metadata": {},
   "source": [
    "Vectorizing labels (tags) with 0 or 1 (binary vectorizer)"
   ]
  },
  {
   "cell_type": "code",
   "execution_count": 22,
   "metadata": {
    "id": "0EKUE55AA4iO"
   },
   "outputs": [],
   "source": [
    "from sklearn.feature_extraction.text import CountVectorizer\n",
    "from sklearn.feature_extraction.text import TfidfVectorizer\n",
    "vec = CountVectorizer(tokenizer = lambda x: x.split(), binary='true')\n",
    "y = vec.fit_transform(data_new['Tags'])"
   ]
  },
  {
   "cell_type": "markdown",
   "metadata": {},
   "source": [
    "Feature extracting using tfidf for both body and titles. We get sparse matrices as output after fit and transform."
   ]
  },
  {
   "cell_type": "code",
   "execution_count": 23,
   "metadata": {
    "id": "sEGStAj3Kz96"
   },
   "outputs": [],
   "source": [
    "from sklearn.feature_extraction.text import TfidfVectorizer\n",
    "\n",
    "tfidf_body = TfidfVectorizer(min_df=0.00009, max_features=20000, smooth_idf=True, norm=\"l2\",tokenizer = lambda x: x.split(), sublinear_tf=False,ngram_range=(1,4))\n",
    "tfidf_title = TfidfVectorizer(min_df=0.00009, max_features=20000, smooth_idf=True, norm=\"l2\",tokenizer = lambda x: x.split(), sublinear_tf=False,ngram_range=(1,4))\n",
    "x_train_tfidf_body = tfidf_body.fit_transform(data_new['clean body text tokens'])\n",
    "x_train_tfidf_title = tfidf_title.fit_transform(data_new['clean title text tokens'])"
   ]
  },
  {
   "cell_type": "markdown",
   "metadata": {},
   "source": [
    "Stacking body and title together"
   ]
  },
  {
   "cell_type": "code",
   "execution_count": 24,
   "metadata": {
    "id": "2xcheuQxPCJr"
   },
   "outputs": [],
   "source": [
    "from scipy.sparse import hstack\n",
    "x_data = hstack([x_train_tfidf_body,x_train_tfidf_title])"
   ]
  },
  {
   "cell_type": "markdown",
   "metadata": {},
   "source": [
    "Splitting data into train and test"
   ]
  },
  {
   "cell_type": "code",
   "execution_count": 25,
   "metadata": {
    "id": "-y1pgT4gO8gE"
   },
   "outputs": [],
   "source": [
    "from sklearn.model_selection import train_test_split\n",
    "x_train, x_test,y_train, y_test = train_test_split(x_data, y, test_size=0.2,random_state = 0)"
   ]
  },
  {
   "cell_type": "code",
   "execution_count": 26,
   "metadata": {
    "colab": {
     "base_uri": "https://localhost:8080/"
    },
    "id": "UKtVlNDYLHmk",
    "outputId": "8736a4f4-32ee-4f51-a496-3daafca4d2f6"
   },
   "outputs": [
    {
     "name": "stdout",
     "output_type": "stream",
     "text": [
      "shape of train data X: (70353, 29428) Y : (70353, 493)\n",
      "shape of test data X: (17589, 29428) Y: (17589, 493)\n"
     ]
    }
   ],
   "source": [
    "print(\"shape of train data X:\",x_train.shape, \"Y :\",y_train.shape)\n",
    "print(\"shape of test data X:\",x_test.shape,\"Y:\",y_test.shape)"
   ]
  },
  {
   "cell_type": "markdown",
   "metadata": {},
   "source": [
    "Training and testing a Binary Relevance classifier using Gaussian Naive Bayes"
   ]
  },
  {
   "cell_type": "code",
   "execution_count": 27,
   "metadata": {},
   "outputs": [
    {
     "name": "stdout",
     "output_type": "stream",
     "text": [
      "Time taken to train : 32365.0\n"
     ]
    }
   ],
   "source": [
    "from skmultilearn.problem_transform import BinaryRelevance\n",
    "from sklearn.naive_bayes import GaussianNB\n",
    "\n",
    "startbr=time.time()\n",
    "\n",
    "brn = BinaryRelevance(GaussianNB())\n",
    "\n",
    "brn.fit(x_train, y_train)\n",
    "\n",
    "print(\"Time taken to train :\", round(time.time()-startbr,0))"
   ]
  },
  {
   "cell_type": "code",
   "execution_count": 28,
   "metadata": {},
   "outputs": [
    {
     "name": "stdout",
     "output_type": "stream",
     "text": [
      "Accuracy:  0.1410540678833362\n",
      "Hamming loss:  0.003445934826729365\n"
     ]
    }
   ],
   "source": [
    "brn_pred = brn.predict(x_test)\n",
    "\n",
    "print(\"Accuracy: \",accuracy_score(y_test, brn_pred))\n",
    "print(\"Hamming loss: \",hamming_loss(y_test,brn_pred))\n",
    "# print(\"Jaccard Score: \", jaccard_score(y_test, brn_pred), average='samples')"
   ]
  },
  {
   "cell_type": "code",
   "execution_count": 29,
   "metadata": {},
   "outputs": [
    {
     "name": "stdout",
     "output_type": "stream",
     "text": [
      "              precision    recall  f1-score   support\n",
      "\n",
      "           0       0.00      0.00      0.00        23\n",
      "           1       0.07      0.07      0.07       230\n",
      "           2       0.00      0.00      0.00         0\n",
      "           3       0.00      0.00      0.00         1\n",
      "           4       0.00      0.00      0.00        22\n",
      "           5       0.00      0.00      0.00         5\n",
      "           6       0.44      0.11      0.18        35\n",
      "           7       0.00      0.00      0.00         5\n",
      "           8       0.00      0.00      0.00        48\n",
      "           9       0.00      0.00      0.00        14\n",
      "          10       0.00      0.00      0.00         1\n",
      "          11       0.00      0.00      0.00         0\n",
      "          12       0.00      0.00      0.00         0\n",
      "          13       0.00      0.00      0.00         1\n",
      "          14       0.00      0.00      0.00        29\n",
      "          15       0.00      0.00      0.00        25\n",
      "          16       0.25      0.02      0.04        48\n",
      "          17       0.00      0.00      0.00        14\n",
      "          18       0.00      0.00      0.00         4\n",
      "          19       0.00      0.00      0.00        10\n",
      "          20       0.35      0.47      0.40       898\n",
      "          21       0.00      0.00      0.00         1\n",
      "          22       0.00      0.00      0.00         3\n",
      "          23       0.00      0.00      0.00         1\n",
      "          24       0.00      0.00      0.00         1\n",
      "          25       0.00      0.00      0.00         2\n",
      "          26       0.00      0.00      0.00         6\n",
      "          27       0.00      0.00      0.00        41\n",
      "          28       0.00      0.00      0.00        69\n",
      "          29       0.00      0.00      0.00        16\n",
      "          30       0.00      0.00      0.00         3\n",
      "          31       0.00      0.00      0.00         7\n",
      "          32       0.00      0.00      0.00        28\n",
      "          33       0.00      0.00      0.00         8\n",
      "          34       0.10      0.12      0.11       315\n",
      "          35       0.24      0.04      0.07       104\n",
      "          36       0.00      0.00      0.00         9\n",
      "          37       0.00      0.00      0.00        47\n",
      "          38       0.00      0.00      0.00         4\n",
      "          39       0.00      0.00      0.00        17\n",
      "          40       0.00      0.00      0.00         2\n",
      "          41       0.00      0.00      0.00         1\n",
      "          42       0.00      0.00      0.00        12\n",
      "          43       0.00      0.00      0.00        12\n",
      "          44       0.00      0.00      0.00         3\n",
      "          45       0.00      0.00      0.00         0\n",
      "          46       0.00      0.00      0.00         2\n",
      "          47       0.00      0.00      0.00         6\n",
      "          48       0.00      0.00      0.00         7\n",
      "          49       0.00      0.00      0.00         0\n",
      "          50       0.00      0.00      0.00        13\n",
      "          51       0.00      0.00      0.00        69\n",
      "          52       0.00      0.00      0.00         8\n",
      "          53       0.00      0.00      0.00         3\n",
      "          54       0.00      0.00      0.00         2\n",
      "          55       0.00      0.00      0.00        15\n",
      "          56       0.00      0.00      0.00         3\n",
      "          57       0.00      0.00      0.00         4\n",
      "          58       0.00      0.00      0.00         5\n",
      "          59       0.00      0.00      0.00         7\n",
      "          60       0.00      0.00      0.00         4\n",
      "          61       0.16      0.11      0.13       212\n",
      "          62       0.22      0.60      0.32      1568\n",
      "          63       0.00      0.00      0.00         7\n",
      "          64       0.24      0.37      0.29       640\n",
      "          65       0.00      0.00      0.00         5\n",
      "          66       0.00      0.00      0.00        21\n",
      "          67       0.11      0.02      0.03        50\n",
      "          68       0.00      0.00      0.00         2\n",
      "          69       0.00      0.00      0.00        18\n",
      "          70       0.00      0.00      0.00         0\n",
      "          71       0.00      0.00      0.00         0\n",
      "          72       0.00      0.00      0.00         1\n",
      "          73       0.00      0.00      0.00         2\n",
      "          74       0.00      0.00      0.00        30\n",
      "          75       0.00      0.00      0.00        10\n",
      "          76       0.00      0.00      0.00        16\n",
      "          77       0.00      0.00      0.00         6\n",
      "          78       0.00      0.00      0.00        10\n",
      "          79       0.00      0.00      0.00         0\n",
      "          80       0.00      0.00      0.00         1\n",
      "          81       0.00      0.00      0.00         3\n",
      "          82       0.00      0.00      0.00        14\n",
      "          83       0.00      0.00      0.00         1\n",
      "          84       0.00      0.00      0.00        14\n",
      "          85       0.00      0.00      0.00         5\n",
      "          86       0.00      0.00      0.00         4\n",
      "          87       0.00      0.00      0.00        18\n",
      "          88       0.00      0.00      0.00         3\n",
      "          89       0.00      0.00      0.00        11\n",
      "          90       0.00      0.00      0.00         2\n",
      "          91       0.00      0.00      0.00         1\n",
      "          92       0.00      0.00      0.00         6\n",
      "          93       0.00      0.00      0.00         3\n",
      "          94       0.00      0.00      0.00         1\n",
      "          95       0.00      0.00      0.00         7\n",
      "          96       0.00      0.00      0.00         6\n",
      "          97       0.28      0.08      0.12       167\n",
      "          98       0.00      0.00      0.00         6\n",
      "          99       0.00      0.00      0.00         3\n",
      "         100       0.00      0.00      0.00        10\n",
      "         101       0.00      0.00      0.00         2\n",
      "         102       0.00      0.00      0.00         2\n",
      "         103       0.00      0.00      0.00         3\n",
      "         104       0.00      0.00      0.00         1\n",
      "         105       0.00      0.00      0.00         3\n",
      "         106       0.11      0.02      0.03        58\n",
      "         107       0.00      0.00      0.00         6\n",
      "         108       0.00      0.00      0.00         0\n",
      "         109       0.00      0.00      0.00         0\n",
      "         110       0.00      0.00      0.00         4\n",
      "         111       0.00      0.00      0.00        14\n",
      "         112       0.00      0.00      0.00         9\n",
      "         113       0.00      0.00      0.00         0\n",
      "         114       0.00      0.00      0.00        57\n",
      "         115       0.00      0.00      0.00         3\n",
      "         116       0.00      0.00      0.00         6\n",
      "         117       0.00      0.00      0.00         8\n",
      "         118       0.00      0.00      0.00         9\n",
      "         119       0.00      0.00      0.00         0\n",
      "         120       0.00      0.00      0.00         2\n",
      "         121       0.08      0.01      0.02       103\n",
      "         122       0.00      0.00      0.00         1\n",
      "         123       0.00      0.00      0.00         2\n",
      "         124       0.00      0.00      0.00        36\n",
      "         125       0.00      0.00      0.00         2\n",
      "         126       0.00      0.00      0.00         2\n",
      "         127       0.00      0.00      0.00         3\n",
      "         128       0.00      0.00      0.00         2\n",
      "         129       0.00      0.00      0.00        29\n",
      "         130       0.00      0.00      0.00         3\n",
      "         131       0.25      0.02      0.03        58\n",
      "         132       0.00      0.00      0.00         4\n",
      "         133       0.00      0.00      0.00         8\n",
      "         134       0.00      0.00      0.00        21\n",
      "         135       0.00      0.00      0.00        37\n",
      "         136       0.00      0.00      0.00         2\n",
      "         137       0.00      0.00      0.00         1\n",
      "         138       0.00      0.00      0.00        13\n",
      "         139       0.00      0.00      0.00         6\n",
      "         140       0.00      0.00      0.00         1\n",
      "         141       0.00      0.00      0.00         4\n",
      "         142       0.00      0.00      0.00        43\n",
      "         143       0.00      0.00      0.00         5\n",
      "         144       0.00      0.00      0.00         3\n",
      "         145       0.00      0.00      0.00         0\n",
      "         146       0.00      0.00      0.00         4\n",
      "         147       0.00      0.00      0.00        19\n",
      "         148       0.17      0.01      0.03        73\n",
      "         149       0.00      0.00      0.00         8\n",
      "         150       0.00      0.00      0.00        14\n",
      "         151       0.00      0.00      0.00         1\n",
      "         152       0.00      0.00      0.00         1\n",
      "         153       0.00      0.00      0.00         2\n",
      "         154       0.00      0.00      0.00         1\n",
      "         155       0.00      0.00      0.00        23\n",
      "         156       0.00      0.00      0.00        49\n",
      "         157       0.33      0.02      0.04        53\n",
      "         158       0.00      0.00      0.00        19\n",
      "         159       0.00      0.00      0.00         0\n",
      "         160       0.00      0.00      0.00         2\n",
      "         161       0.00      0.00      0.00        19\n",
      "         162       0.00      0.00      0.00         2\n",
      "         163       0.00      0.00      0.00         7\n",
      "         164       0.00      0.00      0.00        10\n",
      "         165       0.00      0.00      0.00        11\n",
      "         166       0.00      0.00      0.00        10\n",
      "         167       0.00      0.00      0.00         4\n",
      "         168       0.00      0.00      0.00        19\n",
      "         169       0.00      0.00      0.00         1\n",
      "         170       0.00      0.00      0.00         1\n",
      "         171       0.00      0.00      0.00        19\n",
      "         172       0.56      0.11      0.19        79\n",
      "         173       0.00      0.00      0.00         2\n",
      "         174       0.00      0.00      0.00         2\n",
      "         175       0.00      0.00      0.00         4\n",
      "         176       0.00      0.00      0.00        24\n",
      "         177       0.00      0.00      0.00        22\n",
      "         178       0.00      0.00      0.00        11\n",
      "         179       0.00      0.00      0.00         8\n",
      "         180       0.00      0.00      0.00        19\n",
      "         181       0.00      0.00      0.00         1\n",
      "         182       0.00      0.00      0.00         8\n",
      "         183       0.00      0.00      0.00         3\n",
      "         184       0.00      0.00      0.00         2\n",
      "         185       0.00      0.00      0.00         9\n",
      "         186       0.00      0.00      0.00         6\n",
      "         187       0.00      0.00      0.00        11\n",
      "         188       0.00      0.00      0.00        13\n",
      "         189       0.00      0.00      0.00         7\n",
      "         190       0.00      0.00      0.00        20\n",
      "         191       0.00      0.00      0.00         3\n",
      "         192       0.00      0.00      0.00        36\n",
      "         193       0.23      0.10      0.14        71\n",
      "         194       0.21      0.13      0.16       216\n",
      "         195       0.00      0.00      0.00        31\n",
      "         196       0.00      0.00      0.00        19\n",
      "         197       0.00      0.00      0.00         3\n",
      "         198       0.00      0.00      0.00         2\n",
      "         199       0.00      0.00      0.00         0\n",
      "         200       0.00      0.00      0.00         2\n",
      "         201       0.00      0.00      0.00        28\n",
      "         202       0.00      0.00      0.00        15\n",
      "         203       0.00      0.00      0.00        14\n",
      "         204       0.00      0.00      0.00         4\n",
      "         205       0.00      0.00      0.00         2\n",
      "         206       0.00      0.00      0.00         1\n",
      "         207       0.00      0.00      0.00         0\n",
      "         208       0.00      0.00      0.00         1\n",
      "         209       0.00      0.00      0.00         9\n",
      "         210       0.00      0.00      0.00         5\n",
      "         211       0.00      0.00      0.00         5\n",
      "         212       0.00      0.00      0.00         3\n",
      "         213       0.00      0.00      0.00        13\n",
      "         214       0.00      0.00      0.00         1\n",
      "         215       0.09      0.06      0.07       179\n",
      "         216       0.00      0.00      0.00         3\n",
      "         217       0.00      0.00      0.00         4\n",
      "         218       0.00      0.00      0.00         9\n",
      "         219       0.28      0.30      0.29       592\n",
      "         220       0.00      0.00      0.00         3\n",
      "         221       0.00      0.00      0.00         5\n",
      "         222       0.00      0.00      0.00         0\n",
      "         223       0.21      0.58      0.31      1314\n",
      "         224       0.00      0.00      0.00        10\n",
      "         225       0.00      0.00      0.00         6\n",
      "         226       0.21      0.51      0.29      1050\n",
      "         227       0.00      0.00      0.00         4\n",
      "         228       0.00      0.00      0.00         4\n",
      "         229       0.00      0.00      0.00         1\n",
      "         230       0.00      0.00      0.00         0\n",
      "         231       0.00      0.00      0.00        15\n",
      "         232       0.00      0.00      0.00         4\n",
      "         233       0.00      0.00      0.00         5\n",
      "         234       0.21      0.30      0.25       537\n",
      "         235       0.00      0.00      0.00         3\n",
      "         236       0.00      0.00      0.00         7\n",
      "         237       0.00      0.00      0.00         2\n",
      "         238       0.00      0.00      0.00         1\n",
      "         239       0.00      0.00      0.00         9\n",
      "         240       0.00      0.00      0.00        21\n",
      "         241       0.00      0.00      0.00         9\n",
      "         242       0.00      0.00      0.00        19\n",
      "         243       0.00      0.00      0.00        14\n",
      "         244       0.00      0.00      0.00         0\n",
      "         245       0.00      0.00      0.00         9\n",
      "         246       0.00      0.00      0.00         2\n",
      "         247       0.00      0.00      0.00        11\n",
      "         248       0.00      0.00      0.00        16\n",
      "         249       0.00      0.00      0.00         4\n",
      "         250       0.00      0.00      0.00         4\n",
      "         251       0.00      0.00      0.00         4\n",
      "         252       0.00      0.00      0.00         1\n",
      "         253       0.20      0.03      0.05        32\n",
      "         254       0.00      0.00      0.00        24\n",
      "         255       0.00      0.00      0.00         7\n",
      "         256       0.19      0.18      0.18       344\n",
      "         257       0.00      0.00      0.00        21\n",
      "         258       0.00      0.00      0.00         3\n",
      "         259       0.00      0.00      0.00         5\n",
      "         260       0.00      0.00      0.00         6\n",
      "         261       0.00      0.00      0.00        12\n",
      "         262       0.00      0.00      0.00         3\n",
      "         263       0.00      0.00      0.00         2\n",
      "         264       0.00      0.00      0.00        14\n",
      "         265       0.00      0.00      0.00        13\n",
      "         266       0.00      0.00      0.00        32\n",
      "         267       0.00      0.00      0.00         2\n",
      "         268       0.00      0.00      0.00        10\n",
      "         269       0.00      0.00      0.00        35\n",
      "         270       0.00      0.00      0.00         4\n",
      "         271       0.00      0.00      0.00         2\n",
      "         272       0.00      0.00      0.00        16\n",
      "         273       0.00      0.00      0.00         7\n",
      "         274       0.00      0.00      0.00        11\n",
      "         275       0.00      0.00      0.00         0\n",
      "         276       0.00      0.00      0.00         2\n",
      "         277       0.00      0.00      0.00         2\n",
      "         278       0.00      0.00      0.00         8\n",
      "         279       0.00      0.00      0.00         0\n",
      "         280       0.00      0.00      0.00         0\n",
      "         281       0.00      0.00      0.00        21\n",
      "         282       0.00      0.00      0.00         5\n",
      "         283       0.00      0.00      0.00         5\n",
      "         284       0.00      0.00      0.00         2\n",
      "         285       0.00      0.00      0.00         5\n",
      "         286       0.00      0.00      0.00        28\n",
      "         287       0.00      0.00      0.00         2\n",
      "         288       0.00      0.00      0.00        14\n",
      "         289       0.00      0.00      0.00         6\n",
      "         290       0.00      0.00      0.00        12\n",
      "         291       0.00      0.00      0.00         6\n",
      "         292       0.00      0.00      0.00         0\n",
      "         293       0.14      0.11      0.13       263\n",
      "         294       0.00      0.00      0.00         1\n",
      "         295       0.00      0.00      0.00        10\n",
      "         296       0.00      0.00      0.00        47\n",
      "         297       0.00      0.00      0.00        13\n",
      "         298       0.00      0.00      0.00        27\n",
      "         299       0.00      0.00      0.00        32\n",
      "         300       0.00      0.00      0.00        19\n",
      "         301       0.00      0.00      0.00         0\n",
      "         302       0.00      0.00      0.00         3\n",
      "         303       0.00      0.00      0.00         4\n",
      "         304       0.10      0.08      0.09       186\n",
      "         305       0.00      0.00      0.00         8\n",
      "         306       0.00      0.00      0.00         8\n",
      "         307       0.00      0.00      0.00         9\n",
      "         308       0.00      0.00      0.00        15\n",
      "         309       0.00      0.00      0.00         3\n",
      "         310       0.00      0.00      0.00         6\n",
      "         311       0.00      0.00      0.00        46\n",
      "         312       0.00      0.00      0.00         2\n",
      "         313       0.06      0.02      0.03       106\n",
      "         314       0.00      0.00      0.00         3\n",
      "         315       0.00      0.00      0.00         7\n",
      "         316       0.00      0.00      0.00         2\n",
      "         317       0.00      0.00      0.00         1\n",
      "         318       0.00      0.00      0.00        10\n",
      "         319       0.00      0.00      0.00         1\n",
      "         320       0.00      0.00      0.00         1\n",
      "         321       0.00      0.00      0.00        15\n",
      "         322       0.00      0.00      0.00         0\n",
      "         323       0.00      0.00      0.00        26\n",
      "         324       0.00      0.00      0.00        76\n",
      "         325       0.00      0.00      0.00        11\n",
      "         326       0.00      0.00      0.00         8\n",
      "         327       0.22      0.60      0.32      1269\n",
      "         328       0.00      0.00      0.00         6\n",
      "         329       0.00      0.00      0.00         0\n",
      "         330       0.00      0.00      0.00        21\n",
      "         331       0.00      0.00      0.00         1\n",
      "         332       0.00      0.00      0.00         1\n",
      "         333       0.00      0.00      0.00        21\n",
      "         334       0.00      0.00      0.00        30\n",
      "         335       0.00      0.00      0.00         3\n",
      "         336       0.14      0.02      0.03        51\n",
      "         337       0.00      0.00      0.00         3\n",
      "         338       0.00      0.00      0.00         6\n",
      "         339       0.00      0.00      0.00        10\n",
      "         340       0.00      0.00      0.00         2\n",
      "         341       0.00      0.00      0.00         7\n",
      "         342       0.16      0.29      0.20       571\n",
      "         343       0.00      0.00      0.00         4\n",
      "         344       0.00      0.00      0.00         6\n",
      "         345       0.00      0.00      0.00        23\n",
      "         346       0.00      0.00      0.00        15\n",
      "         347       0.31      0.05      0.09        77\n",
      "         348       0.00      0.00      0.00         8\n",
      "         349       0.00      0.00      0.00         3\n",
      "         350       0.00      0.00      0.00         1\n",
      "         351       0.25      0.06      0.10        33\n",
      "         352       0.00      0.00      0.00         2\n",
      "         353       0.00      0.00      0.00         4\n",
      "         354       0.00      0.00      0.00         1\n",
      "         355       0.00      0.00      0.00        10\n",
      "         356       0.00      0.00      0.00         1\n",
      "         357       0.33      0.01      0.03        67\n",
      "         358       0.00      0.00      0.00         8\n",
      "         359       0.00      0.00      0.00         9\n",
      "         360       0.00      0.00      0.00        10\n",
      "         361       0.00      0.00      0.00         4\n",
      "         362       0.07      0.02      0.03       113\n",
      "         363       0.20      0.16      0.18       340\n",
      "         364       0.00      0.00      0.00        44\n",
      "         365       0.00      0.00      0.00         4\n",
      "         366       0.00      0.00      0.00         2\n",
      "         367       0.00      0.00      0.00        29\n",
      "         368       0.00      0.00      0.00         2\n",
      "         369       0.00      0.00      0.00         2\n",
      "         370       0.00      0.00      0.00         1\n",
      "         371       0.00      0.00      0.00        18\n",
      "         372       0.00      0.00      0.00        40\n",
      "         373       0.00      0.00      0.00         3\n",
      "         374       0.00      0.00      0.00         1\n",
      "         375       0.00      0.00      0.00         7\n",
      "         376       0.00      0.00      0.00        10\n",
      "         377       0.00      0.00      0.00         0\n",
      "         378       0.00      0.00      0.00         0\n",
      "         379       0.00      0.00      0.00         2\n",
      "         380       0.00      0.00      0.00         1\n",
      "         381       0.00      0.00      0.00        25\n",
      "         382       0.00      0.00      0.00         8\n",
      "         383       0.00      0.00      0.00        18\n",
      "         384       0.00      0.00      0.00        51\n",
      "         385       0.00      0.00      0.00         6\n",
      "         386       0.00      0.00      0.00         2\n",
      "         387       0.00      0.00      0.00         2\n",
      "         388       0.00      0.00      0.00         7\n",
      "         389       0.00      0.00      0.00        11\n",
      "         390       0.00      0.00      0.00         5\n",
      "         391       0.00      0.00      0.00        28\n",
      "         392       0.00      0.00      0.00         5\n",
      "         393       0.22      0.16      0.19       265\n",
      "         394       0.14      0.03      0.05       120\n",
      "         395       0.00      0.00      0.00        18\n",
      "         396       0.00      0.00      0.00        18\n",
      "         397       0.00      0.00      0.00         4\n",
      "         398       0.00      0.00      0.00         3\n",
      "         399       0.00      0.00      0.00        29\n",
      "         400       0.00      0.00      0.00         5\n",
      "         401       0.00      0.00      0.00         7\n",
      "         402       0.00      0.00      0.00         0\n",
      "         403       0.00      0.00      0.00        12\n",
      "         404       0.00      0.00      0.00         0\n",
      "         405       0.00      0.00      0.00         3\n",
      "         406       0.00      0.00      0.00        12\n",
      "         407       0.00      0.00      0.00         0\n",
      "         408       0.00      0.00      0.00         4\n",
      "         409       0.00      0.00      0.00         5\n",
      "         410       0.40      0.04      0.08        48\n",
      "         411       0.00      0.00      0.00         1\n",
      "         412       0.00      0.00      0.00        11\n",
      "         413       0.00      0.00      0.00         0\n",
      "         414       0.00      0.00      0.00         7\n",
      "         415       0.00      0.00      0.00         1\n",
      "         416       0.00      0.00      0.00         5\n",
      "         417       0.00      0.00      0.00         8\n",
      "         418       0.00      0.00      0.00         6\n",
      "         419       0.00      0.00      0.00        11\n",
      "         420       0.00      0.00      0.00         5\n",
      "         421       0.00      0.00      0.00         0\n",
      "         422       0.00      0.00      0.00        14\n",
      "         423       1.00      0.24      0.39        25\n",
      "         424       0.00      0.00      0.00         2\n",
      "         425       0.00      0.00      0.00        17\n",
      "         426       0.00      0.00      0.00         2\n",
      "         427       0.00      0.00      0.00         7\n",
      "         428       0.00      0.00      0.00         3\n",
      "         429       0.00      0.00      0.00         2\n",
      "         430       0.00      0.00      0.00         2\n",
      "         431       0.09      0.01      0.02        70\n",
      "         432       0.00      0.00      0.00         0\n",
      "         433       0.00      0.00      0.00         3\n",
      "         434       0.00      0.00      0.00         0\n",
      "         435       0.00      0.00      0.00         1\n",
      "         436       0.00      0.00      0.00         1\n",
      "         437       0.00      0.00      0.00         0\n",
      "         438       0.00      0.00      0.00         5\n",
      "         439       0.00      0.00      0.00        22\n",
      "         440       0.00      0.00      0.00        15\n",
      "         441       0.00      0.00      0.00        13\n",
      "         442       0.00      0.00      0.00         4\n",
      "         443       0.00      0.00      0.00         6\n",
      "         444       0.00      0.00      0.00         5\n",
      "         445       0.00      0.00      0.00         2\n",
      "         446       0.00      0.00      0.00         7\n",
      "         447       0.00      0.00      0.00         6\n",
      "         448       0.07      0.01      0.02        75\n",
      "         449       0.00      0.00      0.00         6\n",
      "         450       1.00      0.11      0.20         9\n",
      "         451       0.00      0.00      0.00         8\n",
      "         452       0.00      0.00      0.00         1\n",
      "         453       0.00      0.00      0.00        12\n",
      "         454       0.00      0.00      0.00        17\n",
      "         455       0.00      0.00      0.00         0\n",
      "         456       0.00      0.00      0.00        35\n",
      "         457       0.00      0.00      0.00         7\n",
      "         458       0.00      0.00      0.00        16\n",
      "         459       0.00      0.00      0.00        34\n",
      "         460       0.00      0.00      0.00        20\n",
      "         461       0.00      0.00      0.00        42\n",
      "         462       0.00      0.00      0.00        11\n",
      "         463       0.00      0.00      0.00        53\n",
      "         464       0.00      0.00      0.00         2\n",
      "         465       0.00      0.00      0.00        13\n",
      "         466       0.00      0.00      0.00        16\n",
      "         467       0.00      0.00      0.00         6\n",
      "         468       0.00      0.00      0.00         3\n",
      "         469       0.00      0.00      0.00         9\n",
      "         470       0.11      0.09      0.10       204\n",
      "         471       0.18      0.09      0.12       175\n",
      "         472       0.00      0.00      0.00         9\n",
      "         473       0.00      0.00      0.00        25\n",
      "         474       0.00      0.00      0.00        24\n",
      "         475       0.00      0.00      0.00        30\n",
      "         476       0.00      0.00      0.00        13\n",
      "         477       0.00      0.00      0.00         1\n",
      "         478       0.00      0.00      0.00        14\n",
      "         479       0.14      0.02      0.04        44\n",
      "         480       0.00      0.00      0.00         9\n",
      "         481       0.00      0.00      0.00        11\n",
      "         482       0.00      0.00      0.00        33\n",
      "         483       0.00      0.00      0.00        10\n",
      "         484       0.15      0.03      0.05       131\n",
      "         485       0.00      0.00      0.00         2\n",
      "         486       0.00      0.00      0.00        30\n",
      "         487       0.00      0.00      0.00         1\n",
      "         488       0.00      0.00      0.00        61\n",
      "         489       0.00      0.00      0.00         8\n",
      "         490       0.00      0.00      0.00        11\n",
      "         491       0.00      0.00      0.00         4\n",
      "         492       0.00      0.00      0.00        14\n",
      "\n",
      "   micro avg       0.21      0.26      0.23     17589\n",
      "   macro avg       0.02      0.01      0.01     17589\n",
      "weighted avg       0.16      0.26      0.18     17589\n",
      " samples avg       0.19      0.26      0.20     17589\n",
      "\n"
     ]
    },
    {
     "name": "stderr",
     "output_type": "stream",
     "text": [
      "/N/u/tanakulk/Carbonate/.conda/envs/CV/lib/python3.8/site-packages/sklearn/metrics/_classification.py:1245: UndefinedMetricWarning: Precision and F-score are ill-defined and being set to 0.0 in labels with no predicted samples. Use `zero_division` parameter to control this behavior.\n",
      "  _warn_prf(average, modifier, msg_start, len(result))\n",
      "/N/u/tanakulk/Carbonate/.conda/envs/CV/lib/python3.8/site-packages/sklearn/metrics/_classification.py:1245: UndefinedMetricWarning: Recall and F-score are ill-defined and being set to 0.0 in labels with no true samples. Use `zero_division` parameter to control this behavior.\n",
      "  _warn_prf(average, modifier, msg_start, len(result))\n",
      "/N/u/tanakulk/Carbonate/.conda/envs/CV/lib/python3.8/site-packages/sklearn/metrics/_classification.py:1245: UndefinedMetricWarning: Precision and F-score are ill-defined and being set to 0.0 in samples with no predicted labels. Use `zero_division` parameter to control this behavior.\n",
      "  _warn_prf(average, modifier, msg_start, len(result))\n"
     ]
    }
   ],
   "source": [
    "from sklearn.metrics import classification_report\n",
    "\n",
    "print (classification_report(y_test, brn_pred))"
   ]
  },
  {
   "cell_type": "markdown",
   "metadata": {},
   "source": [
    "Predict a sample"
   ]
  },
  {
   "cell_type": "code",
   "execution_count": 63,
   "metadata": {},
   "outputs": [
    {
     "data": {
      "text/plain": [
       "(1, 29428)"
      ]
     },
     "execution_count": 63,
     "metadata": {},
     "output_type": "execute_result"
    }
   ],
   "source": [
    "# test1 = ['problem eclipse regard xml file eclipse complain android scrollbars android fadingedge allow string check android developer site fact accept string xml file relate question pose problem miss android xmlns see code line begin xmlns correct believe complete file content xml version 1 0 encode utf 8 com example todolist todolistitemview xmlns android http schema android com apk res android android layout width fill parent android layout height fill parent android pad 10dp android scrollbars verticle android textcolor color notepad text android fadingedge verticle']\n",
    "# tfidf_test = TfidfVectorizer(min_df=0.00009, max_features=20000, smooth_idf=True, norm=\"l2\",tokenizer = lambda x: x.split(), sublinear_tf=False,ngram_range=(1,4))\n",
    "# test2 = ['eclipse complain android scrollbars android fadingedge allow string include code']\n",
    "test_sent = [\"import pandas as pd import as numpy np FutureWarning: Pass n_neighbors=8 as keyword args. From version 1.0 (renaming of 0.25) passing these as positional arguments will result in an error will result in an error\"]\n",
    "test_sent1=[\"python numpy error at runtime\"]\n",
    "\n",
    "qs = tfidf_body.transform(test_sent)\n",
    "\n",
    "qs2 = tfidf_title.transform(test_sent1)\n",
    "\n",
    "\n",
    "q = hstack([qs,qs2])\n",
    "q.shape"
   ]
  },
  {
   "cell_type": "code",
   "execution_count": 64,
   "metadata": {},
   "outputs": [
    {
     "name": "stdout",
     "output_type": "stream",
     "text": [
      "  (0, 342)\t1\n"
     ]
    }
   ],
   "source": [
    "op = brn.predict(q)\n",
    "print(op)"
   ]
  },
  {
   "cell_type": "code",
   "execution_count": 53,
   "metadata": {},
   "outputs": [
    {
     "name": "stdout",
     "output_type": "stream",
     "text": [
      "python\n"
     ]
    }
   ],
   "source": [
    "print(vec.get_feature_names()[342])"
   ]
  },
  {
   "cell_type": "code",
   "execution_count": null,
   "metadata": {},
   "outputs": [],
   "source": []
  }
 ],
 "metadata": {
  "colab": {
   "collapsed_sections": [],
   "name": "Predicitingtags_StackOverflowdata_using_NLP_Classifier Chain.ipynb",
   "provenance": []
  },
  "kernelspec": {
   "display_name": "Python 3",
   "language": "python",
   "name": "python3"
  },
  "language_info": {
   "codemirror_mode": {
    "name": "ipython",
    "version": 3
   },
   "file_extension": ".py",
   "mimetype": "text/x-python",
   "name": "python",
   "nbconvert_exporter": "python",
   "pygments_lexer": "ipython3",
   "version": "3.8.3"
  }
 },
 "nbformat": 4,
 "nbformat_minor": 1
}

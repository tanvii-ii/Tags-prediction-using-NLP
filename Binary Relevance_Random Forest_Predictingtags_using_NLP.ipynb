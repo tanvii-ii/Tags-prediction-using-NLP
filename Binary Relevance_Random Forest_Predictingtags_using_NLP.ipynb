{
 "cells": [
  {
   "cell_type": "code",
   "execution_count": 2,
   "metadata": {
    "colab": {
     "base_uri": "https://localhost:8080/"
    },
    "id": "CfkeOsTARbjL",
    "outputId": "58b5a683-7498-4e06-e7ca-d427d3b79cf6"
   },
   "outputs": [],
   "source": [
    "# ! pip install kaggle"
   ]
  },
  {
   "cell_type": "code",
   "execution_count": 3,
   "metadata": {
    "id": "pKCJVG-dR8-k"
   },
   "outputs": [
    {
     "name": "stdout",
     "output_type": "stream",
     "text": [
      "mkdir: cannot create directory ‘/N/u/tanakulk/Carbonate/.kaggle’: File exists\r\n"
     ]
    }
   ],
   "source": [
    "! mkdir ~/.kaggle"
   ]
  },
  {
   "cell_type": "code",
   "execution_count": 4,
   "metadata": {
    "id": "ksEMi1SASBEC"
   },
   "outputs": [
    {
     "name": "stdout",
     "output_type": "stream",
     "text": [
      "cp: cannot stat ‘kaggle.json’: No such file or directory\r\n"
     ]
    }
   ],
   "source": [
    "! cp kaggle.json ~/.kaggle/\n",
    "#! cp /kaggle.json ~/.kaggle/"
   ]
  },
  {
   "cell_type": "code",
   "execution_count": 5,
   "metadata": {
    "id": "pmMMlj6pSFJK"
   },
   "outputs": [],
   "source": [
    "! chmod 600 ~/.kaggle/kaggle.json"
   ]
  },
  {
   "cell_type": "code",
   "execution_count": 6,
   "metadata": {
    "colab": {
     "base_uri": "https://localhost:8080/"
    },
    "id": "iATD_ZW-SQaI",
    "outputId": "776d7472-3be0-4a3d-ed3f-e5ab35878ede"
   },
   "outputs": [
    {
     "name": "stdout",
     "output_type": "stream",
     "text": [
      "Train.zip: Skipping, found more recently modified local copy (use --force to force download)\r\n"
     ]
    }
   ],
   "source": [
    "! kaggle competitions download facebook-recruiting-iii-keyword-extraction -f Train.zip"
   ]
  },
  {
   "cell_type": "code",
   "execution_count": 1,
   "metadata": {
    "colab": {
     "base_uri": "https://localhost:8080/"
    },
    "id": "VSnCJ-uRSfGC",
    "outputId": "674b53ae-b878-4ce4-e220-faa9e36ea705"
   },
   "outputs": [
    {
     "name": "stderr",
     "output_type": "stream",
     "text": [
      "[nltk_data] Downloading package punkt to\n",
      "[nltk_data]     /N/u/tanakulk/Carbonate/nltk_data...\n",
      "[nltk_data]   Package punkt is already up-to-date!\n",
      "[nltk_data] Downloading package stopwords to\n",
      "[nltk_data]     /N/u/tanakulk/Carbonate/nltk_data...\n",
      "[nltk_data]   Package stopwords is already up-to-date!\n",
      "[nltk_data] Downloading package wordnet to\n",
      "[nltk_data]     /N/u/tanakulk/Carbonate/nltk_data...\n",
      "[nltk_data]   Package wordnet is already up-to-date!\n",
      "[nltk_data] Downloading package averaged_perceptron_tagger to\n",
      "[nltk_data]     /N/u/tanakulk/Carbonate/nltk_data...\n",
      "[nltk_data]   Package averaged_perceptron_tagger is already up-to-\n",
      "[nltk_data]       date!\n"
     ]
    },
    {
     "data": {
      "text/plain": [
       "True"
      ]
     },
     "execution_count": 1,
     "metadata": {},
     "output_type": "execute_result"
    }
   ],
   "source": [
    "import pandas as pd\n",
    "from bs4 import BeautifulSoup\n",
    "import re\n",
    "import nltk\n",
    "from nltk.tokenize import word_tokenize\n",
    "from nltk.corpus import stopwords\n",
    "from nltk.corpus import wordnet as wn\n",
    "from nltk.stem import WordNetLemmatizer\n",
    "from nltk import pos_tag\n",
    "from collections import defaultdict\n",
    "from sklearn.linear_model import LogisticRegression\n",
    "from sklearn.multioutput import ClassifierChain\n",
    "from sklearn.metrics import hamming_loss\n",
    "from sklearn.metrics import accuracy_score\n",
    "from sklearn.metrics import f1_score,precision_score,recall_score\n",
    "from sklearn.metrics import jaccard_score\n",
    "from sklearn.metrics import classification_report\n",
    "import numpy as np\n",
    "import time\n",
    "\n",
    "nltk.download('punkt')\n",
    "nltk.download('stopwords')\n",
    "nltk.download('wordnet')\n",
    "nltk.download('averaged_perceptron_tagger')\n",
    "\n",
    "#pip install scikit-multilearn --upgrade"
   ]
  },
  {
   "cell_type": "code",
   "execution_count": 8,
   "metadata": {
    "colab": {
     "base_uri": "https://localhost:8080/"
    },
    "id": "FmF3a24MUDNy",
    "outputId": "8d120996-e5f9-4b57-f8a9-24cd69be2c63"
   },
   "outputs": [],
   "source": [
    "# ! unzip Train.zip"
   ]
  },
  {
   "cell_type": "code",
   "execution_count": 2,
   "metadata": {
    "colab": {
     "base_uri": "https://localhost:8080/"
    },
    "id": "0g9k_np3374B",
    "outputId": "6482414b-57ec-486d-be80-3dbfb0a6fd66"
   },
   "outputs": [
    {
     "data": {
      "text/plain": [
       "6034195"
      ]
     },
     "execution_count": 2,
     "metadata": {},
     "output_type": "execute_result"
    }
   ],
   "source": [
    "train_data = pd.read_csv(\"Train.csv\")\n",
    "len(train_data)"
   ]
  },
  {
   "cell_type": "markdown",
   "metadata": {},
   "source": [
    "Dropping duplicate values present in the dataset"
   ]
  },
  {
   "cell_type": "code",
   "execution_count": 3,
   "metadata": {
    "colab": {
     "base_uri": "https://localhost:8080/"
    },
    "id": "2mw8QmzbUlet",
    "outputId": "844f9c1e-36c0-4584-d012-2dff31e61200"
   },
   "outputs": [
    {
     "data": {
      "text/plain": [
       "4186184"
      ]
     },
     "execution_count": 3,
     "metadata": {},
     "output_type": "execute_result"
    }
   ],
   "source": [
    "data = train_data.drop_duplicates(subset = [\"Title\",\"Tags\"])\n",
    "len(data)"
   ]
  },
  {
   "cell_type": "markdown",
   "metadata": {
    "id": "tTwE0GKzgPNm"
   },
   "source": [
    "Dropping rows with no tags"
   ]
  },
  {
   "cell_type": "code",
   "execution_count": 4,
   "metadata": {
    "colab": {
     "base_uri": "https://localhost:8080/"
    },
    "id": "7CFHYti3frep",
    "outputId": "26066ea4-2107-41d4-ad63-53dc8fc2f9a3"
   },
   "outputs": [
    {
     "data": {
      "text/plain": [
       "7"
      ]
     },
     "execution_count": 4,
     "metadata": {},
     "output_type": "execute_result"
    }
   ],
   "source": [
    "data['Tags'].isna().sum()"
   ]
  },
  {
   "cell_type": "code",
   "execution_count": 5,
   "metadata": {
    "id": "alzr7i5DgrpW"
   },
   "outputs": [],
   "source": [
    "data = data.dropna(subset=['Tags'])"
   ]
  },
  {
   "cell_type": "markdown",
   "metadata": {
    "id": "skb3Ie5Bmi6Y"
   },
   "source": [
    "Using 200k records for computation purposes"
   ]
  },
  {
   "cell_type": "code",
   "execution_count": 32,
   "metadata": {
    "id": "vwWLKoJVViUt"
   },
   "outputs": [],
   "source": [
    "data_split = data.loc[:200000]"
   ]
  },
  {
   "cell_type": "code",
   "execution_count": 33,
   "metadata": {
    "id": "Vxym5G3laDQ8"
   },
   "outputs": [],
   "source": [
    "data_split = data_split.reset_index(drop = True)"
   ]
  },
  {
   "cell_type": "markdown",
   "metadata": {
    "id": "lI3iie-mmqic"
   },
   "source": [
    "Function to perform Lemmatization using WordNetLemmatizer"
   ]
  },
  {
   "cell_type": "code",
   "execution_count": 34,
   "metadata": {
    "id": "ed38DKiKN7Nh"
   },
   "outputs": [],
   "source": [
    "def lemmatize(name):\n",
    "    tag_map = defaultdict(lambda : wn.NOUN)\n",
    "    tag_map['J'] = wn.ADJ\n",
    "    tag_map['V'] = wn.VERB\n",
    "    tag_map['R'] = wn.ADV\n",
    "\n",
    "    lemmatizer = WordNetLemmatizer()\n",
    "\n",
    "    lemmatized = []\n",
    "\n",
    "    for i in range(len(data_split)):\n",
    "      ls = \"\"\n",
    "      for word, tag in pos_tag(data_split[name][i]):\n",
    "        ls += \" \" + lemmatizer.lemmatize(word, tag_map[tag[0]])\n",
    "      lemmatized.append(ls)\n",
    "    return lemmatized"
   ]
  },
  {
   "cell_type": "markdown",
   "metadata": {
    "id": "zHTMcOJUN7ei"
   },
   "source": [
    "Function to complete the following pre-processnig steps:\n",
    "1. Remove HTML tags using Beautiful Soup\n",
    "2. Remove special characters using regular expressions\n",
    "3. Convert text to its lower form\n",
    "4. Tokenize the text\n",
    "5. Removing stopwords except 'C' and 'R'\n",
    "6. Performing Lemmatization"
   ]
  },
  {
   "cell_type": "code",
   "execution_count": 35,
   "metadata": {
    "id": "9YKFa9XaaSca"
   },
   "outputs": [],
   "source": [
    "def preprocessing(columnname, name):\n",
    "    \n",
    "    cleantext = []\n",
    "    for i in range(len(data_split)):\n",
    "      cleantext.append(BeautifulSoup(data_split[columnname][i], \"html\").text)\n",
    "    \n",
    "    data_split[name] = cleantext\n",
    "    \n",
    "    data_split[name] = data_split[name].apply(lambda x : re.sub(r\"[^a-zA-Z0-9]+\", ' ', x))\n",
    "    \n",
    "    data_split[name] = data_split[name].apply(lambda s: s.lower() if type(s) == str else s)\n",
    "    \n",
    "    data_split[name] = data_split[name].apply(lambda x : word_tokenize(x))\n",
    "    \n",
    "    stopword = stopwords.words('english')\n",
    "    data_split[name] = data_split[name].apply(lambda x : [word for word in x if not word in stopword or word=='c' or word=='r'])\n",
    "    \n",
    "    name_new = name + \" \" + \"tokens\"\n",
    "    data_split[name_new] = lemmatize(name)\n"
   ]
  },
  {
   "cell_type": "code",
   "execution_count": 36,
   "metadata": {
    "colab": {
     "base_uri": "https://localhost:8080/",
     "height": 745
    },
    "id": "kmpej4_bOGl8",
    "outputId": "fb68f665-13ce-4adb-903d-2f987aa7840e"
   },
   "outputs": [
    {
     "name": "stderr",
     "output_type": "stream",
     "text": [
      "/N/u/tanakulk/Carbonate/.conda/envs/CV/lib/python3.8/site-packages/bs4/__init__.py:414: MarkupResemblesLocatorWarning: \"http://127.0.0.1:8500/\" looks like a URL. Beautiful Soup is not an HTTP client. You should probably use an HTTP client like requests to get the document behind the URL, and feed that document to Beautiful Soup.\n",
      "  warnings.warn(\n"
     ]
    },
    {
     "data": {
      "text/html": [
       "<div>\n",
       "<style scoped>\n",
       "    .dataframe tbody tr th:only-of-type {\n",
       "        vertical-align: middle;\n",
       "    }\n",
       "\n",
       "    .dataframe tbody tr th {\n",
       "        vertical-align: top;\n",
       "    }\n",
       "\n",
       "    .dataframe thead th {\n",
       "        text-align: right;\n",
       "    }\n",
       "</style>\n",
       "<table border=\"1\" class=\"dataframe\">\n",
       "  <thead>\n",
       "    <tr style=\"text-align: right;\">\n",
       "      <th></th>\n",
       "      <th>Id</th>\n",
       "      <th>Title</th>\n",
       "      <th>Body</th>\n",
       "      <th>Tags</th>\n",
       "      <th>clean body text</th>\n",
       "      <th>clean body text tokens</th>\n",
       "      <th>clean title text</th>\n",
       "      <th>clean title text tokens</th>\n",
       "    </tr>\n",
       "  </thead>\n",
       "  <tbody>\n",
       "    <tr>\n",
       "      <th>0</th>\n",
       "      <td>1</td>\n",
       "      <td>How to check if an uploaded file is an image w...</td>\n",
       "      <td>&lt;p&gt;I'd like to check if an uploaded file is an...</td>\n",
       "      <td>php image-processing file-upload upload mime-t...</td>\n",
       "      <td>[like, check, uploaded, file, image, file, e, ...</td>\n",
       "      <td>like check upload file image file e g png jpg...</td>\n",
       "      <td>[check, uploaded, file, image, without, mime, ...</td>\n",
       "      <td>check upload file image without mime type</td>\n",
       "    </tr>\n",
       "    <tr>\n",
       "      <th>1</th>\n",
       "      <td>2</td>\n",
       "      <td>How can I prevent firefox from closing when I ...</td>\n",
       "      <td>&lt;p&gt;In my favorite editor (vim), I regularly us...</td>\n",
       "      <td>firefox</td>\n",
       "      <td>[favorite, editor, vim, regularly, use, ctrl, ...</td>\n",
       "      <td>favorite editor vim regularly use ctrl w exec...</td>\n",
       "      <td>[prevent, firefox, closing, press, ctrl, w]</td>\n",
       "      <td>prevent firefox close press ctrl w</td>\n",
       "    </tr>\n",
       "    <tr>\n",
       "      <th>2</th>\n",
       "      <td>3</td>\n",
       "      <td>R Error Invalid type (list) for variable</td>\n",
       "      <td>&lt;p&gt;I am import matlab file and construct a dat...</td>\n",
       "      <td>r matlab machine-learning</td>\n",
       "      <td>[import, matlab, file, construct, data, frame,...</td>\n",
       "      <td>import matlab file construct data frame matla...</td>\n",
       "      <td>[r, error, invalid, type, list, variable]</td>\n",
       "      <td>r error invalid type list variable</td>\n",
       "    </tr>\n",
       "    <tr>\n",
       "      <th>3</th>\n",
       "      <td>4</td>\n",
       "      <td>How do I replace special characters in a URL?</td>\n",
       "      <td>&lt;p&gt;This is probably very simple, but I simply ...</td>\n",
       "      <td>c# url encoding</td>\n",
       "      <td>[probably, simple, simply, find, answer, basic...</td>\n",
       "      <td>probably simple simply find answer basicaly w...</td>\n",
       "      <td>[replace, special, characters, url]</td>\n",
       "      <td>replace special character url</td>\n",
       "    </tr>\n",
       "    <tr>\n",
       "      <th>4</th>\n",
       "      <td>5</td>\n",
       "      <td>How to modify whois contact details?</td>\n",
       "      <td>&lt;pre&gt;&lt;code&gt;function modify(.......)\\n{\\n  $mco...</td>\n",
       "      <td>php api file-get-contents</td>\n",
       "      <td>[function, modify, mcontact, file, get, conten...</td>\n",
       "      <td>function modify mcontact file get content htt...</td>\n",
       "      <td>[modify, whois, contact, details]</td>\n",
       "      <td>modify whois contact detail</td>\n",
       "    </tr>\n",
       "    <tr>\n",
       "      <th>...</th>\n",
       "      <td>...</td>\n",
       "      <td>...</td>\n",
       "      <td>...</td>\n",
       "      <td>...</td>\n",
       "      <td>...</td>\n",
       "      <td>...</td>\n",
       "      <td>...</td>\n",
       "      <td>...</td>\n",
       "    </tr>\n",
       "    <tr>\n",
       "      <th>197719</th>\n",
       "      <td>199997</td>\n",
       "      <td>Custom clipping path over HTML &lt;div&gt;</td>\n",
       "      <td>&lt;p&gt;After unsuccessful experimentation with SVG...</td>\n",
       "      <td>javascript jquery css svg mask</td>\n",
       "      <td>[unsuccessful, experimentation, svg, looking, ...</td>\n",
       "      <td>unsuccessful experimentation svg look use ano...</td>\n",
       "      <td>[custom, clipping, path, html]</td>\n",
       "      <td>custom clip path html</td>\n",
       "    </tr>\n",
       "    <tr>\n",
       "      <th>197720</th>\n",
       "      <td>199998</td>\n",
       "      <td>git alias for HEAD:refs/for/master</td>\n",
       "      <td>&lt;p&gt;I am configuring &lt;code&gt;Gerrit&lt;/code&gt; and I ...</td>\n",
       "      <td>git gerrit</td>\n",
       "      <td>[configuring, gerrit, would, like, avoid, writ...</td>\n",
       "      <td>configure gerrit would like avoid write git p...</td>\n",
       "      <td>[git, alias, head, refs, master]</td>\n",
       "      <td>git alias head ref master</td>\n",
       "    </tr>\n",
       "    <tr>\n",
       "      <th>197721</th>\n",
       "      <td>199999</td>\n",
       "      <td>Can i prevent the keyboard to push things up w...</td>\n",
       "      <td>&lt;p&gt;I am using sencha touch beta 3 version at t...</td>\n",
       "      <td>android ios sencha-touch sencha sencha-touch-2</td>\n",
       "      <td>[using, sencha, touch, beta, 3, version, momen...</td>\n",
       "      <td>use sencha touch beta 3 version moment header...</td>\n",
       "      <td>[prevent, keyboard, push, things, shown]</td>\n",
       "      <td>prevent keyboard push thing show</td>\n",
       "    </tr>\n",
       "    <tr>\n",
       "      <th>197722</th>\n",
       "      <td>200000</td>\n",
       "      <td>Excel time dd/hh/mm conversion to minutes only</td>\n",
       "      <td>&lt;p&gt;How do I convert turn around time written i...</td>\n",
       "      <td>excel excel-formula</td>\n",
       "      <td>[convert, turn, around, time, written, excel, ...</td>\n",
       "      <td>convert turn around time write excel cell 0d ...</td>\n",
       "      <td>[excel, time, dd, hh, mm, conversion, minutes]</td>\n",
       "      <td>excel time dd hh mm conversion minute</td>\n",
       "    </tr>\n",
       "    <tr>\n",
       "      <th>197723</th>\n",
       "      <td>200001</td>\n",
       "      <td>How can I make my 'sunspot-solr start' work?</td>\n",
       "      <td>&lt;p&gt;I'm have problem to start my sunspot-solr.\\...</td>\n",
       "      <td>solr ruby-on-rails-3 sunspot</td>\n",
       "      <td>[problem, start, sunspot, solr, fallowing, ins...</td>\n",
       "      <td>problem start sunspot solr fallowing instruct...</td>\n",
       "      <td>[make, sunspot, solr, start, work]</td>\n",
       "      <td>make sunspot solr start work</td>\n",
       "    </tr>\n",
       "  </tbody>\n",
       "</table>\n",
       "<p>197724 rows × 8 columns</p>\n",
       "</div>"
      ],
      "text/plain": [
       "            Id                                              Title  \\\n",
       "0            1  How to check if an uploaded file is an image w...   \n",
       "1            2  How can I prevent firefox from closing when I ...   \n",
       "2            3           R Error Invalid type (list) for variable   \n",
       "3            4      How do I replace special characters in a URL?   \n",
       "4            5               How to modify whois contact details?   \n",
       "...        ...                                                ...   \n",
       "197719  199997               Custom clipping path over HTML <div>   \n",
       "197720  199998                 git alias for HEAD:refs/for/master   \n",
       "197721  199999  Can i prevent the keyboard to push things up w...   \n",
       "197722  200000     Excel time dd/hh/mm conversion to minutes only   \n",
       "197723  200001       How can I make my 'sunspot-solr start' work?   \n",
       "\n",
       "                                                     Body  \\\n",
       "0       <p>I'd like to check if an uploaded file is an...   \n",
       "1       <p>In my favorite editor (vim), I regularly us...   \n",
       "2       <p>I am import matlab file and construct a dat...   \n",
       "3       <p>This is probably very simple, but I simply ...   \n",
       "4       <pre><code>function modify(.......)\\n{\\n  $mco...   \n",
       "...                                                   ...   \n",
       "197719  <p>After unsuccessful experimentation with SVG...   \n",
       "197720  <p>I am configuring <code>Gerrit</code> and I ...   \n",
       "197721  <p>I am using sencha touch beta 3 version at t...   \n",
       "197722  <p>How do I convert turn around time written i...   \n",
       "197723  <p>I'm have problem to start my sunspot-solr.\\...   \n",
       "\n",
       "                                                     Tags  \\\n",
       "0       php image-processing file-upload upload mime-t...   \n",
       "1                                                 firefox   \n",
       "2                               r matlab machine-learning   \n",
       "3                                         c# url encoding   \n",
       "4                               php api file-get-contents   \n",
       "...                                                   ...   \n",
       "197719                     javascript jquery css svg mask   \n",
       "197720                                         git gerrit   \n",
       "197721     android ios sencha-touch sencha sencha-touch-2   \n",
       "197722                                excel excel-formula   \n",
       "197723                       solr ruby-on-rails-3 sunspot   \n",
       "\n",
       "                                          clean body text  \\\n",
       "0       [like, check, uploaded, file, image, file, e, ...   \n",
       "1       [favorite, editor, vim, regularly, use, ctrl, ...   \n",
       "2       [import, matlab, file, construct, data, frame,...   \n",
       "3       [probably, simple, simply, find, answer, basic...   \n",
       "4       [function, modify, mcontact, file, get, conten...   \n",
       "...                                                   ...   \n",
       "197719  [unsuccessful, experimentation, svg, looking, ...   \n",
       "197720  [configuring, gerrit, would, like, avoid, writ...   \n",
       "197721  [using, sencha, touch, beta, 3, version, momen...   \n",
       "197722  [convert, turn, around, time, written, excel, ...   \n",
       "197723  [problem, start, sunspot, solr, fallowing, ins...   \n",
       "\n",
       "                                   clean body text tokens  \\\n",
       "0        like check upload file image file e g png jpg...   \n",
       "1        favorite editor vim regularly use ctrl w exec...   \n",
       "2        import matlab file construct data frame matla...   \n",
       "3        probably simple simply find answer basicaly w...   \n",
       "4        function modify mcontact file get content htt...   \n",
       "...                                                   ...   \n",
       "197719   unsuccessful experimentation svg look use ano...   \n",
       "197720   configure gerrit would like avoid write git p...   \n",
       "197721   use sencha touch beta 3 version moment header...   \n",
       "197722   convert turn around time write excel cell 0d ...   \n",
       "197723   problem start sunspot solr fallowing instruct...   \n",
       "\n",
       "                                         clean title text  \\\n",
       "0       [check, uploaded, file, image, without, mime, ...   \n",
       "1             [prevent, firefox, closing, press, ctrl, w]   \n",
       "2               [r, error, invalid, type, list, variable]   \n",
       "3                     [replace, special, characters, url]   \n",
       "4                       [modify, whois, contact, details]   \n",
       "...                                                   ...   \n",
       "197719                     [custom, clipping, path, html]   \n",
       "197720                   [git, alias, head, refs, master]   \n",
       "197721           [prevent, keyboard, push, things, shown]   \n",
       "197722     [excel, time, dd, hh, mm, conversion, minutes]   \n",
       "197723                 [make, sunspot, solr, start, work]   \n",
       "\n",
       "                           clean title text tokens  \n",
       "0        check upload file image without mime type  \n",
       "1               prevent firefox close press ctrl w  \n",
       "2               r error invalid type list variable  \n",
       "3                    replace special character url  \n",
       "4                      modify whois contact detail  \n",
       "...                                            ...  \n",
       "197719                       custom clip path html  \n",
       "197720                   git alias head ref master  \n",
       "197721            prevent keyboard push thing show  \n",
       "197722       excel time dd hh mm conversion minute  \n",
       "197723                make sunspot solr start work  \n",
       "\n",
       "[197724 rows x 8 columns]"
      ]
     },
     "execution_count": 36,
     "metadata": {},
     "output_type": "execute_result"
    }
   ],
   "source": [
    "preprocessing('Body','clean body text')\n",
    "preprocessing('Title','clean title text')\n",
    "data_split"
   ]
  },
  {
   "cell_type": "markdown",
   "metadata": {
    "id": "kSJ0qMP-TwJ2"
   },
   "source": [
    "Total number of tags and unique tags in 200k training data"
   ]
  },
  {
   "cell_type": "code",
   "execution_count": 37,
   "metadata": {
    "id": "9rE2Ho-UTwft"
   },
   "outputs": [],
   "source": [
    "def get_unique_tags(df):\n",
    "  tags = df['Tags'].str.cat(sep=' ')\n",
    "  tags = list(tags.split(\" \"))\n",
    "  print(\"Total tags present\",len(tags))\n",
    "  print(\"Total unique tags present:\",len(list(set(tags))))\n",
    "  return tags"
   ]
  },
  {
   "cell_type": "code",
   "execution_count": 38,
   "metadata": {
    "colab": {
     "base_uri": "https://localhost:8080/"
    },
    "id": "DV-Ua8c_Twvv",
    "outputId": "db449d2d-d425-452d-c361-d4782a64a313"
   },
   "outputs": [
    {
     "name": "stdout",
     "output_type": "stream",
     "text": [
      "Total tags present 571038\n",
      "Total unique tags present: 23686\n"
     ]
    }
   ],
   "source": [
    "tags = get_unique_tags(data_split)"
   ]
  },
  {
   "cell_type": "code",
   "execution_count": 39,
   "metadata": {
    "id": "_lgUpMsGT9wG"
   },
   "outputs": [],
   "source": [
    "tag_count = {}\n",
    "unique_tags = list(set(tags))\n",
    "\n",
    "for tag in unique_tags:\n",
    "  #print(tag)\n",
    "  tag_count[tag] = tags.count(tag)"
   ]
  },
  {
   "cell_type": "markdown",
   "metadata": {
    "id": "S9-jBBWFTw--"
   },
   "source": [
    "Creating a dataframe of unique tags and the number of times each tag is appears in the answer."
   ]
  },
  {
   "cell_type": "code",
   "execution_count": 40,
   "metadata": {
    "colab": {
     "base_uri": "https://localhost:8080/",
     "height": 423
    },
    "id": "5WaGJ3ldTa94",
    "outputId": "6ed97157-c6e4-42ac-cff4-6f7a1029c4c5"
   },
   "outputs": [
    {
     "data": {
      "text/html": [
       "<div>\n",
       "<style scoped>\n",
       "    .dataframe tbody tr th:only-of-type {\n",
       "        vertical-align: middle;\n",
       "    }\n",
       "\n",
       "    .dataframe tbody tr th {\n",
       "        vertical-align: top;\n",
       "    }\n",
       "\n",
       "    .dataframe thead th {\n",
       "        text-align: right;\n",
       "    }\n",
       "</style>\n",
       "<table border=\"1\" class=\"dataframe\">\n",
       "  <thead>\n",
       "    <tr style=\"text-align: right;\">\n",
       "      <th></th>\n",
       "      <th>tags</th>\n",
       "      <th>count</th>\n",
       "    </tr>\n",
       "  </thead>\n",
       "  <tbody>\n",
       "    <tr>\n",
       "      <th>0</th>\n",
       "      <td>c#</td>\n",
       "      <td>15288</td>\n",
       "    </tr>\n",
       "    <tr>\n",
       "      <th>1</th>\n",
       "      <td>java</td>\n",
       "      <td>13495</td>\n",
       "    </tr>\n",
       "    <tr>\n",
       "      <th>2</th>\n",
       "      <td>php</td>\n",
       "      <td>12811</td>\n",
       "    </tr>\n",
       "    <tr>\n",
       "      <th>3</th>\n",
       "      <td>javascript</td>\n",
       "      <td>12039</td>\n",
       "    </tr>\n",
       "    <tr>\n",
       "      <th>4</th>\n",
       "      <td>android</td>\n",
       "      <td>10503</td>\n",
       "    </tr>\n",
       "    <tr>\n",
       "      <th>...</th>\n",
       "      <td>...</td>\n",
       "      <td>...</td>\n",
       "    </tr>\n",
       "    <tr>\n",
       "      <th>23681</th>\n",
       "      <td>activator</td>\n",
       "      <td>1</td>\n",
       "    </tr>\n",
       "    <tr>\n",
       "      <th>23682</th>\n",
       "      <td>ruby1.9</td>\n",
       "      <td>1</td>\n",
       "    </tr>\n",
       "    <tr>\n",
       "      <th>23683</th>\n",
       "      <td>fpic</td>\n",
       "      <td>1</td>\n",
       "    </tr>\n",
       "    <tr>\n",
       "      <th>23684</th>\n",
       "      <td>pointer-arithmetic</td>\n",
       "      <td>1</td>\n",
       "    </tr>\n",
       "    <tr>\n",
       "      <th>23685</th>\n",
       "      <td>g1</td>\n",
       "      <td>1</td>\n",
       "    </tr>\n",
       "  </tbody>\n",
       "</table>\n",
       "<p>23686 rows × 2 columns</p>\n",
       "</div>"
      ],
      "text/plain": [
       "                     tags  count\n",
       "0                      c#  15288\n",
       "1                    java  13495\n",
       "2                     php  12811\n",
       "3              javascript  12039\n",
       "4                 android  10503\n",
       "...                   ...    ...\n",
       "23681           activator      1\n",
       "23682             ruby1.9      1\n",
       "23683                fpic      1\n",
       "23684  pointer-arithmetic      1\n",
       "23685                  g1      1\n",
       "\n",
       "[23686 rows x 2 columns]"
      ]
     },
     "execution_count": 40,
     "metadata": {},
     "output_type": "execute_result"
    }
   ],
   "source": [
    "sorted_tags = pd.DataFrame(sorted(tag_count.items(), key=lambda item: item[1],reverse=True),columns=['tags','count'])\n",
    "sorted_tags"
   ]
  },
  {
   "cell_type": "markdown",
   "metadata": {
    "id": "JeNS6foCz8AQ"
   },
   "source": [
    "Dropping all tags except top 500 tags from every record"
   ]
  },
  {
   "cell_type": "code",
   "execution_count": 41,
   "metadata": {
    "id": "A7AAPc8Sz0_I"
   },
   "outputs": [],
   "source": [
    "top500_tags = sorted_tags['tags'][:500]\n",
    "type(top500_tags)\n",
    "type(top500_tags)\n",
    "top500_tags_list = list(top500_tags)\n",
    "\n",
    "#top500_tags_list"
   ]
  },
  {
   "cell_type": "code",
   "execution_count": 42,
   "metadata": {
    "id": "6y0XKpUKfUrZ"
   },
   "outputs": [],
   "source": [
    "def find_most_frequent_tags(x):\n",
    "  #print(x)\n",
    "  list1 = x.split(\" \")\n",
    "  result = \"\"\n",
    "  for tag in list1:\n",
    "    #print(tag)\n",
    "    if tag in top500_tags_list:\n",
    "      #print(\"in\")\n",
    "      result+= \" \" + tag\n",
    "  return result\n"
   ]
  },
  {
   "cell_type": "code",
   "execution_count": 43,
   "metadata": {
    "colab": {
     "base_uri": "https://localhost:8080/"
    },
    "id": "VgVf3jThe-Yf",
    "outputId": "8807ce37-a5b0-4829-c0ef-db69f1573a4d"
   },
   "outputs": [
    {
     "name": "stdout",
     "output_type": "stream",
     "text": [
      "after taking top 500 frequency tags (197724,)\n",
      "(197724, 3)\n",
      "                           clean title text tokens  \\\n",
      "0        check upload file image without mime type   \n",
      "1               prevent firefox close press ctrl w   \n",
      "2               r error invalid type list variable   \n",
      "3                    replace special character url   \n",
      "4                      modify whois contact detail   \n",
      "...                                            ...   \n",
      "197719                       custom clip path html   \n",
      "197720                   git alias head ref master   \n",
      "197721            prevent keyboard push thing show   \n",
      "197722       excel time dd hh mm conversion minute   \n",
      "197723                make sunspot solr start work   \n",
      "\n",
      "                                   clean body text tokens  \\\n",
      "0        like check upload file image file e g png jpg...   \n",
      "1        favorite editor vim regularly use ctrl w exec...   \n",
      "2        import matlab file construct data frame matla...   \n",
      "3        probably simple simply find answer basicaly w...   \n",
      "4        function modify mcontact file get content htt...   \n",
      "...                                                   ...   \n",
      "197719   unsuccessful experimentation svg look use ano...   \n",
      "197720   configure gerrit would like avoid write git p...   \n",
      "197721   use sencha touch beta 3 version moment header...   \n",
      "197722   convert turn around time write excel cell 0d ...   \n",
      "197723   problem start sunspot solr fallowing instruct...   \n",
      "\n",
      "                                            Tags  \n",
      "0        php image-processing file-upload upload  \n",
      "1                                        firefox  \n",
      "2                                       r matlab  \n",
      "3                                c# url encoding  \n",
      "4                                        php api  \n",
      "...                                          ...  \n",
      "197719                 javascript jquery css svg  \n",
      "197720                                       git  \n",
      "197721                               android ios  \n",
      "197722                                     excel  \n",
      "197723                      solr ruby-on-rails-3  \n",
      "\n",
      "[197724 rows x 3 columns]\n",
      "After dropping tags with 0 length (177262, 3)\n",
      "data new is                            clean title text tokens  \\\n",
      "0        check upload file image without mime type   \n",
      "1               prevent firefox close press ctrl w   \n",
      "2               r error invalid type list variable   \n",
      "3                    replace special character url   \n",
      "4                      modify whois contact detail   \n",
      "...                                            ...   \n",
      "197719                       custom clip path html   \n",
      "197720                   git alias head ref master   \n",
      "197721            prevent keyboard push thing show   \n",
      "197722       excel time dd hh mm conversion minute   \n",
      "197723                make sunspot solr start work   \n",
      "\n",
      "                                   clean body text tokens  \\\n",
      "0        like check upload file image file e g png jpg...   \n",
      "1        favorite editor vim regularly use ctrl w exec...   \n",
      "2        import matlab file construct data frame matla...   \n",
      "3        probably simple simply find answer basicaly w...   \n",
      "4        function modify mcontact file get content htt...   \n",
      "...                                                   ...   \n",
      "197719   unsuccessful experimentation svg look use ano...   \n",
      "197720   configure gerrit would like avoid write git p...   \n",
      "197721   use sencha touch beta 3 version moment header...   \n",
      "197722   convert turn around time write excel cell 0d ...   \n",
      "197723   problem start sunspot solr fallowing instruct...   \n",
      "\n",
      "                                            Tags  \n",
      "0        php image-processing file-upload upload  \n",
      "1                                        firefox  \n",
      "2                                       r matlab  \n",
      "3                                c# url encoding  \n",
      "4                                        php api  \n",
      "...                                          ...  \n",
      "197719                 javascript jquery css svg  \n",
      "197720                                       git  \n",
      "197721                               android ios  \n",
      "197722                                     excel  \n",
      "197723                      solr ruby-on-rails-3  \n",
      "\n",
      "[177262 rows x 3 columns]\n"
     ]
    },
    {
     "data": {
      "text/plain": [
       "pandas.core.frame.DataFrame"
      ]
     },
     "execution_count": 43,
     "metadata": {},
     "output_type": "execute_result"
    }
   ],
   "source": [
    "data_tags = data_split['Tags'].apply(lambda x: find_most_frequent_tags(x))\n",
    "print(\"after taking top 500 frequency tags\",data_tags.shape)\n",
    "data_tags = data_tags.apply(lambda x: x if len(x)>0 else None)\n",
    "data_new = pd.concat([data_split[['clean title text tokens','clean body text tokens']],data_tags],axis=1)\n",
    "print(data_new.shape)\n",
    "print(data_new)\n",
    "data_new.reset_index(drop=True)\n",
    "data_new.dropna(subset= ['Tags'],inplace = True)\n",
    "print(\"After dropping tags with 0 length\",data_new.shape)\n",
    "data_new.reset_index(drop= True)\n",
    "print(\"data new is\", data_new)\n",
    "type(data_new.head())"
   ]
  },
  {
   "cell_type": "markdown",
   "metadata": {},
   "source": [
    "Vectorizing labels (tags) with 0 or 1 (binary vectorizer)"
   ]
  },
  {
   "cell_type": "code",
   "execution_count": 73,
   "metadata": {
    "id": "0EKUE55AA4iO"
   },
   "outputs": [],
   "source": [
    "from sklearn.feature_extraction.text import CountVectorizer\n",
    "from sklearn.feature_extraction.text import TfidfVectorizer\n",
    "vec = CountVectorizer(tokenizer = lambda x: x.split(), binary='true')\n",
    "y = vec.fit_transform(data_new['Tags'])"
   ]
  },
  {
   "cell_type": "markdown",
   "metadata": {},
   "source": [
    "Feature extracting using tfidf for both body and titles. We will get sparse matrics as out after fit and transform"
   ]
  },
  {
   "cell_type": "code",
   "execution_count": 74,
   "metadata": {
    "id": "sEGStAj3Kz96"
   },
   "outputs": [],
   "source": [
    "from sklearn.feature_extraction.text import TfidfVectorizer\n",
    "\n",
    "tfidf_body = TfidfVectorizer(min_df=0.00009, max_features=20000, smooth_idf=True, norm=\"l2\",tokenizer = lambda x: x.split(), sublinear_tf=False,ngram_range=(1,4))\n",
    "tfidf_title = TfidfVectorizer(min_df=0.00009, max_features=20000, smooth_idf=True, norm=\"l2\",tokenizer = lambda x: x.split(), sublinear_tf=False,ngram_range=(1,4))\n",
    "x_train_tfidf_body = tfidf_body.fit_transform(data_new['clean body text tokens'])\n",
    "x_train_tfidf_title = tfidf_title.fit_transform(data_new['clean title text tokens'])"
   ]
  },
  {
   "cell_type": "markdown",
   "metadata": {},
   "source": [
    "Stacking body and title together"
   ]
  },
  {
   "cell_type": "code",
   "execution_count": 75,
   "metadata": {
    "id": "2xcheuQxPCJr"
   },
   "outputs": [],
   "source": [
    "from scipy.sparse import hstack\n",
    "x_data = hstack([x_train_tfidf_body,x_train_tfidf_title])"
   ]
  },
  {
   "cell_type": "markdown",
   "metadata": {},
   "source": [
    "Splitting data into train and test "
   ]
  },
  {
   "cell_type": "code",
   "execution_count": 76,
   "metadata": {
    "id": "-y1pgT4gO8gE"
   },
   "outputs": [],
   "source": [
    "from sklearn.model_selection import train_test_split\n",
    "x_train, x_test,y_train, y_test = train_test_split(x_data, y, test_size=0.2,random_state = 0)"
   ]
  },
  {
   "cell_type": "code",
   "execution_count": 77,
   "metadata": {
    "colab": {
     "base_uri": "https://localhost:8080/"
    },
    "id": "UKtVlNDYLHmk",
    "outputId": "8736a4f4-32ee-4f51-a496-3daafca4d2f6"
   },
   "outputs": [
    {
     "name": "stdout",
     "output_type": "stream",
     "text": [
      "shape of train data X: (141809, 28915) Y : (141809, 500)\n",
      "shape of test data X: (35453, 28915) Y: (35453, 500)\n"
     ]
    }
   ],
   "source": [
    "print(\"shape of train data X:\",x_train.shape, \"Y :\",y_train.shape)\n",
    "print(\"shape of test data X:\",x_test.shape,\"Y:\",y_test.shape)"
   ]
  },
  {
   "cell_type": "markdown",
   "metadata": {},
   "source": [
    "Training and testing a Binary Relevance classifier using Random Forest"
   ]
  },
  {
   "cell_type": "code",
   "execution_count": 51,
   "metadata": {},
   "outputs": [
    {
     "name": "stdout",
     "output_type": "stream",
     "text": [
      "Time taken to train : 31725.0\n"
     ]
    }
   ],
   "source": [
    "from skmultilearn.problem_transform import BinaryRelevance\n",
    "from sklearn.ensemble import RandomForestClassifier\n",
    "import time\n",
    "\n",
    "startbr=time.time()\n",
    "\n",
    "br = BinaryRelevance(classifier = RandomForestClassifier(), require_dense = [False, True])\n",
    "\n",
    "br.fit(x_train, y_train)\n",
    "\n",
    "print(\"Time taken to train :\", round(time.time()-startbr,0))"
   ]
  },
  {
   "cell_type": "code",
   "execution_count": 52,
   "metadata": {},
   "outputs": [
    {
     "name": "stdout",
     "output_type": "stream",
     "text": [
      "Accuracy:  0.1568837615998646\n",
      "Hamming loss:  0.003102812173863989\n"
     ]
    }
   ],
   "source": [
    "br_pred = br.predict(x_test)\n",
    "\n",
    "print(\"Accuracy: \", accuracy_score(y_test, br_pred))\n",
    "print(\"Hamming loss: \", hamming_loss(y_test, br_pred))"
   ]
  },
  {
   "cell_type": "code",
   "execution_count": 53,
   "metadata": {
    "colab": {
     "base_uri": "https://localhost:8080/"
    },
    "id": "eqMlKCbkMU7O",
    "outputId": "50f1d6df-886a-492c-e59c-5016f8dfed51"
   },
   "outputs": [
    {
     "name": "stdout",
     "output_type": "stream",
     "text": [
      "Micro-average metrics: \n",
      "Precision:  0.853010411951109 Recall:  0.26690557806170145  F1-measure:  0.40658984981874674\n",
      "Macro-average quality numbers: \n",
      "Precision:  0.3687612721296166 Recall:  0.09539278928057135  F1-measure:  0.1318538570293653\n",
      "              precision    recall  f1-score   support\n",
      "\n",
      "           0       0.75      0.36      0.48       152\n",
      "           1       0.52      0.01      0.02      1081\n",
      "           2       0.00      0.00      0.00        31\n",
      "           3       0.00      0.00      0.00        47\n",
      "           4       0.00      0.00      0.00        39\n",
      "           5       0.00      0.00      0.00        46\n",
      "           6       0.00      0.00      0.00        82\n",
      "           7       0.00      0.00      0.00        46\n",
      "           8       0.93      0.29      0.45       170\n",
      "           9       0.85      0.18      0.29        62\n",
      "          10       0.00      0.00      0.00        64\n",
      "          11       0.00      0.00      0.00        57\n",
      "          12       1.00      0.03      0.05        39\n",
      "          13       0.85      0.15      0.25       416\n",
      "          14       0.00      0.00      0.00        65\n",
      "          15       0.50      0.01      0.01       167\n",
      "          16       0.89      0.45      0.60        55\n",
      "          17       0.00      0.00      0.00        29\n",
      "          18       0.00      0.00      0.00        41\n",
      "          19       0.95      0.89      0.92      2133\n",
      "          20       0.00      0.00      0.00        28\n",
      "          21       1.00      0.02      0.03        57\n",
      "          22       0.00      0.00      0.00       106\n",
      "          23       0.00      0.00      0.00        67\n",
      "          24       1.00      0.06      0.12        49\n",
      "          25       0.00      0.00      0.00       179\n",
      "          26       0.89      0.09      0.16       182\n",
      "          27       1.00      0.01      0.01       161\n",
      "          28       0.00      0.00      0.00        65\n",
      "          29       0.00      0.00      0.00        65\n",
      "          30       0.80      0.02      0.05       323\n",
      "          31       1.00      0.13      0.23        38\n",
      "          32       0.82      0.50      0.63      1152\n",
      "          33       0.81      0.29      0.42       410\n",
      "          34       1.00      0.05      0.09        66\n",
      "          35       0.86      0.12      0.22       240\n",
      "          36       0.00      0.00      0.00        45\n",
      "          37       1.00      0.02      0.04        50\n",
      "          38       0.00      0.00      0.00        55\n",
      "          39       0.00      0.00      0.00        37\n",
      "          40       0.00      0.00      0.00        98\n",
      "          41       1.00      0.01      0.01       135\n",
      "          42       0.00      0.00      0.00        35\n",
      "          43       0.00      0.00      0.00        45\n",
      "          44       0.00      0.00      0.00        30\n",
      "          45       1.00      0.51      0.68        45\n",
      "          46       0.96      0.50      0.66        54\n",
      "          47       0.00      0.00      0.00        33\n",
      "          48       0.00      0.00      0.00        82\n",
      "          49       0.89      0.27      0.41       216\n",
      "          50       0.00      0.00      0.00        44\n",
      "          51       0.00      0.00      0.00        41\n",
      "          52       0.00      0.00      0.00        40\n",
      "          53       1.00      0.38      0.55        60\n",
      "          54       0.00      0.00      0.00        31\n",
      "          55       0.82      0.14      0.24        64\n",
      "          56       0.00      0.00      0.00        50\n",
      "          57       0.00      0.00      0.00        80\n",
      "          58       0.00      0.00      0.00        24\n",
      "          59       0.00      0.00      0.00        62\n",
      "          60       0.85      0.18      0.30       636\n",
      "          61       0.74      0.24      0.36      2950\n",
      "          62       0.00      0.00      0.00        90\n",
      "          63       0.89      0.37      0.52      1311\n",
      "          64       0.00      0.00      0.00        32\n",
      "          65       0.00      0.00      0.00        75\n",
      "          66       0.98      0.48      0.64       100\n",
      "          67       1.00      0.01      0.02       105\n",
      "          68       0.00      0.00      0.00        40\n",
      "          69       0.00      0.00      0.00        38\n",
      "          70       0.33      0.01      0.02        80\n",
      "          71       0.00      0.00      0.00        32\n",
      "          72       0.00      0.00      0.00        30\n",
      "          73       0.00      0.00      0.00        41\n",
      "          74       0.00      0.00      0.00       105\n",
      "          75       0.81      0.07      0.14       175\n",
      "          76       0.00      0.00      0.00       172\n",
      "          77       0.95      0.42      0.58       123\n",
      "          78       0.00      0.00      0.00        39\n",
      "          79       0.92      0.36      0.52        33\n",
      "          80       0.00      0.00      0.00        38\n",
      "          81       0.00      0.00      0.00        45\n",
      "          82       0.00      0.00      0.00        41\n",
      "          83       0.00      0.00      0.00        58\n",
      "          84       0.00      0.00      0.00        26\n",
      "          85       0.00      0.00      0.00       118\n",
      "          86       0.00      0.00      0.00        29\n",
      "          87       0.00      0.00      0.00        44\n",
      "          88       0.00      0.00      0.00        46\n",
      "          89       0.00      0.00      0.00        31\n",
      "          90       0.00      0.00      0.00        69\n",
      "          91       0.00      0.00      0.00        39\n",
      "          92       0.00      0.00      0.00        42\n",
      "          93       0.00      0.00      0.00        40\n",
      "          94       1.00      0.03      0.05        71\n",
      "          95       0.90      0.29      0.44        93\n",
      "          96       0.00      0.00      0.00        41\n",
      "          97       1.00      0.05      0.10        37\n",
      "          98       0.86      0.42      0.56       854\n",
      "          99       0.00      0.00      0.00        71\n",
      "         100       0.60      0.06      0.11        50\n",
      "         101       0.53      0.32      0.40        57\n",
      "         102       0.89      0.24      0.38        33\n",
      "         103       0.00      0.00      0.00        61\n",
      "         104       0.00      0.00      0.00        56\n",
      "         105       0.00      0.00      0.00        66\n",
      "         106       0.00      0.00      0.00       384\n",
      "         107       0.00      0.00      0.00        80\n",
      "         108       0.00      0.00      0.00        36\n",
      "         109       0.00      0.00      0.00        31\n",
      "         110       0.00      0.00      0.00        98\n",
      "         111       0.00      0.00      0.00        87\n",
      "         112       1.00      0.02      0.05        84\n",
      "         113       0.00      0.00      0.00       130\n",
      "         114       0.00      0.00      0.00        35\n",
      "         115       0.98      0.36      0.53       151\n",
      "         116       0.00      0.00      0.00        35\n",
      "         117       0.00      0.00      0.00        71\n",
      "         118       0.00      0.00      0.00        95\n",
      "         119       0.70      0.07      0.13        97\n",
      "         120       0.00      0.00      0.00        44\n",
      "         121       0.00      0.00      0.00        67\n",
      "         122       0.96      0.83      0.89       343\n",
      "         123       0.00      0.00      0.00        40\n",
      "         124       0.00      0.00      0.00        64\n",
      "         125       1.00      0.08      0.15        89\n",
      "         126       1.00      0.16      0.27        45\n",
      "         127       0.00      0.00      0.00        79\n",
      "         128       0.00      0.00      0.00        42\n",
      "         129       0.00      0.00      0.00        46\n",
      "         130       0.00      0.00      0.00        41\n",
      "         131       0.89      0.37      0.52        87\n",
      "         132       0.00      0.00      0.00        58\n",
      "         133       0.80      0.53      0.64       257\n",
      "         134       0.00      0.00      0.00        35\n",
      "         135       0.97      0.45      0.62        64\n",
      "         136       1.00      0.01      0.01       193\n",
      "         137       0.00      0.00      0.00        56\n",
      "         138       0.50      0.01      0.02        84\n",
      "         139       0.66      0.26      0.38       149\n",
      "         140       0.00      0.00      0.00        57\n",
      "         141       0.00      0.00      0.00        44\n",
      "         142       0.00      0.00      0.00       111\n",
      "         143       0.83      0.06      0.11       165\n",
      "         144       0.00      0.00      0.00        42\n",
      "         145       0.00      0.00      0.00        94\n",
      "         146       0.00      0.00      0.00        35\n",
      "         147       0.00      0.00      0.00        33\n",
      "         148       1.00      0.23      0.38        56\n",
      "         149       0.80      0.61      0.69       285\n",
      "         150       1.00      0.07      0.12        90\n",
      "         151       0.00      0.00      0.00       153\n",
      "         152       0.00      0.00      0.00        51\n",
      "         153       0.00      0.00      0.00        51\n",
      "         154       0.00      0.00      0.00        66\n",
      "         155       0.00      0.00      0.00        37\n",
      "         156       0.83      0.14      0.23       110\n",
      "         157       0.00      0.00      0.00        30\n",
      "         158       0.83      0.12      0.22       160\n",
      "         159       0.94      0.46      0.62       132\n",
      "         160       0.00      0.00      0.00        67\n",
      "         161       0.00      0.00      0.00        44\n",
      "         162       0.00      0.00      0.00        30\n",
      "         163       0.00      0.00      0.00       193\n",
      "         164       0.00      0.00      0.00        48\n",
      "         165       0.67      0.04      0.07        57\n",
      "         166       0.00      0.00      0.00       122\n",
      "         167       0.00      0.00      0.00        64\n",
      "         168       0.00      0.00      0.00        35\n",
      "         169       1.00      0.03      0.06        64\n",
      "         170       0.00      0.00      0.00        59\n",
      "         171       1.00      0.01      0.03        71\n",
      "         172       0.00      0.00      0.00        50\n",
      "         173       0.94      0.73      0.82       177\n",
      "         174       0.00      0.00      0.00        34\n",
      "         175       0.00      0.00      0.00        45\n",
      "         176       0.00      0.00      0.00       103\n",
      "         177       0.91      0.61      0.73       130\n",
      "         178       0.81      0.20      0.32       105\n",
      "         179       1.00      0.24      0.39        29\n",
      "         180       0.56      0.14      0.23       104\n",
      "         181       0.75      0.05      0.10        55\n",
      "         182       1.00      0.46      0.63        70\n",
      "         183       0.00      0.00      0.00        43\n",
      "         184       0.00      0.00      0.00        70\n",
      "         185       0.00      0.00      0.00        65\n",
      "         186       0.00      0.00      0.00        29\n",
      "         187       1.00      0.04      0.07        53\n",
      "         188       0.00      0.00      0.00        89\n",
      "         189       0.97      0.63      0.76        99\n",
      "         190       0.88      0.21      0.34        33\n",
      "         191       0.00      0.00      0.00        56\n",
      "         192       0.00      0.00      0.00        45\n",
      "         193       1.00      0.40      0.57        73\n",
      "         194       0.94      0.41      0.57        39\n",
      "         195       0.93      0.52      0.67       171\n",
      "         196       0.00      0.00      0.00       230\n",
      "         197       0.49      0.02      0.04      1102\n",
      "         198       0.85      0.19      0.31       188\n",
      "         199       0.00      0.00      0.00       142\n",
      "         200       0.00      0.00      0.00        48\n",
      "         201       0.00      0.00      0.00        30\n",
      "         202       0.00      0.00      0.00        31\n",
      "         203       0.00      0.00      0.00        49\n",
      "         204       0.00      0.00      0.00        69\n",
      "         205       0.00      0.00      0.00       131\n",
      "         206       1.00      0.02      0.03        59\n",
      "         207       0.00      0.00      0.00       208\n",
      "         208       0.00      0.00      0.00        69\n",
      "         209       0.00      0.00      0.00        41\n",
      "         210       0.00      0.00      0.00        61\n",
      "         211       0.00      0.00      0.00        52\n",
      "         212       0.00      0.00      0.00        31\n",
      "         213       0.00      0.00      0.00        77\n",
      "         214       0.00      0.00      0.00        30\n",
      "         215       0.00      0.00      0.00        29\n",
      "         216       0.00      0.00      0.00        34\n",
      "         217       0.00      0.00      0.00        40\n",
      "         218       1.00      0.01      0.02       131\n",
      "         219       0.00      0.00      0.00        34\n",
      "         220       0.00      0.00      0.00        34\n",
      "         221       0.74      0.12      0.21       910\n",
      "         222       0.00      0.00      0.00        22\n",
      "         223       0.00      0.00      0.00        78\n",
      "         224       0.00      0.00      0.00        28\n",
      "         225       0.00      0.00      0.00        46\n",
      "         226       0.92      0.14      0.24       170\n",
      "         227       0.76      0.44      0.56      1251\n",
      "         228       0.00      0.00      0.00        61\n",
      "         229       1.00      0.10      0.19        39\n",
      "         230       0.00      0.00      0.00        34\n",
      "         231       0.84      0.57      0.68      2711\n",
      "         232       1.00      0.03      0.06        91\n",
      "         233       1.00      0.21      0.35        42\n",
      "         234       0.83      0.40      0.54      2395\n",
      "         235       0.00      0.00      0.00        51\n",
      "         236       0.00      0.00      0.00        38\n",
      "         237       1.00      0.02      0.05        42\n",
      "         238       0.00      0.00      0.00        66\n",
      "         239       0.94      0.39      0.55        44\n",
      "         240       0.00      0.00      0.00        58\n",
      "         241       1.00      0.15      0.25        48\n",
      "         242       0.86      0.72      0.78      1997\n",
      "         243       0.00      0.00      0.00       102\n",
      "         244       0.82      0.31      0.45        75\n",
      "         245       0.00      0.00      0.00        70\n",
      "         246       0.00      0.00      0.00        41\n",
      "         247       0.82      0.10      0.18       142\n",
      "         248       0.97      0.29      0.44        97\n",
      "         249       0.00      0.00      0.00        41\n",
      "         250       0.84      0.27      0.41       288\n",
      "         251       0.78      0.17      0.29       103\n",
      "         252       0.00      0.00      0.00        33\n",
      "         253       0.00      0.00      0.00        37\n",
      "         254       0.00      0.00      0.00        31\n",
      "         255       0.00      0.00      0.00        57\n",
      "         256       1.00      0.04      0.07        26\n",
      "         257       0.00      0.00      0.00        65\n",
      "         258       0.00      0.00      0.00        33\n",
      "         259       0.00      0.00      0.00        43\n",
      "         260       0.00      0.00      0.00        36\n",
      "         261       1.00      0.01      0.02        88\n",
      "         262       0.86      0.26      0.40       197\n",
      "         263       0.89      0.20      0.32        87\n",
      "         264       0.84      0.20      0.32       861\n",
      "         265       0.00      0.00      0.00       143\n",
      "         266       0.00      0.00      0.00        83\n",
      "         267       0.00      0.00      0.00        39\n",
      "         268       0.00      0.00      0.00       100\n",
      "         269       0.00      0.00      0.00        42\n",
      "         270       0.00      0.00      0.00        59\n",
      "         271       0.00      0.00      0.00        81\n",
      "         272       0.00      0.00      0.00        82\n",
      "         273       1.00      0.02      0.03        57\n",
      "         274       0.98      0.64      0.78       100\n",
      "         275       0.00      0.00      0.00        44\n",
      "         276       1.00      0.01      0.03        76\n",
      "         277       0.98      0.53      0.69       108\n",
      "         278       0.00      0.00      0.00        51\n",
      "         279       0.00      0.00      0.00        31\n",
      "         280       0.80      0.33      0.47        84\n",
      "         281       0.00      0.00      0.00        32\n",
      "         282       0.00      0.00      0.00       118\n",
      "         283       0.00      0.00      0.00        50\n",
      "         284       0.00      0.00      0.00        84\n",
      "         285       0.00      0.00      0.00        43\n",
      "         286       1.00      0.26      0.41        39\n",
      "         287       0.00      0.00      0.00        47\n",
      "         288       1.00      0.03      0.07        29\n",
      "         289       0.00      0.00      0.00        39\n",
      "         290       0.00      0.00      0.00        61\n",
      "         291       0.71      0.06      0.11        80\n",
      "         292       0.00      0.00      0.00        34\n",
      "         293       0.00      0.00      0.00        35\n",
      "         294       0.96      0.54      0.70       101\n",
      "         295       0.00      0.00      0.00        38\n",
      "         296       1.00      0.01      0.02        91\n",
      "         297       0.00      0.00      0.00        37\n",
      "         298       0.67      0.08      0.14       233\n",
      "         299       0.00      0.00      0.00       104\n",
      "         300       0.00      0.00      0.00        53\n",
      "         301       0.86      0.59      0.70      1114\n",
      "         302       0.00      0.00      0.00        43\n",
      "         303       0.82      0.24      0.37        58\n",
      "         304       1.00      0.00      0.01       272\n",
      "         305       0.96      0.31      0.47        70\n",
      "         306       1.00      0.34      0.51        94\n",
      "         307       0.97      0.41      0.58       141\n",
      "         308       0.00      0.00      0.00        37\n",
      "         309       1.00      0.07      0.13        43\n",
      "         310       0.00      0.00      0.00        49\n",
      "         311       0.00      0.00      0.00        88\n",
      "         312       0.72      0.24      0.36       903\n",
      "         313       1.00      0.01      0.02       116\n",
      "         314       0.00      0.00      0.00        41\n",
      "         315       0.96      0.34      0.50        80\n",
      "         316       1.00      0.05      0.10        76\n",
      "         317       0.00      0.00      0.00        47\n",
      "         318       0.00      0.00      0.00       102\n",
      "         319       0.82      0.46      0.59       192\n",
      "         320       0.00      0.00      0.00        35\n",
      "         321       0.83      0.25      0.39       360\n",
      "         322       1.00      0.04      0.07        26\n",
      "         323       0.00      0.00      0.00        31\n",
      "         324       0.00      0.00      0.00        34\n",
      "         325       0.00      0.00      0.00       115\n",
      "         326       0.00      0.00      0.00        39\n",
      "         327       0.60      0.07      0.12        92\n",
      "         328       0.00      0.00      0.00        31\n",
      "         329       0.00      0.00      0.00       243\n",
      "         330       0.97      0.58      0.73       179\n",
      "         331       0.00      0.00      0.00        85\n",
      "         332       0.94      0.44      0.60        73\n",
      "         333       0.84      0.70      0.76      2544\n",
      "         334       0.00      0.00      0.00        41\n",
      "         335       0.00      0.00      0.00       104\n",
      "         336       0.00      0.00      0.00        76\n",
      "         337       0.00      0.00      0.00        73\n",
      "         338       1.00      0.05      0.09        41\n",
      "         339       0.95      0.29      0.45       123\n",
      "         340       1.00      0.54      0.70        85\n",
      "         341       0.00      0.00      0.00        71\n",
      "         342       1.00      0.01      0.02       104\n",
      "         343       0.00      0.00      0.00        28\n",
      "         344       0.00      0.00      0.00        61\n",
      "         345       0.00      0.00      0.00        45\n",
      "         346       0.00      0.00      0.00        53\n",
      "         347       1.00      0.03      0.06        67\n",
      "         348       0.88      0.73      0.80      1258\n",
      "         349       0.00      0.00      0.00        46\n",
      "         350       0.00      0.00      0.00        50\n",
      "         351       0.88      0.45      0.59       147\n",
      "         352       0.00      0.00      0.00       189\n",
      "         353       1.00      0.20      0.33       162\n",
      "         354       0.00      0.00      0.00        28\n",
      "         355       0.00      0.00      0.00        54\n",
      "         356       0.33      0.02      0.03        63\n",
      "         357       0.00      0.00      0.00        95\n",
      "         358       0.00      0.00      0.00        50\n",
      "         359       1.00      0.01      0.02        97\n",
      "         360       0.00      0.00      0.00        39\n",
      "         361       0.00      0.00      0.00        41\n",
      "         362       0.75      0.04      0.08        74\n",
      "         363       0.90      0.64      0.75       383\n",
      "         364       0.00      0.00      0.00        32\n",
      "         365       0.00      0.00      0.00        29\n",
      "         366       1.00      0.02      0.04        95\n",
      "         367       0.00      0.00      0.00        48\n",
      "         368       0.00      0.00      0.00        53\n",
      "         369       0.85      0.34      0.48       485\n",
      "         370       0.82      0.75      0.78       804\n",
      "         371       1.00      0.01      0.01       269\n",
      "         372       0.00      0.00      0.00        37\n",
      "         373       0.00      0.00      0.00        38\n",
      "         374       0.98      0.56      0.72       108\n",
      "         375       0.00      0.00      0.00        61\n",
      "         376       0.00      0.00      0.00        61\n",
      "         377       0.00      0.00      0.00        35\n",
      "         378       0.00      0.00      0.00       105\n",
      "         379       0.00      0.00      0.00       225\n",
      "         380       1.00      0.11      0.19        38\n",
      "         381       0.00      0.00      0.00        65\n",
      "         382       1.00      0.12      0.21        50\n",
      "         383       0.50      0.02      0.04        48\n",
      "         384       0.00      0.00      0.00        72\n",
      "         385       0.00      0.00      0.00        45\n",
      "         386       0.86      0.06      0.11        99\n",
      "         387       0.00      0.00      0.00       119\n",
      "         388       0.00      0.00      0.00        96\n",
      "         389       0.00      0.00      0.00        40\n",
      "         390       1.00      0.04      0.07       170\n",
      "         391       0.78      0.35      0.49       173\n",
      "         392       0.00      0.00      0.00        42\n",
      "         393       0.00      0.00      0.00        43\n",
      "         394       0.00      0.00      0.00        64\n",
      "         395       0.60      0.03      0.05       111\n",
      "         396       1.00      0.31      0.48        32\n",
      "         397       0.00      0.00      0.00        86\n",
      "         398       0.76      0.40      0.52       175\n",
      "         399       1.00      0.02      0.03        65\n",
      "         400       0.73      0.03      0.06       821\n",
      "         401       0.78      0.17      0.28       499\n",
      "         402       0.69      0.07      0.12       133\n",
      "         403       0.77      0.05      0.09       202\n",
      "         404       0.98      0.34      0.50       160\n",
      "         405       0.96      0.24      0.39       111\n",
      "         406       0.83      0.05      0.09       100\n",
      "         407       0.00      0.00      0.00        43\n",
      "         408       0.00      0.00      0.00        55\n",
      "         409       0.00      0.00      0.00        36\n",
      "         410       0.00      0.00      0.00        72\n",
      "         411       0.50      0.00      0.01       224\n",
      "         412       0.00      0.00      0.00        38\n",
      "         413       0.75      0.07      0.13        41\n",
      "         414       1.00      0.02      0.05        43\n",
      "         415       0.92      0.56      0.70       117\n",
      "         416       0.94      0.59      0.72       152\n",
      "         417       0.00      0.00      0.00        44\n",
      "         418       0.00      0.00      0.00        40\n",
      "         419       0.00      0.00      0.00       101\n",
      "         420       0.00      0.00      0.00        39\n",
      "         421       0.00      0.00      0.00        48\n",
      "         422       0.67      0.04      0.08        98\n",
      "         423       1.00      0.02      0.04        46\n",
      "         424       0.00      0.00      0.00        83\n",
      "         425       0.00      0.00      0.00        70\n",
      "         426       0.00      0.00      0.00        31\n",
      "         427       0.80      0.11      0.19        38\n",
      "         428       0.97      0.62      0.75        47\n",
      "         429       0.00      0.00      0.00        49\n",
      "         430       0.89      0.17      0.29       100\n",
      "         431       0.00      0.00      0.00        52\n",
      "         432       0.00      0.00      0.00       127\n",
      "         433       1.00      0.09      0.16        58\n",
      "         434       0.90      0.17      0.28        54\n",
      "         435       0.00      0.00      0.00        43\n",
      "         436       0.77      0.18      0.29       274\n",
      "         437       0.00      0.00      0.00        38\n",
      "         438       0.54      0.14      0.22        95\n",
      "         439       1.00      0.02      0.04        48\n",
      "         440       0.00      0.00      0.00        58\n",
      "         441       0.00      0.00      0.00        34\n",
      "         442       0.00      0.00      0.00        39\n",
      "         443       0.00      0.00      0.00        55\n",
      "         444       0.81      0.28      0.41       127\n",
      "         445       1.00      0.02      0.03       124\n",
      "         446       0.00      0.00      0.00        33\n",
      "         447       0.00      0.00      0.00       112\n",
      "         448       0.00      0.00      0.00        44\n",
      "         449       0.00      0.00      0.00        55\n",
      "         450       0.00      0.00      0.00        63\n",
      "         451       0.00      0.00      0.00        35\n",
      "         452       0.00      0.00      0.00        47\n",
      "         453       0.00      0.00      0.00       114\n",
      "         454       0.00      0.00      0.00        84\n",
      "         455       0.85      0.41      0.55       310\n",
      "         456       0.80      0.19      0.30        43\n",
      "         457       0.00      0.00      0.00        92\n",
      "         458       1.00      0.03      0.05        36\n",
      "         459       0.00      0.00      0.00        51\n",
      "         460       0.00      0.00      0.00        58\n",
      "         461       0.00      0.00      0.00        83\n",
      "         462       0.00      0.00      0.00        42\n",
      "         463       0.97      0.71      0.82        97\n",
      "         464       0.00      0.00      0.00        45\n",
      "         465       0.00      0.00      0.00        39\n",
      "         466       0.00      0.00      0.00        89\n",
      "         467       1.00      0.02      0.04       196\n",
      "         468       0.67      0.04      0.08        89\n",
      "         469       0.80      0.16      0.26       232\n",
      "         470       0.00      0.00      0.00        48\n",
      "         471       0.93      0.72      0.81       209\n",
      "         472       0.00      0.00      0.00        49\n",
      "         473       0.00      0.00      0.00        90\n",
      "         474       0.82      0.05      0.09       198\n",
      "         475       0.00      0.00      0.00        47\n",
      "         476       0.00      0.00      0.00        40\n",
      "         477       0.50      0.01      0.02       107\n",
      "         478       1.00      0.00      0.00       588\n",
      "         479       0.86      0.27      0.41       401\n",
      "         480       0.85      0.22      0.35        76\n",
      "         481       0.97      0.50      0.66       112\n",
      "         482       1.00      0.08      0.14        66\n",
      "         483       0.83      0.05      0.10        93\n",
      "         484       0.00      0.00      0.00        44\n",
      "         485       1.00      0.02      0.03        59\n",
      "         486       1.00      0.03      0.06       133\n",
      "         487       0.92      0.05      0.10       238\n",
      "         488       0.00      0.00      0.00        54\n",
      "         489       0.50      0.06      0.10       206\n",
      "         490       0.87      0.71      0.78       399\n",
      "         491       0.00      0.00      0.00       101\n",
      "         492       0.82      0.16      0.27       352\n",
      "         493       0.00      0.00      0.00        42\n",
      "         494       0.00      0.00      0.00        35\n",
      "         495       0.74      0.25      0.37       423\n",
      "         496       1.00      0.06      0.11        50\n",
      "         497       0.90      0.53      0.67        83\n",
      "         498       1.00      0.05      0.09        42\n",
      "         499       0.88      0.52      0.65        96\n",
      "\n",
      "   micro avg       0.85      0.27      0.41     70598\n",
      "   macro avg       0.37      0.10      0.13     70598\n",
      "weighted avg       0.62      0.27      0.33     70598\n",
      " samples avg       0.46      0.30      0.35     70598\n",
      "\n"
     ]
    },
    {
     "name": "stderr",
     "output_type": "stream",
     "text": [
      "/N/u/tanakulk/Carbonate/.conda/envs/CV/lib/python3.8/site-packages/sklearn/metrics/_classification.py:1245: UndefinedMetricWarning: Precision is ill-defined and being set to 0.0 in labels with no predicted samples. Use `zero_division` parameter to control this behavior.\n",
      "  _warn_prf(average, modifier, msg_start, len(result))\n",
      "/N/u/tanakulk/Carbonate/.conda/envs/CV/lib/python3.8/site-packages/sklearn/metrics/_classification.py:1245: UndefinedMetricWarning: Precision and F-score are ill-defined and being set to 0.0 in labels with no predicted samples. Use `zero_division` parameter to control this behavior.\n",
      "  _warn_prf(average, modifier, msg_start, len(result))\n",
      "/N/u/tanakulk/Carbonate/.conda/envs/CV/lib/python3.8/site-packages/sklearn/metrics/_classification.py:1245: UndefinedMetricWarning: Precision and F-score are ill-defined and being set to 0.0 in samples with no predicted labels. Use `zero_division` parameter to control this behavior.\n",
      "  _warn_prf(average, modifier, msg_start, len(result))\n"
     ]
    }
   ],
   "source": [
    "from sklearn.metrics import classification_report\n",
    "\n",
    "precision = precision_score(y_test, br_pred, average='micro')\n",
    "recall = recall_score(y_test, br_pred, average='micro')\n",
    "f1 = f1_score(y_test, br_pred, average='micro')\n",
    " \n",
    "print(\"Micro-average metrics: \")\n",
    "print(\"Precision: \", precision, \"Recall: \", recall, \" F1-measure: \", f1)\n",
    "\n",
    "precision = precision_score(y_test, br_pred, average='macro')\n",
    "recall = recall_score(y_test, br_pred, average='macro')\n",
    "f1 = f1_score(y_test, br_pred, average='macro')\n",
    " \n",
    "print(\"Macro-average quality numbers: \")\n",
    "print(\"Precision: \", precision, \"Recall: \", recall, \" F1-measure: \", f1)\n",
    "\n",
    "print (classification_report(y_test, br_pred))\n"
   ]
  },
  {
   "cell_type": "markdown",
   "metadata": {},
   "source": [
    "Predicting a sample using the built model"
   ]
  },
  {
   "cell_type": "code",
   "execution_count": 78,
   "metadata": {},
   "outputs": [],
   "source": [
    "test1 = ['problem eclipse regard xml file eclipse complain android scrollbars android fadingedge allow string check android developer site fact accept string xml file relate question pose problem miss android xmlns see code line begin xmlns correct believe complete file content xml version 1 0 encode utf 8 com example todolist todolistitemview xmlns android http schema android com apk res android android layout width fill parent android layout height fill parent android pad 10dp android scrollbars verticle android textcolor color notepad text android fadingedge verticle']\n",
    "tfidf_test = TfidfVectorizer(min_df=0.00009, max_features=20000, smooth_idf=True, norm=\"l2\",tokenizer = lambda x: x.split(), sublinear_tf=False,ngram_range=(1,4))\n",
    "test2 = ['eclipse complain android scrollbars android fadingedge allow string include code']\n",
    "\n",
    "qs = tfidf_body.transform(test1)\n",
    "# print(qs.shape)\n",
    "qs2 = tfidf_title.transform(test2)\n",
    "# print(qs2.shape)\n",
    "q = hstack([qs,qs2])"
   ]
  },
  {
   "cell_type": "markdown",
   "metadata": {},
   "source": [
    "Predicted Tags:"
   ]
  },
  {
   "cell_type": "code",
   "execution_count": 79,
   "metadata": {},
   "outputs": [
    {
     "name": "stdout",
     "output_type": "stream",
     "text": [
      "  (0, 19)\t1\n",
      "  (0, 133)\t1\n",
      "  (0, 495)\t1\n"
     ]
    }
   ],
   "source": [
    "op = br.predict(q)\n",
    "print(op)"
   ]
  },
  {
   "cell_type": "code",
   "execution_count": 80,
   "metadata": {},
   "outputs": [
    {
     "name": "stdout",
     "output_type": "stream",
     "text": [
      "android\n",
      "eclipse\n",
      "xml\n"
     ]
    }
   ],
   "source": [
    "print(vec.get_feature_names()[19])\n",
    "print(vec.get_feature_names()[133])\n",
    "print(vec.get_feature_names()[495])"
   ]
  },
  {
   "cell_type": "code",
   "execution_count": null,
   "metadata": {},
   "outputs": [],
   "source": []
  }
 ],
 "metadata": {
  "colab": {
   "collapsed_sections": [],
   "name": "Predicitingtags_StackOverflowdata_using_NLP_Classifier Chain.ipynb",
   "provenance": []
  },
  "kernelspec": {
   "display_name": "Python 3",
   "language": "python",
   "name": "python3"
  },
  "language_info": {
   "codemirror_mode": {
    "name": "ipython",
    "version": 3
   },
   "file_extension": ".py",
   "mimetype": "text/x-python",
   "name": "python",
   "nbconvert_exporter": "python",
   "pygments_lexer": "ipython3",
   "version": "3.8.3"
  }
 },
 "nbformat": 4,
 "nbformat_minor": 1
}

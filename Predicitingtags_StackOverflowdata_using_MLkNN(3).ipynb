{
 "cells": [
  {
   "cell_type": "markdown",
   "metadata": {},
   "source": [
    "### Installing kaggle to access API --> fetch data instead of download"
   ]
  },
  {
   "cell_type": "code",
   "execution_count": 2,
   "metadata": {
    "colab": {
     "base_uri": "https://localhost:8080/"
    },
    "id": "CfkeOsTARbjL",
    "outputId": "b609cc30-0da6-4eef-a508-e13907878485"
   },
   "outputs": [
    {
     "name": "stdout",
     "output_type": "stream",
     "text": [
      "Requirement already satisfied: kaggle in /geode2/home/u060/mtavilda/Carbonate/.conda/envs/tag_pred/lib/python3.8/site-packages (1.5.12)\n",
      "Requirement already satisfied: certifi in /geode2/home/u060/mtavilda/Carbonate/.conda/envs/tag_pred/lib/python3.8/site-packages (from kaggle) (2020.6.20)\n",
      "Requirement already satisfied: urllib3 in /geode2/home/u060/mtavilda/Carbonate/.conda/envs/tag_pred/lib/python3.8/site-packages (from kaggle) (1.25.9)\n",
      "Requirement already satisfied: python-slugify in /geode2/home/u060/mtavilda/Carbonate/.conda/envs/tag_pred/lib/python3.8/site-packages (from kaggle) (6.1.1)\n",
      "Requirement already satisfied: requests in /geode2/home/u060/mtavilda/Carbonate/.conda/envs/tag_pred/lib/python3.8/site-packages (from kaggle) (2.24.0)\n",
      "Requirement already satisfied: tqdm in /geode2/home/u060/mtavilda/Carbonate/.conda/envs/tag_pred/lib/python3.8/site-packages (from kaggle) (4.47.0)\n",
      "Requirement already satisfied: six>=1.10 in /geode2/home/u060/mtavilda/Carbonate/.conda/envs/tag_pred/lib/python3.8/site-packages (from kaggle) (1.15.0)\n",
      "Requirement already satisfied: python-dateutil in /geode2/home/u060/mtavilda/Carbonate/.conda/envs/tag_pred/lib/python3.8/site-packages (from kaggle) (2.8.1)\n",
      "Requirement already satisfied: text-unidecode>=1.3 in /geode2/home/u060/mtavilda/Carbonate/.conda/envs/tag_pred/lib/python3.8/site-packages (from python-slugify->kaggle) (1.3)\n",
      "Requirement already satisfied: idna<3,>=2.5 in /geode2/home/u060/mtavilda/Carbonate/.conda/envs/tag_pred/lib/python3.8/site-packages (from requests->kaggle) (2.10)\n",
      "Requirement already satisfied: chardet<4,>=3.0.2 in /geode2/home/u060/mtavilda/Carbonate/.conda/envs/tag_pred/lib/python3.8/site-packages (from requests->kaggle) (3.0.4)\n"
     ]
    }
   ],
   "source": [
    "! pip install kaggle"
   ]
  },
  {
   "cell_type": "code",
   "execution_count": 3,
   "metadata": {
    "id": "pKCJVG-dR8-k"
   },
   "outputs": [
    {
     "name": "stdout",
     "output_type": "stream",
     "text": [
      "mkdir: cannot create directory ‘/N/u/mtavilda/Carbonate/.kaggle’: File exists\r\n"
     ]
    }
   ],
   "source": [
    "! mkdir ~/.kaggle"
   ]
  },
  {
   "cell_type": "code",
   "execution_count": 4,
   "metadata": {
    "id": "ksEMi1SASBEC"
   },
   "outputs": [],
   "source": [
    "! cp kaggle.json ~/.kaggle/\n",
    "#! cp /kaggle.json ~/.kaggle/"
   ]
  },
  {
   "cell_type": "code",
   "execution_count": 5,
   "metadata": {
    "id": "pmMMlj6pSFJK"
   },
   "outputs": [],
   "source": [
    "! chmod 600 ~/.kaggle/kaggle.json"
   ]
  },
  {
   "cell_type": "markdown",
   "metadata": {},
   "source": [
    "### Fetch the data from kaggle API"
   ]
  },
  {
   "cell_type": "code",
   "execution_count": 6,
   "metadata": {
    "colab": {
     "base_uri": "https://localhost:8080/"
    },
    "id": "iATD_ZW-SQaI",
    "outputId": "75e85415-0a37-4de7-cfd1-f8e6556990fd"
   },
   "outputs": [
    {
     "name": "stdout",
     "output_type": "stream",
     "text": [
      "Train.zip: Skipping, found more recently modified local copy (use --force to force download)\n",
      "Test.zip: Skipping, found more recently modified local copy (use --force to force download)\n"
     ]
    }
   ],
   "source": [
    "! kaggle competitions download facebook-recruiting-iii-keyword-extraction -f Train.zip\n",
    "! kaggle competitions download facebook-recruiting-iii-keyword-extraction -f Test.zip"
   ]
  },
  {
   "cell_type": "code",
   "execution_count": 7,
   "metadata": {
    "colab": {
     "base_uri": "https://localhost:8080/"
    },
    "id": "VTZEExcJ1NKB",
    "outputId": "a47dd7f4-4752-44e3-c5d1-d35df9cd8aff"
   },
   "outputs": [
    {
     "name": "stdout",
     "output_type": "stream",
     "text": [
      "Found existing installation: scikit-learn 0.24.1\n",
      "Uninstalling scikit-learn-0.24.1:\n",
      "  Successfully uninstalled scikit-learn-0.24.1\n",
      "Collecting scikit-learn==0.24.1\n",
      "  Using cached scikit_learn-0.24.1-cp38-cp38-manylinux2010_x86_64.whl (24.9 MB)\n",
      "Requirement already satisfied: scipy>=0.19.1 in /geode2/home/u060/mtavilda/Carbonate/.conda/envs/tag_pred/lib/python3.8/site-packages (from scikit-learn==0.24.1) (1.5.0)\n",
      "Requirement already satisfied: joblib>=0.11 in /geode2/home/u060/mtavilda/Carbonate/.conda/envs/tag_pred/lib/python3.8/site-packages (from scikit-learn==0.24.1) (0.16.0)\n",
      "Requirement already satisfied: numpy>=1.13.3 in /geode2/home/u060/mtavilda/Carbonate/.conda/envs/tag_pred/lib/python3.8/site-packages (from scikit-learn==0.24.1) (1.22.3)\n",
      "Requirement already satisfied: threadpoolctl>=2.0.0 in /geode2/home/u060/mtavilda/Carbonate/.conda/envs/tag_pred/lib/python3.8/site-packages (from scikit-learn==0.24.1) (2.1.0)\n",
      "Installing collected packages: scikit-learn\n",
      "Successfully installed scikit-learn-0.24.1\n",
      "Requirement already satisfied: gensim in /geode2/home/u060/mtavilda/Carbonate/.conda/envs/tag_pred/lib/python3.8/site-packages (4.1.2)\n",
      "Requirement already satisfied: smart-open>=1.8.1 in /geode2/home/u060/mtavilda/Carbonate/.conda/envs/tag_pred/lib/python3.8/site-packages (from gensim) (6.0.0)\n",
      "Requirement already satisfied: scipy>=0.18.1 in /geode2/home/u060/mtavilda/Carbonate/.conda/envs/tag_pred/lib/python3.8/site-packages (from gensim) (1.5.0)\n",
      "Requirement already satisfied: numpy>=1.17.0 in /geode2/home/u060/mtavilda/Carbonate/.conda/envs/tag_pred/lib/python3.8/site-packages (from gensim) (1.22.3)\n"
     ]
    }
   ],
   "source": [
    "!pip uninstall scikit-learn -y\n",
    "!pip install scikit-learn==0.24.1\n",
    "!pip install gensim"
   ]
  },
  {
   "cell_type": "code",
   "execution_count": 8,
   "metadata": {
    "colab": {
     "base_uri": "https://localhost:8080/"
    },
    "id": "qXyMKyjzQCnW",
    "outputId": "8120906a-8adc-4872-a3b7-ef7402f6133c"
   },
   "outputs": [
    {
     "name": "stdout",
     "output_type": "stream",
     "text": [
      "Requirement already satisfied: scikit-multilearn in /geode2/home/u060/mtavilda/Carbonate/.conda/envs/tag_pred/lib/python3.8/site-packages (0.2.0)\r\n"
     ]
    }
   ],
   "source": [
    "!pip install scikit-multilearn"
   ]
  },
  {
   "cell_type": "code",
   "execution_count": 9,
   "metadata": {
    "colab": {
     "base_uri": "https://localhost:8080/"
    },
    "id": "VSnCJ-uRSfGC",
    "outputId": "e8db90f5-e91f-43e7-bcae-5a114f8189b8"
   },
   "outputs": [
    {
     "name": "stderr",
     "output_type": "stream",
     "text": [
      "[nltk_data] Downloading package stopwords to\n",
      "[nltk_data]     /N/u/mtavilda/Carbonate/nltk_data...\n",
      "[nltk_data]   Package stopwords is already up-to-date!\n",
      "[nltk_data] Downloading package wordnet to\n",
      "[nltk_data]     /N/u/mtavilda/Carbonate/nltk_data...\n",
      "[nltk_data]   Package wordnet is already up-to-date!\n",
      "[nltk_data] Downloading package averaged_perceptron_tagger to\n",
      "[nltk_data]     /N/u/mtavilda/Carbonate/nltk_data...\n",
      "[nltk_data]   Package averaged_perceptron_tagger is already up-to-\n",
      "[nltk_data]       date!\n"
     ]
    },
    {
     "data": {
      "text/plain": [
       "True"
      ]
     },
     "execution_count": 9,
     "metadata": {},
     "output_type": "execute_result"
    }
   ],
   "source": [
    "import pandas as pd\n",
    "from bs4 import BeautifulSoup\n",
    "import re\n",
    "import nltk\n",
    "from nltk.tokenize import word_tokenize\n",
    "from nltk.corpus import stopwords\n",
    "from nltk.corpus import wordnet as wn\n",
    "from nltk.stem import WordNetLemmatizer\n",
    "from nltk import pos_tag\n",
    "from collections import defaultdict\n",
    "import gensim\n",
    "from gensim.models import Word2Vec\n",
    "from skmultilearn.adapt import MLkNN\n",
    "from sklearn.model_selection import GridSearchCV\n",
    "import time\n",
    "from sklearn.feature_extraction.text import TfidfVectorizer\n",
    "from sklearn.metrics import hamming_loss, accuracy_score,f1_score,recall_score\n",
    "from sklearn.model_selection import StratifiedShuffleSplit\n",
    "from sklearn.model_selection import train_test_split\n",
    "\n",
    "nltk.download('stopwords')\n",
    "nltk.download('wordnet')\n",
    "nltk.download('averaged_perceptron_tagger')"
   ]
  },
  {
   "cell_type": "code",
   "execution_count": 10,
   "metadata": {
    "colab": {
     "base_uri": "https://localhost:8080/"
    },
    "id": "FmF3a24MUDNy",
    "outputId": "8955d195-d5bb-41b8-b5bf-a040be542678"
   },
   "outputs": [
    {
     "name": "stdout",
     "output_type": "stream",
     "text": [
      "Archive:  Train.zip\n",
      "replace Train.csv? [y]es, [n]o, [A]ll, [N]one, [r]ename: ^C\n"
     ]
    }
   ],
   "source": [
    "! unzip Train.zip"
   ]
  },
  {
   "cell_type": "code",
   "execution_count": 11,
   "metadata": {
    "colab": {
     "base_uri": "https://localhost:8080/"
    },
    "id": "8TRileqvT9cl",
    "outputId": "27708de0-7046-4225-e66a-c9ef3122b3c8"
   },
   "outputs": [
    {
     "data": {
      "text/plain": [
       "6034195"
      ]
     },
     "execution_count": 11,
     "metadata": {},
     "output_type": "execute_result"
    }
   ],
   "source": [
    "train_data = pd.read_csv(\"Train.csv\")\n",
    "len(train_data)"
   ]
  },
  {
   "cell_type": "code",
   "execution_count": 12,
   "metadata": {
    "colab": {
     "base_uri": "https://localhost:8080/"
    },
    "id": "2mw8QmzbUlet",
    "outputId": "c54afa2e-cb23-4648-8c99-2ccbadf9d1eb"
   },
   "outputs": [
    {
     "data": {
      "text/plain": [
       "4186184"
      ]
     },
     "execution_count": 12,
     "metadata": {},
     "output_type": "execute_result"
    }
   ],
   "source": [
    "data = train_data.drop_duplicates(subset = [\"Title\",\"Tags\"])\n",
    "len(data)"
   ]
  },
  {
   "cell_type": "markdown",
   "metadata": {
    "id": "tTwE0GKzgPNm"
   },
   "source": [
    "Dropping rows with no tags"
   ]
  },
  {
   "cell_type": "code",
   "execution_count": 13,
   "metadata": {
    "id": "alzr7i5DgrpW"
   },
   "outputs": [],
   "source": [
    "data = data.dropna(subset=['Tags'])"
   ]
  },
  {
   "cell_type": "markdown",
   "metadata": {
    "id": "skb3Ie5Bmi6Y"
   },
   "source": [
    "Using 200000 records for computation purposes"
   ]
  },
  {
   "cell_type": "code",
   "execution_count": 14,
   "metadata": {
    "id": "vwWLKoJVViUt"
   },
   "outputs": [],
   "source": [
    "data_split = data.loc[:200000]\n",
    "#data_split = data.copy()"
   ]
  },
  {
   "cell_type": "code",
   "execution_count": 15,
   "metadata": {
    "id": "Vxym5G3laDQ8"
   },
   "outputs": [],
   "source": [
    "data_split = data_split.reset_index(drop = True)"
   ]
  },
  {
   "cell_type": "code",
   "execution_count": 16,
   "metadata": {},
   "outputs": [],
   "source": [
    "def preprocessing(columnname,name):\n",
    "    cleantext = []\n",
    "    for i in range(len(data_split)):\n",
    "      cleantext.append(BeautifulSoup(data_split[columnname][i], \"html\").text)\n",
    "    data_split[name] = cleantext\n",
    "    data_split[name] = data_split[name].apply(lambda x : re.sub(r\"[^a-zA-Z0-9]+\", ' ', x))\n",
    "    data_split[name] = data_split[name].apply(lambda s: s.lower() if type(s) == str else s)\n",
    "    data_split[name] = data_split[name].apply(lambda x : word_tokenize(x))\n",
    "\n",
    "    stopword = stopwords.words('english')\n",
    "    data_split[name] = data_split[name].apply(lambda x : [word for word in x if not word in stopword or word=='r' or word=='c'])\n",
    "    new_name = name + \" \" + \"tokens\"\n",
    "    data_split[new_name] = lemmatize(name)"
   ]
  },
  {
   "cell_type": "code",
   "execution_count": 17,
   "metadata": {},
   "outputs": [],
   "source": [
    "def lemmatize(name):\n",
    "    tag_map = defaultdict(lambda : wn.NOUN)\n",
    "    tag_map['J'] = wn.ADJ\n",
    "    tag_map['V'] = wn.VERB\n",
    "    tag_map['R'] = wn.ADV\n",
    "\n",
    "    lemmatizer = WordNetLemmatizer()\n",
    "\n",
    "    stemmed = []\n",
    "\n",
    "    for i in range(len(data_split)):\n",
    "      ls = []\n",
    "      for word, tag in pos_tag(data_split[name][i]):\n",
    "        ls.append(lemmatizer.lemmatize(word, tag_map[tag[0]]))\n",
    "      stemmed.append(ls)\n",
    "    return stemmed"
   ]
  },
  {
   "cell_type": "markdown",
   "metadata": {
    "id": "lI3iie-mmqic"
   },
   "source": [
    "Cleaning the \"Body\" & \"Title\", removing html tags present"
   ]
  },
  {
   "cell_type": "code",
   "execution_count": 18,
   "metadata": {},
   "outputs": [
    {
     "name": "stderr",
     "output_type": "stream",
     "text": [
      "/N/u/mtavilda/Carbonate/.conda/envs/tag_pred/lib/python3.8/site-packages/bs4/__init__.py:414: MarkupResemblesLocatorWarning: \"http://127.0.0.1:8500/\" looks like a URL. Beautiful Soup is not an HTTP client. You should probably use an HTTP client like requests to get the document behind the URL, and feed that document to Beautiful Soup.\n",
      "  warnings.warn(\n"
     ]
    }
   ],
   "source": [
    "preprocessing('Body',\"clean body text\")\n",
    "preprocessing(\"Title\",\"clean title text\")"
   ]
  },
  {
   "cell_type": "code",
   "execution_count": 19,
   "metadata": {},
   "outputs": [
    {
     "data": {
      "text/html": [
       "<div>\n",
       "<style scoped>\n",
       "    .dataframe tbody tr th:only-of-type {\n",
       "        vertical-align: middle;\n",
       "    }\n",
       "\n",
       "    .dataframe tbody tr th {\n",
       "        vertical-align: top;\n",
       "    }\n",
       "\n",
       "    .dataframe thead th {\n",
       "        text-align: right;\n",
       "    }\n",
       "</style>\n",
       "<table border=\"1\" class=\"dataframe\">\n",
       "  <thead>\n",
       "    <tr style=\"text-align: right;\">\n",
       "      <th></th>\n",
       "      <th>Id</th>\n",
       "      <th>Title</th>\n",
       "      <th>Body</th>\n",
       "      <th>Tags</th>\n",
       "      <th>clean body text</th>\n",
       "      <th>clean body text tokens</th>\n",
       "      <th>clean title text</th>\n",
       "      <th>clean title text tokens</th>\n",
       "    </tr>\n",
       "  </thead>\n",
       "  <tbody>\n",
       "    <tr>\n",
       "      <th>0</th>\n",
       "      <td>1</td>\n",
       "      <td>How to check if an uploaded file is an image w...</td>\n",
       "      <td>&lt;p&gt;I'd like to check if an uploaded file is an...</td>\n",
       "      <td>php image-processing file-upload upload mime-t...</td>\n",
       "      <td>[like, check, uploaded, file, image, file, e, ...</td>\n",
       "      <td>[like, check, upload, file, image, file, e, g,...</td>\n",
       "      <td>[check, uploaded, file, image, without, mime, ...</td>\n",
       "      <td>[check, upload, file, image, without, mime, type]</td>\n",
       "    </tr>\n",
       "    <tr>\n",
       "      <th>1</th>\n",
       "      <td>2</td>\n",
       "      <td>How can I prevent firefox from closing when I ...</td>\n",
       "      <td>&lt;p&gt;In my favorite editor (vim), I regularly us...</td>\n",
       "      <td>firefox</td>\n",
       "      <td>[favorite, editor, vim, regularly, use, ctrl, ...</td>\n",
       "      <td>[favorite, editor, vim, regularly, use, ctrl, ...</td>\n",
       "      <td>[prevent, firefox, closing, press, ctrl, w]</td>\n",
       "      <td>[prevent, firefox, close, press, ctrl, w]</td>\n",
       "    </tr>\n",
       "    <tr>\n",
       "      <th>2</th>\n",
       "      <td>3</td>\n",
       "      <td>R Error Invalid type (list) for variable</td>\n",
       "      <td>&lt;p&gt;I am import matlab file and construct a dat...</td>\n",
       "      <td>r matlab machine-learning</td>\n",
       "      <td>[import, matlab, file, construct, data, frame,...</td>\n",
       "      <td>[import, matlab, file, construct, data, frame,...</td>\n",
       "      <td>[r, error, invalid, type, list, variable]</td>\n",
       "      <td>[r, error, invalid, type, list, variable]</td>\n",
       "    </tr>\n",
       "    <tr>\n",
       "      <th>3</th>\n",
       "      <td>4</td>\n",
       "      <td>How do I replace special characters in a URL?</td>\n",
       "      <td>&lt;p&gt;This is probably very simple, but I simply ...</td>\n",
       "      <td>c# url encoding</td>\n",
       "      <td>[probably, simple, simply, find, answer, basic...</td>\n",
       "      <td>[probably, simple, simply, find, answer, basic...</td>\n",
       "      <td>[replace, special, characters, url]</td>\n",
       "      <td>[replace, special, character, url]</td>\n",
       "    </tr>\n",
       "    <tr>\n",
       "      <th>4</th>\n",
       "      <td>5</td>\n",
       "      <td>How to modify whois contact details?</td>\n",
       "      <td>&lt;pre&gt;&lt;code&gt;function modify(.......)\\n{\\n  $mco...</td>\n",
       "      <td>php api file-get-contents</td>\n",
       "      <td>[function, modify, mcontact, file, get, conten...</td>\n",
       "      <td>[function, modify, mcontact, file, get, conten...</td>\n",
       "      <td>[modify, whois, contact, details]</td>\n",
       "      <td>[modify, whois, contact, detail]</td>\n",
       "    </tr>\n",
       "  </tbody>\n",
       "</table>\n",
       "</div>"
      ],
      "text/plain": [
       "   Id                                              Title  \\\n",
       "0   1  How to check if an uploaded file is an image w...   \n",
       "1   2  How can I prevent firefox from closing when I ...   \n",
       "2   3           R Error Invalid type (list) for variable   \n",
       "3   4      How do I replace special characters in a URL?   \n",
       "4   5               How to modify whois contact details?   \n",
       "\n",
       "                                                Body  \\\n",
       "0  <p>I'd like to check if an uploaded file is an...   \n",
       "1  <p>In my favorite editor (vim), I regularly us...   \n",
       "2  <p>I am import matlab file and construct a dat...   \n",
       "3  <p>This is probably very simple, but I simply ...   \n",
       "4  <pre><code>function modify(.......)\\n{\\n  $mco...   \n",
       "\n",
       "                                                Tags  \\\n",
       "0  php image-processing file-upload upload mime-t...   \n",
       "1                                            firefox   \n",
       "2                          r matlab machine-learning   \n",
       "3                                    c# url encoding   \n",
       "4                          php api file-get-contents   \n",
       "\n",
       "                                     clean body text  \\\n",
       "0  [like, check, uploaded, file, image, file, e, ...   \n",
       "1  [favorite, editor, vim, regularly, use, ctrl, ...   \n",
       "2  [import, matlab, file, construct, data, frame,...   \n",
       "3  [probably, simple, simply, find, answer, basic...   \n",
       "4  [function, modify, mcontact, file, get, conten...   \n",
       "\n",
       "                              clean body text tokens  \\\n",
       "0  [like, check, upload, file, image, file, e, g,...   \n",
       "1  [favorite, editor, vim, regularly, use, ctrl, ...   \n",
       "2  [import, matlab, file, construct, data, frame,...   \n",
       "3  [probably, simple, simply, find, answer, basic...   \n",
       "4  [function, modify, mcontact, file, get, conten...   \n",
       "\n",
       "                                    clean title text  \\\n",
       "0  [check, uploaded, file, image, without, mime, ...   \n",
       "1        [prevent, firefox, closing, press, ctrl, w]   \n",
       "2          [r, error, invalid, type, list, variable]   \n",
       "3                [replace, special, characters, url]   \n",
       "4                  [modify, whois, contact, details]   \n",
       "\n",
       "                             clean title text tokens  \n",
       "0  [check, upload, file, image, without, mime, type]  \n",
       "1          [prevent, firefox, close, press, ctrl, w]  \n",
       "2          [r, error, invalid, type, list, variable]  \n",
       "3                 [replace, special, character, url]  \n",
       "4                   [modify, whois, contact, detail]  "
      ]
     },
     "execution_count": 19,
     "metadata": {},
     "output_type": "execute_result"
    }
   ],
   "source": [
    "data_split.head()"
   ]
  },
  {
   "cell_type": "markdown",
   "metadata": {
    "id": "q_Dmi8CwdZpF"
   },
   "source": [
    "Total number of tags and unique tags in 2 lakh data records\n"
   ]
  },
  {
   "cell_type": "code",
   "execution_count": 20,
   "metadata": {
    "id": "jrdN7nl-fN_j"
   },
   "outputs": [],
   "source": [
    "def get_unique_tags(df):\n",
    "  tags = df['Tags'].str.cat(sep=' ')\n",
    "  tags = list(tags.split(\" \"))\n",
    "  print(\"Total tags present\",len(tags))\n",
    "  print(\"Total unique tags present:\",len(list(set(tags))))\n",
    "  return tags"
   ]
  },
  {
   "cell_type": "code",
   "execution_count": 21,
   "metadata": {
    "colab": {
     "base_uri": "https://localhost:8080/"
    },
    "id": "gBpYFt0tG4VL",
    "outputId": "363ed4a5-5048-46c1-b613-53013a888a33"
   },
   "outputs": [
    {
     "name": "stdout",
     "output_type": "stream",
     "text": [
      "Total tags present 571038\n",
      "Total unique tags present: 23686\n"
     ]
    }
   ],
   "source": [
    "tags = get_unique_tags(data_split)"
   ]
  },
  {
   "cell_type": "code",
   "execution_count": 22,
   "metadata": {
    "id": "Plpfldxie5gk"
   },
   "outputs": [],
   "source": [
    "tag_count = {}\n",
    "unique_tags = list(set(tags))\n",
    "\n",
    "for tag in unique_tags:\n",
    "  #print(tag)\n",
    "  tag_count[tag] = tags.count(tag)\n"
   ]
  },
  {
   "cell_type": "markdown",
   "metadata": {
    "id": "qN1zD0XZiXFl"
   },
   "source": [
    "Creating a dataframe of unique tags and the number of times each tag is appears in the answer."
   ]
  },
  {
   "cell_type": "code",
   "execution_count": 23,
   "metadata": {
    "colab": {
     "base_uri": "https://localhost:8080/",
     "height": 423
    },
    "id": "aJWxSzp8hQFM",
    "outputId": "17c1c5d5-d153-41b6-d1dc-a5e44262af0c"
   },
   "outputs": [],
   "source": [
    "sorted_tags = pd.DataFrame(sorted(tag_count.items(), key=lambda item: item[1],reverse=True),columns=['tags','count'])"
   ]
  },
  {
   "cell_type": "markdown",
   "metadata": {
    "id": "q8fSMqmHqjr1"
   },
   "source": [
    "Total number of words and unique words in the training data"
   ]
  },
  {
   "cell_type": "markdown",
   "metadata": {
    "id": "YQ02YX7vqo8K"
   },
   "source": [
    "Plotting tags per answer and estimating the average number of tags given in each answer"
   ]
  },
  {
   "cell_type": "markdown",
   "metadata": {
    "id": "JeNS6foCz8AQ"
   },
   "source": [
    "Checking how many records are covered if we consider top 500 tags"
   ]
  },
  {
   "cell_type": "code",
   "execution_count": 24,
   "metadata": {
    "colab": {
     "base_uri": "https://localhost:8080/"
    },
    "id": "A7AAPc8Sz0_I",
    "outputId": "512f131b-1969-444e-e768-381f8b27d6c1"
   },
   "outputs": [],
   "source": [
    "top_tags = sorted_tags['tags'][:500]"
   ]
  },
  {
   "cell_type": "code",
   "execution_count": 25,
   "metadata": {
    "colab": {
     "base_uri": "https://localhost:8080/"
    },
    "id": "zR8PyR4DzW0T",
    "outputId": "dd8f3d56-e284-4a2d-98cf-df8df6236d04"
   },
   "outputs": [
    {
     "name": "stdout",
     "output_type": "stream",
     "text": [
      "195352\n"
     ]
    }
   ],
   "source": [
    "count = 0\n",
    "idx = []\n",
    "for i in range(len(data_split['Tags'])):\n",
    "  if any(item in data_split['Tags'][i] for item in top_tags):\n",
    "    count += 1\n",
    "    idx.append(i)\n",
    "print(count)"
   ]
  },
  {
   "cell_type": "code",
   "execution_count": 26,
   "metadata": {
    "id": "-twTTpLKwp8X"
   },
   "outputs": [],
   "source": [
    "top_tags = sorted_tags['tags'][:500]\n",
    "type(top_tags)\n",
    "top_tags_list = list(top_tags)\n",
    "\n",
    "#top500_tags_list"
   ]
  },
  {
   "cell_type": "code",
   "execution_count": 27,
   "metadata": {
    "id": "5ECdFaZcwq3i"
   },
   "outputs": [],
   "source": [
    "def find_most_frequent_tags(x):\n",
    "  #print(x)\n",
    "  list1 = x.split(\" \")\n",
    "  result = \"\"\n",
    "  for tag in list1:\n",
    "    #print(tag)\n",
    "    if tag in top_tags_list:\n",
    "      #print(\"in\")\n",
    "      result +=\" \" + tag\n",
    "  return result"
   ]
  },
  {
   "cell_type": "code",
   "execution_count": 28,
   "metadata": {
    "colab": {
     "base_uri": "https://localhost:8080/"
    },
    "id": "VB_693EKwtNA",
    "outputId": "39584918-1934-476c-b929-3cc532a8d637"
   },
   "outputs": [],
   "source": [
    "data_tags = data_split['Tags'].apply(lambda x: find_most_frequent_tags(x))\n",
    "data_tags = data_tags.apply(lambda x: x if len(x)>0 else None)\n",
    "data_new = pd.concat([data_split[['clean title text tokens','clean body text tokens']],data_tags],axis=1)\n",
    "data_new.dropna(subset= ['Tags'],inplace = True)\n",
    "data_new.reset_index(drop= True,inplace = True)\n"
   ]
  },
  {
   "cell_type": "code",
   "execution_count": 29,
   "metadata": {
    "colab": {
     "base_uri": "https://localhost:8080/"
    },
    "id": "FUvRQZYCxUjC",
    "outputId": "1d524f01-5ea1-4cf3-eedd-46f62c691a23"
   },
   "outputs": [
    {
     "data": {
      "text/plain": [
       "(177270, 3)"
      ]
     },
     "execution_count": 29,
     "metadata": {},
     "output_type": "execute_result"
    }
   ],
   "source": [
    "data_new.shape"
   ]
  },
  {
   "cell_type": "code",
   "execution_count": 30,
   "metadata": {
    "colab": {
     "base_uri": "https://localhost:8080/",
     "height": 337
    },
    "id": "PAtDOagm8KMm",
    "outputId": "7e3fa397-6c04-4215-d075-2be89876567d"
   },
   "outputs": [
    {
     "data": {
      "text/html": [
       "<div>\n",
       "<style scoped>\n",
       "    .dataframe tbody tr th:only-of-type {\n",
       "        vertical-align: middle;\n",
       "    }\n",
       "\n",
       "    .dataframe tbody tr th {\n",
       "        vertical-align: top;\n",
       "    }\n",
       "\n",
       "    .dataframe thead th {\n",
       "        text-align: right;\n",
       "    }\n",
       "</style>\n",
       "<table border=\"1\" class=\"dataframe\">\n",
       "  <thead>\n",
       "    <tr style=\"text-align: right;\">\n",
       "      <th></th>\n",
       "      <th>clean title text tokens</th>\n",
       "      <th>clean body text tokens</th>\n",
       "      <th>Tags</th>\n",
       "      <th>body tokens</th>\n",
       "      <th>title tokens</th>\n",
       "    </tr>\n",
       "  </thead>\n",
       "  <tbody>\n",
       "    <tr>\n",
       "      <th>0</th>\n",
       "      <td>[check, upload, file, image, without, mime, type]</td>\n",
       "      <td>[like, check, upload, file, image, file, e, g,...</td>\n",
       "      <td>php image-processing file-upload upload</td>\n",
       "      <td>like check upload file image file e g png jpg ...</td>\n",
       "      <td>check upload file image without mime type</td>\n",
       "    </tr>\n",
       "    <tr>\n",
       "      <th>1</th>\n",
       "      <td>[prevent, firefox, close, press, ctrl, w]</td>\n",
       "      <td>[favorite, editor, vim, regularly, use, ctrl, ...</td>\n",
       "      <td>firefox</td>\n",
       "      <td>favorite editor vim regularly use ctrl w execu...</td>\n",
       "      <td>prevent firefox close press ctrl w</td>\n",
       "    </tr>\n",
       "    <tr>\n",
       "      <th>2</th>\n",
       "      <td>[r, error, invalid, type, list, variable]</td>\n",
       "      <td>[import, matlab, file, construct, data, frame,...</td>\n",
       "      <td>r matlab</td>\n",
       "      <td>import matlab file construct data frame matlab...</td>\n",
       "      <td>r error invalid type list variable</td>\n",
       "    </tr>\n",
       "    <tr>\n",
       "      <th>3</th>\n",
       "      <td>[replace, special, character, url]</td>\n",
       "      <td>[probably, simple, simply, find, answer, basic...</td>\n",
       "      <td>c# url encoding</td>\n",
       "      <td>probably simple simply find answer basicaly wa...</td>\n",
       "      <td>replace special character url</td>\n",
       "    </tr>\n",
       "    <tr>\n",
       "      <th>4</th>\n",
       "      <td>[modify, whois, contact, detail]</td>\n",
       "      <td>[function, modify, mcontact, file, get, conten...</td>\n",
       "      <td>php api</td>\n",
       "      <td>function modify mcontact file get content http...</td>\n",
       "      <td>modify whois contact detail</td>\n",
       "    </tr>\n",
       "  </tbody>\n",
       "</table>\n",
       "</div>"
      ],
      "text/plain": [
       "                             clean title text tokens  \\\n",
       "0  [check, upload, file, image, without, mime, type]   \n",
       "1          [prevent, firefox, close, press, ctrl, w]   \n",
       "2          [r, error, invalid, type, list, variable]   \n",
       "3                 [replace, special, character, url]   \n",
       "4                   [modify, whois, contact, detail]   \n",
       "\n",
       "                              clean body text tokens  \\\n",
       "0  [like, check, upload, file, image, file, e, g,...   \n",
       "1  [favorite, editor, vim, regularly, use, ctrl, ...   \n",
       "2  [import, matlab, file, construct, data, frame,...   \n",
       "3  [probably, simple, simply, find, answer, basic...   \n",
       "4  [function, modify, mcontact, file, get, conten...   \n",
       "\n",
       "                                       Tags  \\\n",
       "0   php image-processing file-upload upload   \n",
       "1                                   firefox   \n",
       "2                                  r matlab   \n",
       "3                           c# url encoding   \n",
       "4                                   php api   \n",
       "\n",
       "                                         body tokens  \\\n",
       "0  like check upload file image file e g png jpg ...   \n",
       "1  favorite editor vim regularly use ctrl w execu...   \n",
       "2  import matlab file construct data frame matlab...   \n",
       "3  probably simple simply find answer basicaly wa...   \n",
       "4  function modify mcontact file get content http...   \n",
       "\n",
       "                                title tokens  \n",
       "0  check upload file image without mime type  \n",
       "1         prevent firefox close press ctrl w  \n",
       "2         r error invalid type list variable  \n",
       "3              replace special character url  \n",
       "4                modify whois contact detail  "
      ]
     },
     "execution_count": 30,
     "metadata": {},
     "output_type": "execute_result"
    }
   ],
   "source": [
    "data_preprocessed = data_new.copy()\n",
    "data_preprocessed['body tokens'] = data_preprocessed['clean body text tokens'].apply(lambda x : \" \".join(x))\n",
    "data_preprocessed['title tokens'] = data_preprocessed['clean title text tokens'].apply(lambda x : \" \".join(x))\n",
    "\n",
    "data_preprocessed.head()\n"
   ]
  },
  {
   "cell_type": "markdown",
   "metadata": {
    "id": "svUArXS5GbGV"
   },
   "source": [
    "Converting tags for multilabel problems"
   ]
  },
  {
   "cell_type": "code",
   "execution_count": 31,
   "metadata": {
    "colab": {
     "base_uri": "https://localhost:8080/"
    },
    "id": "G4v-LkD3Gcpi",
    "outputId": "6d6f36fa-6426-4a61-eaca-3e422581f475"
   },
   "outputs": [
    {
     "name": "stdout",
     "output_type": "stream",
     "text": [
      "Total tags present 530560\n",
      "Total unique tags present: 501\n"
     ]
    }
   ],
   "source": [
    "unique_tags_preprocessed = get_unique_tags(data_preprocessed)"
   ]
  },
  {
   "cell_type": "markdown",
   "metadata": {
    "id": "QjWfQWV-EfLg"
   },
   "source": [
    "Vectorizing the Tags using CountVectorizer"
   ]
  },
  {
   "cell_type": "code",
   "execution_count": 32,
   "metadata": {
    "colab": {
     "base_uri": "https://localhost:8080/"
    },
    "id": "YYXMEFDk_1FC",
    "outputId": "2cbf28e0-1636-4d05-f1c5-7ba8d3bc3478"
   },
   "outputs": [
    {
     "data": {
      "text/plain": [
       "(177270, 500)"
      ]
     },
     "execution_count": 32,
     "metadata": {},
     "output_type": "execute_result"
    }
   ],
   "source": [
    "from sklearn.feature_extraction.text import CountVectorizer\n",
    "vectorizer = CountVectorizer(tokenizer = lambda x: x.split(), binary='true')\n",
    "multilabel_y = vectorizer.fit_transform(data_preprocessed['Tags'])\n",
    "#multilabel_y = vectorizer.fit_transform(uniq_tags_temp)\n",
    "multilabel_y.toarray().shape"
   ]
  },
  {
   "cell_type": "code",
   "execution_count": 33,
   "metadata": {},
   "outputs": [
    {
     "data": {
      "text/plain": [
       "(177270, 5)"
      ]
     },
     "execution_count": 33,
     "metadata": {},
     "output_type": "execute_result"
    }
   ],
   "source": [
    "data_preprocessed.shape"
   ]
  },
  {
   "cell_type": "markdown",
   "metadata": {
    "id": "O5byKqtbFMEk"
   },
   "source": [
    "Using TFIDF for clean text tokens(questions)"
   ]
  },
  {
   "cell_type": "code",
   "execution_count": 34,
   "metadata": {
    "id": "tB90xnAsFL4X"
   },
   "outputs": [],
   "source": [
    "body_vectorizer = TfidfVectorizer()\n",
    "title_vectorizer = TfidfVectorizer()\n",
    "\n",
    "# fitting the tf-idf on the given data\n",
    "body_vector = body_vectorizer.fit_transform(data_preprocessed['body tokens'])\n",
    "title_vector = title_vectorizer.fit_transform(data_preprocessed['title tokens'])"
   ]
  },
  {
   "cell_type": "code",
   "execution_count": 35,
   "metadata": {},
   "outputs": [],
   "source": [
    "from scipy.sparse import hstack\n",
    "questions = hstack([body_vector,title_vector])"
   ]
  },
  {
   "cell_type": "code",
   "execution_count": 36,
   "metadata": {},
   "outputs": [
    {
     "name": "stdout",
     "output_type": "stream",
     "text": [
      "(177270, 514133)\n",
      "(177270, 500)\n"
     ]
    }
   ],
   "source": [
    "print(questions.shape)\n",
    "print(multilabel_y.toarray().shape)"
   ]
  },
  {
   "cell_type": "markdown",
   "metadata": {},
   "source": [
    "### Splitting the data into test and train"
   ]
  },
  {
   "cell_type": "code",
   "execution_count": 38,
   "metadata": {},
   "outputs": [],
   "source": [
    "x_train,x_test,y_train,y_test = train_test_split(questions,multilabel_y)"
   ]
  },
  {
   "cell_type": "code",
   "execution_count": 39,
   "metadata": {},
   "outputs": [
    {
     "name": "stdout",
     "output_type": "stream",
     "text": [
      "X train shape (132952, 514133)\n",
      "Y train shape (132952, 500)\n",
      "X test shape (44318, 514133)\n",
      "Y test shape (44318, 500)\n"
     ]
    }
   ],
   "source": [
    "print(\"X train shape\",x_train.shape)\n",
    "print(\"Y train shape\",y_train.shape)\n",
    "print(\"X test shape\",x_test.shape)\n",
    "print(\"Y test shape\",y_test.shape)"
   ]
  },
  {
   "cell_type": "code",
   "execution_count": 40,
   "metadata": {
    "colab": {
     "base_uri": "https://localhost:8080/"
    },
    "id": "C5DVUlIAFL1f",
    "outputId": "7c4f3cf5-d3c0-49e1-afec-6a398594f37d"
   },
   "outputs": [
    {
     "name": "stderr",
     "output_type": "stream",
     "text": [
      "/N/u/mtavilda/Carbonate/.conda/envs/tag_pred/lib/python3.8/site-packages/sklearn/utils/validation.py:70: FutureWarning: Pass n_neighbors=2 as keyword args. From version 1.0 (renaming of 0.25) passing these as positional arguments will result in an error\n",
      "  warnings.warn(f\"Pass {args_msg} as keyword args. From version \"\n"
     ]
    },
    {
     "name": "stdout",
     "output_type": "stream",
     "text": [
      "Time taken to train 2452.4246077537537\n"
     ]
    }
   ],
   "source": [
    "import time\n",
    "a = time.time()\n",
    "mlknn_classifier = MLkNN(k=2)\n",
    "mlknn_classifier.fit(x_train,y_train)\n",
    "print(\"Time taken to train\" ,time.time()-a)"
   ]
  },
  {
   "cell_type": "code",
   "execution_count": 41,
   "metadata": {
    "id": "HzKuY_aOFLy3"
   },
   "outputs": [
    {
     "data": {
      "text/plain": [
       "(1, 514133)"
      ]
     },
     "execution_count": 41,
     "metadata": {},
     "output_type": "execute_result"
    }
   ],
   "source": [
    "test_sent = [\"corpus <- VCorpus(VectorSource(text)) tdm <- TermDocumentMatrix()\"]\n",
    "qs1 = body_vectorizer.transform(test_sent)\n",
    "qs2 = title_vectorizer.transform(test_sent)\n",
    "q = hstack([qs1,qs2])\n",
    "q.shape"
   ]
  },
  {
   "cell_type": "code",
   "execution_count": 43,
   "metadata": {
    "id": "Ff-e0QX2FLwA"
   },
   "outputs": [
    {
     "data": {
      "text/plain": [
       "(array([0]), array([495]))"
      ]
     },
     "execution_count": 43,
     "metadata": {},
     "output_type": "execute_result"
    }
   ],
   "source": [
    "import numpy as np\n",
    "op = mlknn_classifier.predict(q)\n",
    "np.where(op.toarray() == 1)"
   ]
  },
  {
   "cell_type": "code",
   "execution_count": 44,
   "metadata": {
    "colab": {
     "base_uri": "https://localhost:8080/"
    },
    "id": "-90gNloJWqzq",
    "outputId": "72bb1695-13fa-4902-95bd-07d5e57ae364"
   },
   "outputs": [
    {
     "data": {
      "text/plain": [
       "[array(['xml'], dtype='<U25')]"
      ]
     },
     "execution_count": 44,
     "metadata": {},
     "output_type": "execute_result"
    }
   ],
   "source": [
    "vectorizer.inverse_transform(op)"
   ]
  },
  {
   "cell_type": "markdown",
   "metadata": {},
   "source": [
    "### Checking the accuracy metric"
   ]
  },
  {
   "cell_type": "code",
   "execution_count": 45,
   "metadata": {},
   "outputs": [],
   "source": [
    "pred = mlknn_classifier.predict(x_test)"
   ]
  },
  {
   "cell_type": "code",
   "execution_count": 46,
   "metadata": {},
   "outputs": [
    {
     "data": {
      "text/plain": [
       "(44318, 500)"
      ]
     },
     "execution_count": 46,
     "metadata": {},
     "output_type": "execute_result"
    }
   ],
   "source": [
    "pred.shape"
   ]
  },
  {
   "cell_type": "code",
   "execution_count": 47,
   "metadata": {},
   "outputs": [
    {
     "data": {
      "text/plain": [
       "0.00578081140845706"
      ]
     },
     "execution_count": 47,
     "metadata": {},
     "output_type": "execute_result"
    }
   ],
   "source": [
    "accuracy_score(y_test,pred)\n",
    "hamming_loss(y_test,pred)"
   ]
  },
  {
   "cell_type": "markdown",
   "metadata": {},
   "source": [
    "#### Classification report"
   ]
  },
  {
   "cell_type": "code",
   "execution_count": 48,
   "metadata": {},
   "outputs": [
    {
     "name": "stdout",
     "output_type": "stream",
     "text": [
      "              precision    recall  f1-score   support\n",
      "\n",
      "           0       0.81      0.37      0.51       174\n",
      "           1       0.12      0.20      0.15      1287\n",
      "           2       0.01      0.02      0.02        52\n",
      "           3       0.01      0.02      0.02        50\n",
      "           4       0.06      0.10      0.08        52\n",
      "           5       0.14      0.26      0.18        34\n",
      "           6       0.66      0.22      0.33        94\n",
      "           7       0.11      0.13      0.12        63\n",
      "           8       0.33      0.35      0.34       262\n",
      "           9       0.38      0.43      0.40        98\n",
      "          10       0.20      0.26      0.23        86\n",
      "          11       0.16      0.24      0.19        55\n",
      "          12       0.08      0.11      0.09        46\n",
      "          13       0.24      0.41      0.30       506\n",
      "          14       0.45      0.14      0.22        70\n",
      "          15       0.17      0.22      0.19       242\n",
      "          16       0.39      0.57      0.46        82\n",
      "          17       0.22      0.29      0.25        48\n",
      "          18       0.16      0.17      0.16        82\n",
      "          19       0.88      0.48      0.62      2611\n",
      "          20       0.14      0.02      0.04        44\n",
      "          21       0.45      0.07      0.11        76\n",
      "          22       0.19      0.04      0.07       125\n",
      "          23       0.17      0.02      0.04        44\n",
      "          24       0.21      0.38      0.27        90\n",
      "          25       0.45      0.56      0.50        68\n",
      "          26       0.13      0.24      0.17       215\n",
      "          27       0.28      0.43      0.34       228\n",
      "          28       0.18      0.02      0.03       181\n",
      "          29       0.05      0.12      0.07        77\n",
      "          30       0.10      0.15      0.12        78\n",
      "          31       0.30      0.05      0.09       405\n",
      "          32       0.18      0.31      0.23        45\n",
      "          33       0.31      0.46      0.37      1480\n",
      "          34       0.27      0.40      0.32       462\n",
      "          35       0.08      0.12      0.10        65\n",
      "          36       0.23      0.26      0.25       309\n",
      "          37       0.07      0.09      0.08        69\n",
      "          38       0.41      0.46      0.43        81\n",
      "          39       0.27      0.23      0.25        73\n",
      "          40       0.03      0.09      0.05        34\n",
      "          41       0.34      0.41      0.37       147\n",
      "          42       0.14      0.20      0.16       126\n",
      "          43       0.26      0.37      0.30        52\n",
      "          44       0.09      0.07      0.08        54\n",
      "          45       0.43      0.44      0.44        45\n",
      "          46       0.43      0.50      0.46        52\n",
      "          47       0.47      0.66      0.55        68\n",
      "          48       0.05      0.10      0.06        41\n",
      "          49       0.28      0.49      0.36        63\n",
      "          50       0.28      0.42      0.34       265\n",
      "          51       0.17      0.29      0.21        66\n",
      "          52       0.28      0.37      0.32        46\n",
      "          53       0.12      0.25      0.16        57\n",
      "          54       0.36      0.50      0.42        72\n",
      "          55       0.56      0.73      0.63        41\n",
      "          56       0.40      0.62      0.49        84\n",
      "          57       0.31      0.37      0.34        54\n",
      "          58       0.08      0.13      0.10        93\n",
      "          59       0.09      0.12      0.11        49\n",
      "          60       0.40      0.02      0.04        91\n",
      "          61       0.56      0.10      0.17       815\n",
      "          62       0.46      0.11      0.18      3801\n",
      "          63       0.01      0.02      0.01       125\n",
      "          64       0.29      0.44      0.35      1703\n",
      "          65       0.26      0.33      0.29        36\n",
      "          66       0.35      0.41      0.38       109\n",
      "          67       0.29      0.57      0.39        88\n",
      "          68       0.61      0.16      0.25       125\n",
      "          69       0.27      0.36      0.31        58\n",
      "          70       0.44      0.09      0.15        46\n",
      "          71       0.40      0.02      0.04        93\n",
      "          72       0.07      0.11      0.09        47\n",
      "          73       0.44      0.46      0.45        46\n",
      "          74       0.14      0.27      0.18        51\n",
      "          75       0.25      0.01      0.01       161\n",
      "          76       0.20      0.21      0.20       228\n",
      "          77       0.08      0.12      0.10       210\n",
      "          78       0.98      0.29      0.44       157\n",
      "          79       0.02      0.02      0.02        48\n",
      "          80       0.41      0.48      0.44        50\n",
      "          81       0.07      0.12      0.09        58\n",
      "          82       0.13      0.32      0.19        38\n",
      "          83       0.36      0.29      0.32        69\n",
      "          84       0.24      0.32      0.28        71\n",
      "          85       0.32      0.46      0.37        50\n",
      "          86       0.12      0.19      0.15       151\n",
      "          87       0.47      0.15      0.23        47\n",
      "          88       0.11      0.15      0.13        55\n",
      "          89       0.36      0.43      0.39        58\n",
      "          90       0.04      0.04      0.04        50\n",
      "          91       0.02      0.04      0.03        83\n",
      "          92       0.00      0.00      0.00        51\n",
      "          93       0.15      0.28      0.20        47\n",
      "          94       0.32      0.28      0.30        53\n",
      "          95       0.36      0.55      0.43        69\n",
      "          96       0.58      0.63      0.60        98\n",
      "          97       0.14      0.14      0.14        51\n",
      "          98       0.41      0.49      0.45        43\n",
      "          99       0.38      0.59      0.47      1082\n",
      "         100       0.20      0.30      0.24       111\n",
      "         101       0.32      0.49      0.39        57\n",
      "         102       0.45      0.73      0.56        71\n",
      "         103       0.96      0.44      0.60        50\n",
      "         104       0.01      0.01      0.01        67\n",
      "         105       0.24      0.32      0.28        99\n",
      "         106       0.13      0.25      0.17        69\n",
      "         107       0.11      0.18      0.14       499\n",
      "         108       0.18      0.25      0.21        95\n",
      "         109       0.32      0.43      0.37        49\n",
      "         110       0.41      0.51      0.46        47\n",
      "         111       0.22      0.04      0.06       106\n",
      "         112       0.33      0.05      0.08       111\n",
      "         113       0.17      0.24      0.20       106\n",
      "         114       0.24      0.32      0.28       171\n",
      "         115       0.67      0.04      0.08        48\n",
      "         116       0.29      0.27      0.28       180\n",
      "         117       0.36      0.42      0.38        48\n",
      "         118       0.14      0.22      0.17        87\n",
      "         119       0.06      0.07      0.07       121\n",
      "         120       0.15      0.21      0.18       122\n",
      "         121       0.53      0.17      0.25        54\n",
      "         122       0.11      0.01      0.02        81\n",
      "         123       0.41      0.63      0.50       386\n",
      "         124       0.50      0.13      0.21        46\n",
      "         125       0.47      0.13      0.20        70\n",
      "         126       0.47      0.65      0.55       115\n",
      "         127       1.00      0.45      0.62        44\n",
      "         128       0.13      0.17      0.15       120\n",
      "         129       0.31      0.09      0.14        58\n",
      "         130       0.35      0.27      0.30        45\n",
      "         131       0.44      0.07      0.12        58\n",
      "         132       0.39      0.56      0.46       105\n",
      "         133       0.07      0.08      0.07        90\n",
      "         134       0.33      0.50      0.39       359\n",
      "         135       0.23      0.40      0.29        48\n",
      "         136       0.48      0.68      0.56        74\n",
      "         137       0.35      0.46      0.40       230\n",
      "         138       0.21      0.28      0.24        57\n",
      "         139       0.43      0.44      0.44       102\n",
      "         140       0.42      0.45      0.44       194\n",
      "         141       0.17      0.18      0.18        60\n",
      "         142       0.11      0.16      0.13        49\n",
      "         143       0.10      0.16      0.12       131\n",
      "         144       0.32      0.47      0.38       196\n",
      "         145       0.22      0.27      0.25        62\n",
      "         146       0.31      0.04      0.07       104\n",
      "         147       0.16      0.32      0.21        41\n",
      "         148       0.37      0.49      0.42        51\n",
      "         149       0.47      0.62      0.53        78\n",
      "         150       0.52      0.80      0.63       377\n",
      "         151       0.56      0.15      0.24       133\n",
      "         152       0.10      0.17      0.13       200\n",
      "         153       0.05      0.10      0.06        63\n",
      "         154       0.40      0.06      0.10        71\n",
      "         155       0.16      0.15      0.15        60\n",
      "         156       0.07      0.12      0.09        40\n",
      "         157       0.27      0.37      0.31       167\n",
      "         158       0.26      0.36      0.30        39\n",
      "         159       0.34      0.41      0.37       251\n",
      "         160       0.39      0.46      0.42       184\n",
      "         161       0.63      0.31      0.41        78\n",
      "         162       0.12      0.24      0.16        58\n",
      "         163       0.05      0.05      0.05        57\n",
      "         164       0.46      0.05      0.09       251\n",
      "         165       0.10      0.17      0.13        59\n",
      "         166       0.37      0.56      0.45        73\n",
      "         167       0.36      0.03      0.05       140\n",
      "         168       0.62      0.14      0.22        59\n",
      "         169       0.07      0.02      0.03        48\n",
      "         170       0.26      0.40      0.31        86\n",
      "         171       0.67      0.19      0.29        64\n",
      "         172       0.70      0.19      0.29       102\n",
      "         173       0.25      0.39      0.31        71\n",
      "         174       0.87      0.68      0.77       243\n",
      "         175       0.39      0.54      0.45        46\n",
      "         176       0.73      0.18      0.29        45\n",
      "         177       0.15      0.24      0.19       124\n",
      "         178       0.43      0.47      0.45       139\n",
      "         179       0.28      0.36      0.32       162\n",
      "         180       0.38      0.47      0.42        38\n",
      "         181       0.62      0.28      0.39       123\n",
      "         182       0.47      0.11      0.18        63\n",
      "         183       0.38      0.53      0.44        89\n",
      "         184       0.17      0.29      0.21        63\n",
      "         185       0.13      0.15      0.14        92\n",
      "         186       0.46      0.44      0.45        93\n",
      "         187       0.35      0.50      0.41        48\n",
      "         188       0.41      0.52      0.46        60\n",
      "         189       0.13      0.18      0.15       100\n",
      "         190       0.54      0.56      0.55       101\n",
      "         191       0.76      0.65      0.70        48\n",
      "         192       0.29      0.09      0.14        75\n",
      "         193       0.31      0.49      0.38        55\n",
      "         194       0.40      0.41      0.41       105\n",
      "         195       0.38      0.64      0.48        56\n",
      "         196       0.39      0.58      0.47       212\n",
      "         197       0.20      0.02      0.04       277\n",
      "         198       0.47      0.10      0.16      1400\n",
      "         199       0.19      0.30      0.23       246\n",
      "         200       0.21      0.23      0.22       171\n",
      "         201       0.10      0.18      0.13        56\n",
      "         202       0.06      0.13      0.08        39\n",
      "         203       0.11      0.12      0.11        50\n",
      "         204       0.08      0.18      0.11        49\n",
      "         205       0.58      0.26      0.36        69\n",
      "         206       0.21      0.26      0.23       151\n",
      "         207       0.18      0.21      0.20        98\n",
      "         208       0.15      0.27      0.19       237\n",
      "         209       0.13      0.15      0.14        85\n",
      "         210       0.20      0.04      0.06        53\n",
      "         211       0.21      0.24      0.22       101\n",
      "         212       0.02      0.04      0.03        51\n",
      "         213       0.00      0.00      0.00        39\n",
      "         214       0.11      0.14      0.13        69\n",
      "         215       0.43      0.16      0.23        38\n",
      "         216       0.04      0.06      0.05        51\n",
      "         217       0.25      0.30      0.28        56\n",
      "         218       0.10      0.16      0.12        45\n",
      "         219       0.50      0.14      0.22       165\n",
      "         220       0.14      0.18      0.15        51\n",
      "         221       0.00      0.00      0.00        43\n",
      "         222       0.31      0.39      0.35      1171\n",
      "         223       0.01      0.03      0.02        32\n",
      "         224       0.03      0.05      0.04        92\n",
      "         225       0.03      0.05      0.04        39\n",
      "         226       0.20      0.26      0.22        62\n",
      "         227       0.17      0.25      0.20       243\n",
      "         228       0.33      0.50      0.40      1483\n",
      "         229       0.00      0.00      0.00        66\n",
      "         230       0.47      0.66      0.55        38\n",
      "         231       0.54      0.25      0.34        53\n",
      "         232       0.33      0.51      0.40      3381\n",
      "         233       0.13      0.17      0.15       115\n",
      "         234       0.32      0.43      0.37        51\n",
      "         235       0.56      0.16      0.25      3072\n",
      "         236       0.05      0.09      0.07        65\n",
      "         237       0.50      0.45      0.47        60\n",
      "         238       0.25      0.31      0.28        58\n",
      "         239       0.23      0.40      0.29        77\n",
      "         240       0.40      0.56      0.47        64\n",
      "         241       0.40      0.43      0.42        76\n",
      "         242       0.59      0.73      0.65        51\n",
      "         243       0.72      0.33      0.45      2491\n",
      "         244       0.08      0.01      0.01       125\n",
      "         245       0.31      0.49      0.38        87\n",
      "         246       0.07      0.12      0.08        67\n",
      "         247       0.58      0.14      0.23        50\n",
      "         248       0.57      0.18      0.28       174\n",
      "         249       0.67      0.14      0.24       112\n",
      "         250       0.15      0.21      0.17        47\n",
      "         251       0.39      0.55      0.45       375\n",
      "         252       0.71      0.11      0.19       152\n",
      "         253       0.21      0.29      0.24        49\n",
      "         254       0.20      0.20      0.20        66\n",
      "         255       0.26      0.44      0.33        34\n",
      "         256       0.01      0.01      0.01        68\n",
      "         257       0.40      0.10      0.15        42\n",
      "         258       0.22      0.02      0.04        86\n",
      "         259       0.58      0.50      0.54        50\n",
      "         260       0.33      0.50      0.40        36\n",
      "         261       1.00      0.12      0.22        40\n",
      "         262       0.77      0.19      0.31       104\n",
      "         263       0.32      0.41      0.36       247\n",
      "         264       0.27      0.38      0.31        97\n",
      "         265       0.23      0.31      0.26      1069\n",
      "         266       0.15      0.25      0.19       177\n",
      "         267       0.21      0.36      0.27       105\n",
      "         268       0.25      0.37      0.30        46\n",
      "         269       0.21      0.33      0.25       121\n",
      "         270       0.18      0.20      0.19        45\n",
      "         271       0.00      0.00      0.00        78\n",
      "         272       0.10      0.16      0.12        99\n",
      "         273       0.15      0.17      0.16        87\n",
      "         274       0.63      0.14      0.24        83\n",
      "         275       0.47      0.61      0.53       123\n",
      "         276       0.00      0.00      0.00        53\n",
      "         277       0.09      0.15      0.11        99\n",
      "         278       0.35      0.46      0.40       152\n",
      "         279       0.69      0.20      0.31        55\n",
      "         280       0.20      0.44      0.27        39\n",
      "         281       0.67      0.30      0.42        92\n",
      "         282       0.40      0.45      0.43        44\n",
      "         283       0.19      0.22      0.21       152\n",
      "         284       0.28      0.35      0.31        54\n",
      "         285       0.08      0.14      0.10        78\n",
      "         286       0.13      0.16      0.14        56\n",
      "         287       0.66      0.70      0.68        53\n",
      "         288       0.08      0.13      0.10        54\n",
      "         289       0.37      0.28      0.32        53\n",
      "         290       0.23      0.30      0.26        53\n",
      "         291       0.16      0.19      0.18        88\n",
      "         292       0.71      0.23      0.35       105\n",
      "         293       0.33      0.02      0.04        46\n",
      "         294       0.00      0.00      0.00        53\n",
      "         295       0.61      0.64      0.63       134\n",
      "         296       0.33      0.40      0.36        35\n",
      "         297       0.24      0.27      0.25       101\n",
      "         298       0.20      0.02      0.04        42\n",
      "         299       0.35      0.51      0.42       327\n",
      "         300       0.12      0.22      0.15       127\n",
      "         301       0.24      0.42      0.30        66\n",
      "         302       0.77      0.28      0.41      1388\n",
      "         303       0.12      0.10      0.11        69\n",
      "         304       0.68      0.18      0.29        72\n",
      "         305       0.21      0.33      0.26       303\n",
      "         306       0.42      0.72      0.53        72\n",
      "         307       0.53      0.61      0.57       128\n",
      "         308       0.32      0.49      0.39       168\n",
      "         309       0.22      0.30      0.25        71\n",
      "         310       0.57      0.58      0.57        57\n",
      "         311       0.37      0.50      0.43        58\n",
      "         312       0.25      0.01      0.02       123\n",
      "         313       0.27      0.38      0.31      1082\n",
      "         314       0.22      0.01      0.03       144\n",
      "         315       0.30      0.22      0.25        60\n",
      "         316       0.52      0.70      0.60        87\n",
      "         317       0.31      0.41      0.36        92\n",
      "         318       0.30      0.40      0.34        63\n",
      "         319       0.10      0.11      0.11       120\n",
      "         320       0.26      0.36      0.30       233\n",
      "         321       0.06      0.09      0.07        45\n",
      "         322       0.17      0.23      0.19       436\n",
      "         323       0.11      0.11      0.11        36\n",
      "         324       0.46      0.13      0.20        47\n",
      "         325       0.04      0.09      0.06        47\n",
      "         326       0.12      0.16      0.14       135\n",
      "         327       0.25      0.02      0.04        47\n",
      "         328       0.46      0.65      0.54       135\n",
      "         329       0.09      0.11      0.10       312\n",
      "         330       0.24      0.34      0.28       221\n",
      "         331       0.18      0.28      0.22       126\n",
      "         332       0.32      0.48      0.38        97\n",
      "         333       0.67      0.28      0.39      3183\n",
      "         334       0.62      0.11      0.19        44\n",
      "         335       0.15      0.19      0.17       137\n",
      "         336       0.40      0.13      0.20        90\n",
      "         337       0.25      0.04      0.07        78\n",
      "         338       0.81      0.35      0.49        37\n",
      "         339       0.32      0.37      0.34       148\n",
      "         340       0.30      0.39      0.34       117\n",
      "         341       0.28      0.50      0.36        82\n",
      "         342       0.45      0.58      0.51       126\n",
      "         343       0.29      0.38      0.33        53\n",
      "         344       0.19      0.25      0.21        69\n",
      "         345       0.50      0.03      0.06        64\n",
      "         346       0.12      0.17      0.14        54\n",
      "         347       0.26      0.40      0.32        82\n",
      "         348       0.33      0.50      0.40      1553\n",
      "         349       0.02      0.05      0.03        43\n",
      "         350       0.05      0.10      0.07        40\n",
      "         351       0.44      0.46      0.45       154\n",
      "         352       0.10      0.17      0.13       230\n",
      "         353       0.74      0.15      0.25       205\n",
      "         354       0.47      0.63      0.54        27\n",
      "         355       0.32      0.51      0.39        61\n",
      "         356       0.23      0.41      0.29        74\n",
      "         357       0.27      0.45      0.34       128\n",
      "         358       0.17      0.21      0.19        48\n",
      "         359       0.67      0.08      0.14       105\n",
      "         360       1.00      0.04      0.08        48\n",
      "         361       0.20      0.22      0.21        51\n",
      "         362       0.25      0.34      0.29        82\n",
      "         363       0.46      0.63      0.53       474\n",
      "         364       0.71      0.28      0.41        53\n",
      "         365       0.05      0.06      0.06        51\n",
      "         366       0.30      0.36      0.32       143\n",
      "         367       0.22      0.38      0.28        42\n",
      "         368       0.15      0.32      0.21        59\n",
      "         369       0.27      0.42      0.33       610\n",
      "         370       0.37      0.56      0.45       944\n",
      "         371       0.17      0.30      0.22       348\n",
      "         372       0.07      0.10      0.08        48\n",
      "         373       0.23      0.22      0.23        58\n",
      "         374       0.46      0.50      0.48       117\n",
      "         375       0.07      0.10      0.08        82\n",
      "         376       0.04      0.04      0.04        67\n",
      "         377       0.08      0.15      0.10        47\n",
      "         378       0.22      0.29      0.25       128\n",
      "         379       0.13      0.17      0.15       262\n",
      "         380       0.47      0.38      0.42        61\n",
      "         381       0.08      0.14      0.10        86\n",
      "         382       0.58      0.67      0.62        67\n",
      "         383       0.50      0.13      0.21        54\n",
      "         384       0.23      0.37      0.29        81\n",
      "         385       0.10      0.13      0.11        79\n",
      "         386       0.25      0.40      0.30        96\n",
      "         387       0.69      0.26      0.37       137\n",
      "         388       0.22      0.48      0.31       106\n",
      "         389       0.16      0.32      0.22        44\n",
      "         390       0.19      0.30      0.23       194\n",
      "         391       0.26      0.38      0.31       215\n",
      "         392       0.00      0.00      0.00        44\n",
      "         393       0.30      0.51      0.38        41\n",
      "         394       0.44      0.58      0.50        78\n",
      "         395       0.68      0.25      0.37       142\n",
      "         396       0.64      0.68      0.66        40\n",
      "         397       0.22      0.34      0.26       106\n",
      "         398       0.42      0.56      0.48       232\n",
      "         399       0.26      0.31      0.28        71\n",
      "         400       0.28      0.44      0.34      1100\n",
      "         401       0.26      0.43      0.32       594\n",
      "         402       0.43      0.07      0.12       135\n",
      "         403       0.16      0.31      0.21       231\n",
      "         404       0.32      0.45      0.38       191\n",
      "         405       0.40      0.62      0.49       141\n",
      "         406       0.37      0.50      0.43       109\n",
      "         407       0.47      0.17      0.25        47\n",
      "         408       0.24      0.25      0.25        89\n",
      "         409       0.40      0.10      0.16        40\n",
      "         410       0.28      0.38      0.32        87\n",
      "         411       0.32      0.04      0.07       289\n",
      "         412       0.56      0.14      0.22        37\n",
      "         413       0.29      0.50      0.37        50\n",
      "         414       0.55      0.64      0.59        50\n",
      "         415       0.54      0.72      0.62       151\n",
      "         416       0.52      0.58      0.55       201\n",
      "         417       0.49      0.52      0.50        54\n",
      "         418       0.00      0.00      0.00        55\n",
      "         419       0.08      0.14      0.10       127\n",
      "         420       1.00      0.05      0.09        43\n",
      "         421       0.34      0.37      0.36        67\n",
      "         422       0.52      0.08      0.14       132\n",
      "         423       0.16      0.19      0.18        63\n",
      "         424       0.14      0.23      0.18       112\n",
      "         425       0.04      0.08      0.05        75\n",
      "         426       0.16      0.29      0.21        41\n",
      "         427       0.47      0.62      0.54        45\n",
      "         428       0.58      0.61      0.60        51\n",
      "         429       0.17      0.22      0.20        76\n",
      "         430       0.28      0.45      0.35       132\n",
      "         431       0.37      0.43      0.40        44\n",
      "         432       0.12      0.18      0.14       171\n",
      "         433       0.43      0.70      0.53        57\n",
      "         434       0.96      0.42      0.58        60\n",
      "         435       0.00      0.00      0.00        67\n",
      "         436       0.17      0.29      0.22       350\n",
      "         437       0.36      0.50      0.42        46\n",
      "         438       0.37      0.54      0.44       123\n",
      "         439       0.47      0.68      0.56        59\n",
      "         440       0.27      0.28      0.28        74\n",
      "         441       0.17      0.20      0.18        51\n",
      "         442       0.30      0.45      0.36        44\n",
      "         443       0.28      0.37      0.32        52\n",
      "         444       0.38      0.56      0.46       164\n",
      "         445       0.13      0.16      0.14       174\n",
      "         446       0.17      0.02      0.04        50\n",
      "         447       0.09      0.13      0.11       127\n",
      "         448       0.47      0.17      0.25        40\n",
      "         449       0.40      0.62      0.49        68\n",
      "         450       0.09      0.08      0.08        93\n",
      "         451       0.47      0.17      0.25        40\n",
      "         452       0.23      0.36      0.28        44\n",
      "         453       0.17      0.26      0.21       133\n",
      "         454       0.11      0.19      0.14       112\n",
      "         455       0.16      0.20      0.18       435\n",
      "         456       0.21      0.21      0.21        56\n",
      "         457       0.22      0.27      0.24       104\n",
      "         458       0.15      0.23      0.18        35\n",
      "         459       0.37      0.47      0.41        51\n",
      "         460       0.21      0.29      0.24        86\n",
      "         461       0.32      0.56      0.40       112\n",
      "         462       0.02      0.03      0.03        60\n",
      "         463       0.56      0.70      0.62       119\n",
      "         464       0.40      0.62      0.49        48\n",
      "         465       0.15      0.28      0.20        43\n",
      "         466       0.06      0.07      0.06       127\n",
      "         467       0.18      0.30      0.22       248\n",
      "         468       0.13      0.21      0.16       112\n",
      "         469       0.22      0.33      0.26       294\n",
      "         470       0.79      0.46      0.58        50\n",
      "         471       0.47      0.64      0.54       272\n",
      "         472       0.02      0.03      0.02        79\n",
      "         473       0.06      0.07      0.06       125\n",
      "         474       0.30      0.43      0.36       271\n",
      "         475       0.01      0.01      0.01        70\n",
      "         476       0.06      0.09      0.07        58\n",
      "         477       0.08      0.09      0.09       125\n",
      "         478       0.13      0.23      0.17       768\n",
      "         479       0.20      0.33      0.25       472\n",
      "         480       0.15      0.21      0.17       101\n",
      "         481       0.27      0.28      0.28       172\n",
      "         482       0.17      0.26      0.21       103\n",
      "         483       0.19      0.27      0.22       143\n",
      "         484       0.00      0.00      0.00        56\n",
      "         485       0.12      0.20      0.15        60\n",
      "         486       0.13      0.17      0.15       144\n",
      "         487       0.15      0.22      0.17       328\n",
      "         488       0.38      0.57      0.45        61\n",
      "         489       0.26      0.50      0.34       228\n",
      "         490       0.39      0.58      0.46       535\n",
      "         491       0.23      0.33      0.27       135\n",
      "         492       0.20      0.32      0.25       422\n",
      "         493       0.05      0.10      0.07        39\n",
      "         494       0.10      0.16      0.12        43\n",
      "         495       0.34      0.51      0.41       537\n",
      "         496       0.41      0.45      0.43        84\n",
      "         497       0.60      0.67      0.63       102\n",
      "         498       0.73      0.52      0.61        46\n",
      "         499       0.95      0.26      0.40       145\n",
      "\n",
      "   micro avg       0.30      0.32      0.31     88601\n",
      "   macro avg       0.30      0.29      0.26     88601\n",
      "weighted avg       0.37      0.32      0.30     88601\n",
      " samples avg       0.30      0.35      0.30     88601\n",
      "\n"
     ]
    },
    {
     "name": "stderr",
     "output_type": "stream",
     "text": [
      "/N/u/mtavilda/Carbonate/.conda/envs/tag_pred/lib/python3.8/site-packages/sklearn/metrics/_classification.py:1245: UndefinedMetricWarning: Precision and F-score are ill-defined and being set to 0.0 in labels with no predicted samples. Use `zero_division` parameter to control this behavior.\n",
      "  _warn_prf(average, modifier, msg_start, len(result))\n",
      "/N/u/mtavilda/Carbonate/.conda/envs/tag_pred/lib/python3.8/site-packages/sklearn/metrics/_classification.py:1245: UndefinedMetricWarning: Precision and F-score are ill-defined and being set to 0.0 in samples with no predicted labels. Use `zero_division` parameter to control this behavior.\n",
      "  _warn_prf(average, modifier, msg_start, len(result))\n"
     ]
    }
   ],
   "source": [
    "from sklearn.metrics import classification_report\n",
    "print(classification_report(y_test,pred))"
   ]
  },
  {
   "cell_type": "markdown",
   "metadata": {},
   "source": [
    "### GridSearch for optimal hyperparameters"
   ]
  },
  {
   "cell_type": "code",
   "execution_count": 49,
   "metadata": {
    "colab": {
     "base_uri": "https://localhost:8080/"
    },
    "id": "IwYLFbGsZ-kO",
    "outputId": "6ff32c17-7013-4b50-f627-287ae03b7753"
   },
   "outputs": [
    {
     "name": "stderr",
     "output_type": "stream",
     "text": [
      "/N/u/mtavilda/Carbonate/.conda/envs/tag_pred/lib/python3.8/site-packages/sklearn/utils/validation.py:70: FutureWarning: Pass n_neighbors=1 as keyword args. From version 1.0 (renaming of 0.25) passing these as positional arguments will result in an error\n",
      "  warnings.warn(f\"Pass {args_msg} as keyword args. From version \"\n",
      "/N/u/mtavilda/Carbonate/.conda/envs/tag_pred/lib/python3.8/site-packages/sklearn/utils/validation.py:70: FutureWarning: Pass n_neighbors=1 as keyword args. From version 1.0 (renaming of 0.25) passing these as positional arguments will result in an error\n",
      "  warnings.warn(f\"Pass {args_msg} as keyword args. From version \"\n",
      "/N/u/mtavilda/Carbonate/.conda/envs/tag_pred/lib/python3.8/site-packages/sklearn/utils/validation.py:70: FutureWarning: Pass n_neighbors=1 as keyword args. From version 1.0 (renaming of 0.25) passing these as positional arguments will result in an error\n",
      "  warnings.warn(f\"Pass {args_msg} as keyword args. From version \"\n",
      "/N/u/mtavilda/Carbonate/.conda/envs/tag_pred/lib/python3.8/site-packages/sklearn/utils/validation.py:70: FutureWarning: Pass n_neighbors=1 as keyword args. From version 1.0 (renaming of 0.25) passing these as positional arguments will result in an error\n",
      "  warnings.warn(f\"Pass {args_msg} as keyword args. From version \"\n",
      "/N/u/mtavilda/Carbonate/.conda/envs/tag_pred/lib/python3.8/site-packages/sklearn/utils/validation.py:70: FutureWarning: Pass n_neighbors=1 as keyword args. From version 1.0 (renaming of 0.25) passing these as positional arguments will result in an error\n",
      "  warnings.warn(f\"Pass {args_msg} as keyword args. From version \"\n",
      "/N/u/mtavilda/Carbonate/.conda/envs/tag_pred/lib/python3.8/site-packages/sklearn/utils/validation.py:70: FutureWarning: Pass n_neighbors=1 as keyword args. From version 1.0 (renaming of 0.25) passing these as positional arguments will result in an error\n",
      "  warnings.warn(f\"Pass {args_msg} as keyword args. From version \"\n",
      "/N/u/mtavilda/Carbonate/.conda/envs/tag_pred/lib/python3.8/site-packages/sklearn/utils/validation.py:70: FutureWarning: Pass n_neighbors=1 as keyword args. From version 1.0 (renaming of 0.25) passing these as positional arguments will result in an error\n",
      "  warnings.warn(f\"Pass {args_msg} as keyword args. From version \"\n",
      "/N/u/mtavilda/Carbonate/.conda/envs/tag_pred/lib/python3.8/site-packages/sklearn/utils/validation.py:70: FutureWarning: Pass n_neighbors=1 as keyword args. From version 1.0 (renaming of 0.25) passing these as positional arguments will result in an error\n",
      "  warnings.warn(f\"Pass {args_msg} as keyword args. From version \"\n",
      "/N/u/mtavilda/Carbonate/.conda/envs/tag_pred/lib/python3.8/site-packages/sklearn/utils/validation.py:70: FutureWarning: Pass n_neighbors=1 as keyword args. From version 1.0 (renaming of 0.25) passing these as positional arguments will result in an error\n",
      "  warnings.warn(f\"Pass {args_msg} as keyword args. From version \"\n",
      "/N/u/mtavilda/Carbonate/.conda/envs/tag_pred/lib/python3.8/site-packages/sklearn/utils/validation.py:70: FutureWarning: Pass n_neighbors=1 as keyword args. From version 1.0 (renaming of 0.25) passing these as positional arguments will result in an error\n",
      "  warnings.warn(f\"Pass {args_msg} as keyword args. From version \"\n",
      "/N/u/mtavilda/Carbonate/.conda/envs/tag_pred/lib/python3.8/site-packages/sklearn/utils/validation.py:70: FutureWarning: Pass n_neighbors=1 as keyword args. From version 1.0 (renaming of 0.25) passing these as positional arguments will result in an error\n",
      "  warnings.warn(f\"Pass {args_msg} as keyword args. From version \"\n",
      "/N/u/mtavilda/Carbonate/.conda/envs/tag_pred/lib/python3.8/site-packages/sklearn/utils/validation.py:70: FutureWarning: Pass n_neighbors=1 as keyword args. From version 1.0 (renaming of 0.25) passing these as positional arguments will result in an error\n",
      "  warnings.warn(f\"Pass {args_msg} as keyword args. From version \"\n",
      "/N/u/mtavilda/Carbonate/.conda/envs/tag_pred/lib/python3.8/site-packages/sklearn/utils/validation.py:70: FutureWarning: Pass n_neighbors=1 as keyword args. From version 1.0 (renaming of 0.25) passing these as positional arguments will result in an error\n",
      "  warnings.warn(f\"Pass {args_msg} as keyword args. From version \"\n",
      "/N/u/mtavilda/Carbonate/.conda/envs/tag_pred/lib/python3.8/site-packages/sklearn/utils/validation.py:70: FutureWarning: Pass n_neighbors=1 as keyword args. From version 1.0 (renaming of 0.25) passing these as positional arguments will result in an error\n",
      "  warnings.warn(f\"Pass {args_msg} as keyword args. From version \"\n",
      "/N/u/mtavilda/Carbonate/.conda/envs/tag_pred/lib/python3.8/site-packages/sklearn/utils/validation.py:70: FutureWarning: Pass n_neighbors=1 as keyword args. From version 1.0 (renaming of 0.25) passing these as positional arguments will result in an error\n",
      "  warnings.warn(f\"Pass {args_msg} as keyword args. From version \"\n",
      "/N/u/mtavilda/Carbonate/.conda/envs/tag_pred/lib/python3.8/site-packages/sklearn/utils/validation.py:70: FutureWarning: Pass n_neighbors=2 as keyword args. From version 1.0 (renaming of 0.25) passing these as positional arguments will result in an error\n",
      "  warnings.warn(f\"Pass {args_msg} as keyword args. From version \"\n",
      "/N/u/mtavilda/Carbonate/.conda/envs/tag_pred/lib/python3.8/site-packages/sklearn/utils/validation.py:70: FutureWarning: Pass n_neighbors=2 as keyword args. From version 1.0 (renaming of 0.25) passing these as positional arguments will result in an error\n",
      "  warnings.warn(f\"Pass {args_msg} as keyword args. From version \"\n",
      "/N/u/mtavilda/Carbonate/.conda/envs/tag_pred/lib/python3.8/site-packages/sklearn/utils/validation.py:70: FutureWarning: Pass n_neighbors=2 as keyword args. From version 1.0 (renaming of 0.25) passing these as positional arguments will result in an error\n",
      "  warnings.warn(f\"Pass {args_msg} as keyword args. From version \"\n",
      "/N/u/mtavilda/Carbonate/.conda/envs/tag_pred/lib/python3.8/site-packages/sklearn/utils/validation.py:70: FutureWarning: Pass n_neighbors=2 as keyword args. From version 1.0 (renaming of 0.25) passing these as positional arguments will result in an error\n",
      "  warnings.warn(f\"Pass {args_msg} as keyword args. From version \"\n",
      "/N/u/mtavilda/Carbonate/.conda/envs/tag_pred/lib/python3.8/site-packages/sklearn/utils/validation.py:70: FutureWarning: Pass n_neighbors=2 as keyword args. From version 1.0 (renaming of 0.25) passing these as positional arguments will result in an error\n",
      "  warnings.warn(f\"Pass {args_msg} as keyword args. From version \"\n",
      "/N/u/mtavilda/Carbonate/.conda/envs/tag_pred/lib/python3.8/site-packages/sklearn/utils/validation.py:70: FutureWarning: Pass n_neighbors=2 as keyword args. From version 1.0 (renaming of 0.25) passing these as positional arguments will result in an error\n",
      "  warnings.warn(f\"Pass {args_msg} as keyword args. From version \"\n",
      "/N/u/mtavilda/Carbonate/.conda/envs/tag_pred/lib/python3.8/site-packages/sklearn/utils/validation.py:70: FutureWarning: Pass n_neighbors=2 as keyword args. From version 1.0 (renaming of 0.25) passing these as positional arguments will result in an error\n",
      "  warnings.warn(f\"Pass {args_msg} as keyword args. From version \"\n",
      "/N/u/mtavilda/Carbonate/.conda/envs/tag_pred/lib/python3.8/site-packages/sklearn/utils/validation.py:70: FutureWarning: Pass n_neighbors=2 as keyword args. From version 1.0 (renaming of 0.25) passing these as positional arguments will result in an error\n",
      "  warnings.warn(f\"Pass {args_msg} as keyword args. From version \"\n",
      "/N/u/mtavilda/Carbonate/.conda/envs/tag_pred/lib/python3.8/site-packages/sklearn/utils/validation.py:70: FutureWarning: Pass n_neighbors=2 as keyword args. From version 1.0 (renaming of 0.25) passing these as positional arguments will result in an error\n",
      "  warnings.warn(f\"Pass {args_msg} as keyword args. From version \"\n",
      "/N/u/mtavilda/Carbonate/.conda/envs/tag_pred/lib/python3.8/site-packages/sklearn/utils/validation.py:70: FutureWarning: Pass n_neighbors=2 as keyword args. From version 1.0 (renaming of 0.25) passing these as positional arguments will result in an error\n",
      "  warnings.warn(f\"Pass {args_msg} as keyword args. From version \"\n",
      "/N/u/mtavilda/Carbonate/.conda/envs/tag_pred/lib/python3.8/site-packages/sklearn/utils/validation.py:70: FutureWarning: Pass n_neighbors=2 as keyword args. From version 1.0 (renaming of 0.25) passing these as positional arguments will result in an error\n",
      "  warnings.warn(f\"Pass {args_msg} as keyword args. From version \"\n",
      "/N/u/mtavilda/Carbonate/.conda/envs/tag_pred/lib/python3.8/site-packages/sklearn/utils/validation.py:70: FutureWarning: Pass n_neighbors=2 as keyword args. From version 1.0 (renaming of 0.25) passing these as positional arguments will result in an error\n",
      "  warnings.warn(f\"Pass {args_msg} as keyword args. From version \"\n",
      "/N/u/mtavilda/Carbonate/.conda/envs/tag_pred/lib/python3.8/site-packages/sklearn/utils/validation.py:70: FutureWarning: Pass n_neighbors=2 as keyword args. From version 1.0 (renaming of 0.25) passing these as positional arguments will result in an error\n",
      "  warnings.warn(f\"Pass {args_msg} as keyword args. From version \"\n",
      "/N/u/mtavilda/Carbonate/.conda/envs/tag_pred/lib/python3.8/site-packages/sklearn/utils/validation.py:70: FutureWarning: Pass n_neighbors=2 as keyword args. From version 1.0 (renaming of 0.25) passing these as positional arguments will result in an error\n",
      "  warnings.warn(f\"Pass {args_msg} as keyword args. From version \"\n",
      "/N/u/mtavilda/Carbonate/.conda/envs/tag_pred/lib/python3.8/site-packages/sklearn/utils/validation.py:70: FutureWarning: Pass n_neighbors=2 as keyword args. From version 1.0 (renaming of 0.25) passing these as positional arguments will result in an error\n",
      "  warnings.warn(f\"Pass {args_msg} as keyword args. From version \"\n",
      "/N/u/mtavilda/Carbonate/.conda/envs/tag_pred/lib/python3.8/site-packages/sklearn/utils/validation.py:70: FutureWarning: Pass n_neighbors=2 as keyword args. From version 1.0 (renaming of 0.25) passing these as positional arguments will result in an error\n",
      "  warnings.warn(f\"Pass {args_msg} as keyword args. From version \"\n"
     ]
    },
    {
     "name": "stdout",
     "output_type": "stream",
     "text": [
      "training time taken:  98061.0 seconds\n"
     ]
    }
   ],
   "source": [
    "parameters = {'k': range(1,3), 's': [0.5, 0.7, 1.0]}\n",
    "score = 'f1_micro'\n",
    "\n",
    "start=time.time()\n",
    "\n",
    "classifier = GridSearchCV(MLkNN(), parameters, scoring=score)\n",
    "classifier.fit(questions,multilabel_y)\n",
    "print('training time taken: ',round(time.time()-start,0),'seconds')\n"
   ]
  },
  {
   "cell_type": "code",
   "execution_count": 50,
   "metadata": {
    "colab": {
     "base_uri": "https://localhost:8080/"
    },
    "id": "a81i_6_FaUJf",
    "outputId": "7ad037aa-6d8e-4263-9227-115eb61cf749"
   },
   "outputs": [
    {
     "name": "stdout",
     "output_type": "stream",
     "text": [
      "best parameters : {'k': 2, 's': 0.5} best score:  0.30983725334516005\n"
     ]
    }
   ],
   "source": [
    "print('best parameters :', classifier.best_params_,\n",
    "      'best score: ',classifier.best_score_)"
   ]
  }
 ],
 "metadata": {
  "accelerator": "GPU",
  "colab": {
   "collapsed_sections": [],
   "name": "Predicitingtags-StackOverflowdata-using MLkNN.ipynb",
   "provenance": []
  },
  "kernelspec": {
   "display_name": "Python 3",
   "language": "python",
   "name": "python3"
  },
  "language_info": {
   "codemirror_mode": {
    "name": "ipython",
    "version": 3
   },
   "file_extension": ".py",
   "mimetype": "text/x-python",
   "name": "python",
   "nbconvert_exporter": "python",
   "pygments_lexer": "ipython3",
   "version": "3.8.3"
  }
 },
 "nbformat": 4,
 "nbformat_minor": 1
}
